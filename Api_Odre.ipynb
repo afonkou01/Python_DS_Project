{
 "cells": [
  {
   "cell_type": "markdown",
   "id": "d93df167-3a4f-434a-b309-8573a1ecc645",
   "metadata": {},
   "source": [
    "# Importation des librairies"
   ]
  },
  {
   "cell_type": "code",
   "execution_count": 218,
   "id": "c4b52b31-33d5-4fb9-84fb-0d2d80123de9",
   "metadata": {},
   "outputs": [],
   "source": [
    "import pandas as pd\n",
    "import numpy as np\n",
    "import requests\n",
    "import cartiflette.s3 as s3\n",
    "import geopandas as gpd\n",
    "from shapely.geometry import shape\n",
    "from io import StringIO\n",
    "from sklearn.impute import KNNImputer"
   ]
  },
  {
   "cell_type": "markdown",
   "id": "3be42b2c-2388-4fc5-a08c-089c1fad2385",
   "metadata": {},
   "source": [
    "# Importation des bases"
   ]
  },
  {
   "cell_type": "markdown",
   "id": "3aa772fd-24f1-44f8-b14a-bc0e7c888e86",
   "metadata": {},
   "source": [
    "## Import des bases de données via API de l'OpenDataSoft"
   ]
  },
  {
   "cell_type": "markdown",
   "id": "5626348b-c5f4-498d-9b7c-f5dca7e0c69b",
   "metadata": {},
   "source": [
    "L'éxécution de la requête API prend assez de temps"
   ]
  },
  {
   "cell_type": "code",
   "execution_count": 219,
   "id": "faeb8ad9-b84f-4707-8730-cdc94fa6e93d",
   "metadata": {},
   "outputs": [],
   "source": [
    "def get_data_ODS(dataset_name):\n",
    "    \"\"\"\n",
    "    Fonction qui permet de récupérer des données via l'API d'OpenDataSoft\n",
    "    Elle retourne un dataframe\n",
    "    \n",
    "    \"\"\"\n",
    "    df = pd.DataFrame()\n",
    "    # URL de base pour accéder à l'API d'ODS\n",
    "    base_url_ODS = \"https://odre.opendatasoft.com/api/explore/v2.1\"\n",
    "    \n",
    "    dataset_path = f\"/catalog/datasets/{dataset_name}/exports/json?lang=fr&timezone=Europe%2FBerlin\"\n",
    "    url = f\"{base_url_ODS}{dataset_path}\"\n",
    "    \n",
    "    # Exécution de la requête GET\n",
    "    \n",
    "    response = requests.get(url)\n",
    "    # Vérification si la requête a réussi\n",
    "    if response.status_code == 200:\n",
    "        # Extraction des données\n",
    "        data = response.json()\n",
    "        # Conversion des résultats en DataFrame\n",
    "        df = pd.DataFrame(data)\n",
    "    else:\n",
    "        print(f\"Erreur lors de la requête: {response.status_code}\")\n",
    "\n",
    "    return df\n",
    "\n",
    "\n",
    "def get_data_ODSW(dataset_name, output = \"json\"):\n",
    "    \"\"\"\n",
    "    Fonction qui permet de récupérer des données via l'API  publique d'OpenDataSoft\n",
    "    Elle retourne un dataframe\n",
    "    \n",
    "    \"\"\"\n",
    "    df = pd.DataFrame()\n",
    "    # URL de base pour accéder à l'API d'ODS\n",
    "    base_url_ODS = \"https://public.opendatasoft.com/api/explore/v2.1\"\n",
    "    \n",
    "    dataset_path = f\"/catalog/datasets/{dataset_name}/exports/{output}?lang=fr&timezone=Europe%2FBerlin\"\n",
    "    url = f\"{base_url_ODS}{dataset_path}\"\n",
    "    \n",
    "    # Exécution de la requête GET\n",
    "    response = requests.get(url)\n",
    "    # Vérification si la requête a réussi\n",
    "    if response.status_code == 200:\n",
    "        # Extraction des données\n",
    "        if output == \"json\":\n",
    "            data = response.json()\n",
    "            # Conversion des résultats en DataFrame\n",
    "            df = pd.DataFrame(data)\n",
    "        else:\n",
    "            data = response.json()\n",
    "            geometries = [shape(feature['geometry']) for feature in data['features']]\n",
    "            properties = [feature['properties'] for feature in data['features']]\n",
    "    \n",
    "            # Créer un GeoDataFrame en combinant les géométries et les propriétés\n",
    "            df = gpd.GeoDataFrame(geometry=geometries, data=properties)\n",
    "    else:\n",
    "        print(f\"Erreur lors de la requête: {response.status_code}\")\n",
    "\n",
    "    return df"
   ]
  },
  {
   "cell_type": "code",
   "execution_count": 4,
   "id": "5d8d74c6-f322-441a-a073-68fc6f65b06c",
   "metadata": {},
   "outputs": [],
   "source": [
    "consumption_dataset_name = \"consommation-quotidienne-brute-regionale\"\n",
    "weather_dataset_name = \"donnees-synop-essentielles-omm\"\n",
    "#geographic_dataset_name = \"georef-france-commune\"\n",
    "holiday_dataset_name = \"jours-ouvres-week-end-feries-france-2010-a-2030\"\n",
    "data_consumption = get_data_ODS(consumption_dataset_name)\n",
    "data_weather = get_data_ODSW(weather_dataset_name)\n",
    "#data_geo = get_data_ODSW(geographic_dataset_name, output=\"geojson\")\n",
    "holiday_dataset = get_data_ODSW(holiday_dataset_name)"
   ]
  },
  {
   "cell_type": "markdown",
   "id": "a9c38c7d-5a4c-47b4-9b18-dbb91dee507a",
   "metadata": {},
   "source": [
    "On traite les colonnes du dataset geographique pour enregistrer les données sous format GeoJson"
   ]
  },
  {
   "cell_type": "code",
   "execution_count": 31,
   "id": "f0ee6256-f660-427a-8864-7360295c35b4",
   "metadata": {
    "collapsed": true,
    "jupyter": {
     "outputs_hidden": true
    }
   },
   "outputs": [
    {
     "data": {
      "text/html": [
       "<div>\n",
       "<style scoped>\n",
       "    .dataframe tbody tr th:only-of-type {\n",
       "        vertical-align: middle;\n",
       "    }\n",
       "\n",
       "    .dataframe tbody tr th {\n",
       "        vertical-align: top;\n",
       "    }\n",
       "\n",
       "    .dataframe thead th {\n",
       "        text-align: right;\n",
       "    }\n",
       "</style>\n",
       "<table border=\"1\" class=\"dataframe\">\n",
       "  <thead>\n",
       "    <tr style=\"text-align: right;\">\n",
       "      <th></th>\n",
       "      <th>geo_point_2d</th>\n",
       "      <th>year</th>\n",
       "      <th>reg_code</th>\n",
       "      <th>reg_name</th>\n",
       "      <th>dep_code</th>\n",
       "      <th>dep_name</th>\n",
       "      <th>geometry</th>\n",
       "    </tr>\n",
       "  </thead>\n",
       "  <tbody>\n",
       "    <tr>\n",
       "      <th>0</th>\n",
       "      <td>{'lon': 4.186473859960533, 'lat': 48.520816933...</td>\n",
       "      <td>2023</td>\n",
       "      <td>44</td>\n",
       "      <td>GrandEst</td>\n",
       "      <td>10</td>\n",
       "      <td>Aube</td>\n",
       "      <td>POLYGON ((4.18730 48.54392, 4.18724 48.54250, ...</td>\n",
       "    </tr>\n",
       "    <tr>\n",
       "      <th>1</th>\n",
       "      <td>{'lon': 4.598596436015939, 'lat': 48.306537350...</td>\n",
       "      <td>2023</td>\n",
       "      <td>44</td>\n",
       "      <td>GrandEst</td>\n",
       "      <td>10</td>\n",
       "      <td>Aube</td>\n",
       "      <td>POLYGON ((4.62567 48.32423, 4.62429 48.32356, ...</td>\n",
       "    </tr>\n",
       "    <tr>\n",
       "      <th>2</th>\n",
       "      <td>{'lon': 4.6153344590215, 'lat': 48.44294278327...</td>\n",
       "      <td>2023</td>\n",
       "      <td>44</td>\n",
       "      <td>GrandEst</td>\n",
       "      <td>10</td>\n",
       "      <td>Aube</td>\n",
       "      <td>POLYGON ((4.63562 48.45660, 4.63535 48.45667, ...</td>\n",
       "    </tr>\n",
       "    <tr>\n",
       "      <th>3</th>\n",
       "      <td>{'lon': 3.8349133102621433, 'lat': 48.10864367...</td>\n",
       "      <td>2023</td>\n",
       "      <td>44</td>\n",
       "      <td>GrandEst</td>\n",
       "      <td>10</td>\n",
       "      <td>Aube</td>\n",
       "      <td>POLYGON ((3.80166 48.10673, 3.80124 48.10597, ...</td>\n",
       "    </tr>\n",
       "    <tr>\n",
       "      <th>4</th>\n",
       "      <td>{'lon': 1.8228167609346886, 'lat': 43.33065948...</td>\n",
       "      <td>2023</td>\n",
       "      <td>76</td>\n",
       "      <td>Occitanie</td>\n",
       "      <td>11</td>\n",
       "      <td>Aude</td>\n",
       "      <td>POLYGON ((1.83985 43.32973, 1.83966 43.32982, ...</td>\n",
       "    </tr>\n",
       "  </tbody>\n",
       "</table>\n",
       "</div>"
      ],
      "text/plain": [
       "                                        geo_point_2d  year reg_code  \\\n",
       "0  {'lon': 4.186473859960533, 'lat': 48.520816933...  2023       44   \n",
       "1  {'lon': 4.598596436015939, 'lat': 48.306537350...  2023       44   \n",
       "2  {'lon': 4.6153344590215, 'lat': 48.44294278327...  2023       44   \n",
       "3  {'lon': 3.8349133102621433, 'lat': 48.10864367...  2023       44   \n",
       "4  {'lon': 1.8228167609346886, 'lat': 43.33065948...  2023       76   \n",
       "\n",
       "    reg_name dep_code dep_name  \\\n",
       "0   GrandEst       10     Aube   \n",
       "1   GrandEst       10     Aube   \n",
       "2   GrandEst       10     Aube   \n",
       "3   GrandEst       10     Aube   \n",
       "4  Occitanie       11     Aude   \n",
       "\n",
       "                                            geometry  \n",
       "0  POLYGON ((4.18730 48.54392, 4.18724 48.54250, ...  \n",
       "1  POLYGON ((4.62567 48.32423, 4.62429 48.32356, ...  \n",
       "2  POLYGON ((4.63562 48.45660, 4.63535 48.45667, ...  \n",
       "3  POLYGON ((3.80166 48.10673, 3.80124 48.10597, ...  \n",
       "4  POLYGON ((1.83985 43.32973, 1.83966 43.32982, ...  "
      ]
     },
     "execution_count": 31,
     "metadata": {},
     "output_type": "execute_result"
    }
   ],
   "source": [
    "#On recupère les colonnes importantes de la base de données\n",
    "#geo_cols = ['geo_point_2d', 'year', 'reg_code', 'reg_name', 'dep_code', 'dep_name','geometry']\n",
    "#data_geo = data_geo[geo_cols]\n",
    "#treated_geo_cols = ['year', 'reg_code', 'reg_name', 'dep_code', 'dep_name']\n",
    "##On effectue un nettoyage des données contenues dans les colonnes\n",
    "#data_geo[treated_geo_cols] = data_geo[treated_geo_cols].applymap(lambda x: x.replace('[', '').replace(']', '') if isinstance(x, str) else x)\n",
    "#data_geo[treated_geo_cols] = data_geo[treated_geo_cols].applymap(lambda x: ''.join(filter(lambda char: char.isalnum() or char in ['_', '-', '@', '#'], str(x))))"
   ]
  },
  {
   "cell_type": "code",
   "execution_count": 34,
   "id": "68838481-cf7f-476f-b12e-7150cf6ab690",
   "metadata": {},
   "outputs": [],
   "source": []
  },
  {
   "cell_type": "code",
   "execution_count": null,
   "id": "dde39729-8b6c-4a30-a968-38b657320108",
   "metadata": {},
   "outputs": [],
   "source": []
  },
  {
   "cell_type": "markdown",
   "id": "141686b4-b2b5-437c-8f54-091c57ebb1b2",
   "metadata": {},
   "source": [
    "## Import d'une base de données complémentaire (celle des régions, communes, et départements de France"
   ]
  },
  {
   "cell_type": "markdown",
   "id": "b536b75e-663d-455e-b2e2-256c720fcfeb",
   "metadata": {},
   "source": [
    "Cette importation va se faire à travers une requête via l'API de Datagouv"
   ]
  },
  {
   "cell_type": "code",
   "execution_count": 220,
   "id": "7aeb4c0a-3957-4c20-af9d-b1ee19b5ad12",
   "metadata": {},
   "outputs": [],
   "source": [
    "#Identifiant du dataset\n",
    "dataset_id = \"4a7c837bb6da8e363604082bcc8b2e504cf08038\"\n",
    "dataset_sha1 = \"dbe8a621-a9c4-4bc3-9cae-be1699c5ff25\"\n",
    "\n",
    "# URL de base pour accéder à l'API\n",
    "base_url = \"https://www.data.gouv.fr/api/1/\"\n",
    "\n",
    "# Chemin pour accéder aux enregistrements du dataset\n",
    "dataset_path = f\"datasets/r/{dataset_sha1}?dataset={dataset_id}\"\n",
    "\n",
    "# Construction de l'URL complète\n",
    "url = f\"{base_url}{dataset_path}\"\n",
    "\n",
    "# Exécution de la requête GET\n",
    "response = requests.get(url)\n",
    "\n",
    "# Vérification si la requête a réussi\n",
    "if response.status_code == 200:\n",
    "    # Lecture du contenu CSV\n",
    "    data_communes = pd.read_csv(StringIO(response.content.decode('utf-8')))\n",
    "else:\n",
    "    print(f\"Erreur lors de la requête: {response.status_code}\")"
   ]
  },
  {
   "cell_type": "markdown",
   "id": "439cde19-5119-4f8b-ad43-4aa52a258015",
   "metadata": {},
   "source": [
    "On enregistre la base pour ne plus avoir à éxécuter la requête API à chaque étape"
   ]
  },
  {
   "cell_type": "code",
   "execution_count": 6,
   "id": "acbfbde4-e940-4de5-ac12-85fb9ab6f0db",
   "metadata": {},
   "outputs": [],
   "source": [
    "data_consumption.to_csv('data_consumption.csv', index=False)\n",
    "data_communes.to_csv('data_communes.csv', index=False)\n",
    "data_weather.to_csv('data_weather.csv', index = False)\n",
    "#data_geo.to_file(\"data_geo.geojson\", driver='GeoJSON')"
   ]
  },
  {
   "cell_type": "code",
   "execution_count": 221,
   "id": "4fe2b984-6df1-4418-9d2f-0de22d555a2a",
   "metadata": {
    "scrolled": true
   },
   "outputs": [],
   "source": [
    "data_consumption = pd.read_csv('data_consumption.csv')\n",
    "data_communes = pd.read_csv('data_communes.csv')\n",
    "data_weather = pd.read_csv('data_weather.csv')\n",
    "#data_geo = gpd.read_file(\"data_geo.geojson\")"
   ]
  },
  {
   "cell_type": "code",
   "execution_count": 222,
   "id": "efcbacfe-833d-4cc9-9ba9-ee42757fc6d8",
   "metadata": {},
   "outputs": [
    {
     "name": "stdout",
     "output_type": "stream",
     "text": [
      "https://minio.lab.sspcloud.fr/projet-cartiflette/diffusion/shapefiles-test1/year=2022/administrative_level=DEPARTEMENT/crs=4326/FRANCE_ENTIERE=metropole/vectorfile_format=topojson/provider=IGN/source=EXPRESS-COG-CARTO-TERRITOIRE/raw.topojson\n"
     ]
    },
    {
     "name": "stderr",
     "output_type": "stream",
     "text": [
      "Downloading: : 7.17MiB [00:00, 83.3MiB/s]\n"
     ]
    }
   ],
   "source": [
    "dep = s3.download_vectorfile_url_all(\n",
    "    values = \"metropole\",\n",
    "    crs = 4326,\n",
    "    borders = \"DEPARTEMENT\",\n",
    "    vectorfile_format=\"topojson\",\n",
    "    filter_by=\"FRANCE_ENTIERE\",\n",
    "    source=\"EXPRESS-COG-CARTO-TERRITOIRE\",\n",
    "    year=2022)"
   ]
  },
  {
   "cell_type": "markdown",
   "id": "e8731d52-7614-4678-8ea2-d7986fc8708f",
   "metadata": {},
   "source": [
    "Les dataframes de consommation et météorologiques  étant sous forme de séries temporelles, on place les dates en index."
   ]
  },
  {
   "cell_type": "code",
   "execution_count": 223,
   "id": "64d8baac-cf50-44c6-ae2d-47dd2ebc0c11",
   "metadata": {},
   "outputs": [],
   "source": [
    "data_consumption['date'] = pd.to_datetime(data_consumption['date'])\n",
    "data_consumption.set_index('date', inplace=True)"
   ]
  },
  {
   "cell_type": "code",
   "execution_count": 224,
   "id": "b28c0206-c806-4a8c-a5ce-816c941c2353",
   "metadata": {},
   "outputs": [
    {
     "data": {
      "text/html": [
       "<div>\n",
       "<style scoped>\n",
       "    .dataframe tbody tr th:only-of-type {\n",
       "        vertical-align: middle;\n",
       "    }\n",
       "\n",
       "    .dataframe tbody tr th {\n",
       "        vertical-align: top;\n",
       "    }\n",
       "\n",
       "    .dataframe thead th {\n",
       "        text-align: right;\n",
       "    }\n",
       "</style>\n",
       "<table border=\"1\" class=\"dataframe\">\n",
       "  <thead>\n",
       "    <tr style=\"text-align: right;\">\n",
       "      <th></th>\n",
       "      <th>date_heure</th>\n",
       "      <th>heure</th>\n",
       "      <th>code_insee_region</th>\n",
       "      <th>region</th>\n",
       "      <th>consommation_brute_gaz_grtgaz</th>\n",
       "      <th>statut_grtgaz</th>\n",
       "      <th>consommation_brute_gaz_terega</th>\n",
       "      <th>statut_terega</th>\n",
       "      <th>consommation_brute_gaz_totale</th>\n",
       "      <th>consommation_brute_electricite_rte</th>\n",
       "      <th>statut_rte</th>\n",
       "      <th>consommation_brute_totale</th>\n",
       "    </tr>\n",
       "    <tr>\n",
       "      <th>date</th>\n",
       "      <th></th>\n",
       "      <th></th>\n",
       "      <th></th>\n",
       "      <th></th>\n",
       "      <th></th>\n",
       "      <th></th>\n",
       "      <th></th>\n",
       "      <th></th>\n",
       "      <th></th>\n",
       "      <th></th>\n",
       "      <th></th>\n",
       "      <th></th>\n",
       "    </tr>\n",
       "  </thead>\n",
       "  <tbody>\n",
       "    <tr>\n",
       "      <th>2019-02-01</th>\n",
       "      <td>2019-02-01T06:00:00+01:00</td>\n",
       "      <td>06:00</td>\n",
       "      <td>27</td>\n",
       "      <td>Bourgogne-Franche-Comté</td>\n",
       "      <td>5053.0</td>\n",
       "      <td>Définitif</td>\n",
       "      <td>NaN</td>\n",
       "      <td>NaN</td>\n",
       "      <td>5053.0</td>\n",
       "      <td>3052</td>\n",
       "      <td>Définitif</td>\n",
       "      <td>8105.0</td>\n",
       "    </tr>\n",
       "    <tr>\n",
       "      <th>2019-02-01</th>\n",
       "      <td>2019-02-01T07:00:00+01:00</td>\n",
       "      <td>07:00</td>\n",
       "      <td>24</td>\n",
       "      <td>Centre-Val de Loire</td>\n",
       "      <td>4079.0</td>\n",
       "      <td>Définitif</td>\n",
       "      <td>NaN</td>\n",
       "      <td>NaN</td>\n",
       "      <td>4079.0</td>\n",
       "      <td>3117</td>\n",
       "      <td>Définitif</td>\n",
       "      <td>7196.0</td>\n",
       "    </tr>\n",
       "    <tr>\n",
       "      <th>2019-02-01</th>\n",
       "      <td>2019-02-01T07:00:00+01:00</td>\n",
       "      <td>07:00</td>\n",
       "      <td>52</td>\n",
       "      <td>Pays de la Loire</td>\n",
       "      <td>5795.0</td>\n",
       "      <td>Définitif</td>\n",
       "      <td>NaN</td>\n",
       "      <td>NaN</td>\n",
       "      <td>5795.0</td>\n",
       "      <td>4646</td>\n",
       "      <td>Définitif</td>\n",
       "      <td>10441.0</td>\n",
       "    </tr>\n",
       "    <tr>\n",
       "      <th>2019-02-01</th>\n",
       "      <td>2019-02-01T07:30:00+01:00</td>\n",
       "      <td>07:30</td>\n",
       "      <td>24</td>\n",
       "      <td>Centre-Val de Loire</td>\n",
       "      <td>NaN</td>\n",
       "      <td>NaN</td>\n",
       "      <td>NaN</td>\n",
       "      <td>NaN</td>\n",
       "      <td>NaN</td>\n",
       "      <td>3252</td>\n",
       "      <td>Définitif</td>\n",
       "      <td>NaN</td>\n",
       "    </tr>\n",
       "    <tr>\n",
       "      <th>2019-02-01</th>\n",
       "      <td>2019-02-01T07:30:00+01:00</td>\n",
       "      <td>07:30</td>\n",
       "      <td>28</td>\n",
       "      <td>Normandie</td>\n",
       "      <td>NaN</td>\n",
       "      <td>NaN</td>\n",
       "      <td>NaN</td>\n",
       "      <td>NaN</td>\n",
       "      <td>NaN</td>\n",
       "      <td>4911</td>\n",
       "      <td>Définitif</td>\n",
       "      <td>NaN</td>\n",
       "    </tr>\n",
       "  </tbody>\n",
       "</table>\n",
       "</div>"
      ],
      "text/plain": [
       "                           date_heure  heure  code_insee_region  \\\n",
       "date                                                              \n",
       "2019-02-01  2019-02-01T06:00:00+01:00  06:00                 27   \n",
       "2019-02-01  2019-02-01T07:00:00+01:00  07:00                 24   \n",
       "2019-02-01  2019-02-01T07:00:00+01:00  07:00                 52   \n",
       "2019-02-01  2019-02-01T07:30:00+01:00  07:30                 24   \n",
       "2019-02-01  2019-02-01T07:30:00+01:00  07:30                 28   \n",
       "\n",
       "                             region  consommation_brute_gaz_grtgaz  \\\n",
       "date                                                                 \n",
       "2019-02-01  Bourgogne-Franche-Comté                         5053.0   \n",
       "2019-02-01      Centre-Val de Loire                         4079.0   \n",
       "2019-02-01         Pays de la Loire                         5795.0   \n",
       "2019-02-01      Centre-Val de Loire                            NaN   \n",
       "2019-02-01                Normandie                            NaN   \n",
       "\n",
       "           statut_grtgaz  consommation_brute_gaz_terega statut_terega  \\\n",
       "date                                                                    \n",
       "2019-02-01     Définitif                            NaN           NaN   \n",
       "2019-02-01     Définitif                            NaN           NaN   \n",
       "2019-02-01     Définitif                            NaN           NaN   \n",
       "2019-02-01           NaN                            NaN           NaN   \n",
       "2019-02-01           NaN                            NaN           NaN   \n",
       "\n",
       "            consommation_brute_gaz_totale  consommation_brute_electricite_rte  \\\n",
       "date                                                                            \n",
       "2019-02-01                         5053.0                                3052   \n",
       "2019-02-01                         4079.0                                3117   \n",
       "2019-02-01                         5795.0                                4646   \n",
       "2019-02-01                            NaN                                3252   \n",
       "2019-02-01                            NaN                                4911   \n",
       "\n",
       "           statut_rte  consommation_brute_totale  \n",
       "date                                              \n",
       "2019-02-01  Définitif                     8105.0  \n",
       "2019-02-01  Définitif                     7196.0  \n",
       "2019-02-01  Définitif                    10441.0  \n",
       "2019-02-01  Définitif                        NaN  \n",
       "2019-02-01  Définitif                        NaN  "
      ]
     },
     "execution_count": 224,
     "metadata": {},
     "output_type": "execute_result"
    }
   ],
   "source": [
    "data_consumption.head()"
   ]
  },
  {
   "cell_type": "markdown",
   "id": "b10f8817-cd45-47be-b18a-19fc8041b84d",
   "metadata": {},
   "source": [
    "Choix de l'année"
   ]
  },
  {
   "cell_type": "code",
   "execution_count": 225,
   "id": "f8effe5b-2e3b-4e55-b051-69bbf0e94c77",
   "metadata": {},
   "outputs": [],
   "source": [
    "annee_choisie = 2022\n",
    "data_consumption = data_consumption[data_consumption.index.year == annee_choisie]\n"
   ]
  },
  {
   "cell_type": "code",
   "execution_count": 226,
   "id": "7236e78c-1896-4c2e-a4cc-fdaf6d9015c0",
   "metadata": {},
   "outputs": [
    {
     "data": {
      "text/html": [
       "<div>\n",
       "<style scoped>\n",
       "    .dataframe tbody tr th:only-of-type {\n",
       "        vertical-align: middle;\n",
       "    }\n",
       "\n",
       "    .dataframe tbody tr th {\n",
       "        vertical-align: top;\n",
       "    }\n",
       "\n",
       "    .dataframe thead th {\n",
       "        text-align: right;\n",
       "    }\n",
       "</style>\n",
       "<table border=\"1\" class=\"dataframe\">\n",
       "  <thead>\n",
       "    <tr style=\"text-align: right;\">\n",
       "      <th></th>\n",
       "      <th>code_commune_INSEE</th>\n",
       "      <th>code_commune</th>\n",
       "    </tr>\n",
       "  </thead>\n",
       "  <tbody>\n",
       "    <tr>\n",
       "      <th>0</th>\n",
       "      <td>1001</td>\n",
       "      <td>1.0</td>\n",
       "    </tr>\n",
       "    <tr>\n",
       "      <th>1</th>\n",
       "      <td>1002</td>\n",
       "      <td>2.0</td>\n",
       "    </tr>\n",
       "    <tr>\n",
       "      <th>2</th>\n",
       "      <td>1004</td>\n",
       "      <td>4.0</td>\n",
       "    </tr>\n",
       "    <tr>\n",
       "      <th>3</th>\n",
       "      <td>1005</td>\n",
       "      <td>5.0</td>\n",
       "    </tr>\n",
       "    <tr>\n",
       "      <th>4</th>\n",
       "      <td>1006</td>\n",
       "      <td>6.0</td>\n",
       "    </tr>\n",
       "    <tr>\n",
       "      <th>...</th>\n",
       "      <td>...</td>\n",
       "      <td>...</td>\n",
       "    </tr>\n",
       "    <tr>\n",
       "      <th>39196</th>\n",
       "      <td>98831</td>\n",
       "      <td>831.0</td>\n",
       "    </tr>\n",
       "    <tr>\n",
       "      <th>39197</th>\n",
       "      <td>98832</td>\n",
       "      <td>832.0</td>\n",
       "    </tr>\n",
       "    <tr>\n",
       "      <th>39198</th>\n",
       "      <td>98833</td>\n",
       "      <td>833.0</td>\n",
       "    </tr>\n",
       "    <tr>\n",
       "      <th>39199</th>\n",
       "      <td>98901</td>\n",
       "      <td>901.0</td>\n",
       "    </tr>\n",
       "    <tr>\n",
       "      <th>39200</th>\n",
       "      <td>99138</td>\n",
       "      <td>138.0</td>\n",
       "    </tr>\n",
       "  </tbody>\n",
       "</table>\n",
       "<p>39201 rows × 2 columns</p>\n",
       "</div>"
      ],
      "text/plain": [
       "      code_commune_INSEE  code_commune\n",
       "0                   1001           1.0\n",
       "1                   1002           2.0\n",
       "2                   1004           4.0\n",
       "3                   1005           5.0\n",
       "4                   1006           6.0\n",
       "...                  ...           ...\n",
       "39196              98831         831.0\n",
       "39197              98832         832.0\n",
       "39198              98833         833.0\n",
       "39199              98901         901.0\n",
       "39200              99138         138.0\n",
       "\n",
       "[39201 rows x 2 columns]"
      ]
     },
     "execution_count": 226,
     "metadata": {},
     "output_type": "execute_result"
    }
   ],
   "source": [
    "data_communes[['code_commune_INSEE', 'code_commune']]"
   ]
  },
  {
   "cell_type": "code",
   "execution_count": 227,
   "id": "39f82213-eb2c-47f7-87ce-91b4486a89e7",
   "metadata": {
    "scrolled": true
   },
   "outputs": [
    {
     "data": {
      "text/plain": [
       "heure                                 0\n",
       "code_insee_region                     0\n",
       "region                                0\n",
       "consommation_brute_electricite_rte    0\n",
       "dtype: int64"
      ]
     },
     "execution_count": 227,
     "metadata": {},
     "output_type": "execute_result"
    }
   ],
   "source": [
    "col_del = pd.Index(['date_heure', 'consommation_brute_gaz_grtgaz', 'statut_grtgaz', 'consommation_brute_gaz_terega', 'statut_terega','consommation_brute_gaz_totale','statut_rte', 'consommation_brute_totale'])\n",
    "data_consumption.drop(col_del, axis=1,inplace=True)\n",
    "data_consumption.isna().sum()"
   ]
  },
  {
   "cell_type": "markdown",
   "id": "62b8c7cb-badf-4d28-94e9-f72d8ece5f11",
   "metadata": {},
   "source": [
    "## Aggrégation des consommations par date et par région"
   ]
  },
  {
   "cell_type": "code",
   "execution_count": 228,
   "id": "f5c4c237-d1bd-4bc0-ad74-c5406abd1155",
   "metadata": {},
   "outputs": [],
   "source": [
    "data_consumption1 = data_consumption.groupby(['code_insee_region','date'], as_index = False)\n",
    "data_consumption2 = data_consumption.groupby(['code_insee_region','date','heure'], as_index = False)"
   ]
  },
  {
   "cell_type": "code",
   "execution_count": 229,
   "id": "fb2cbf64-f398-43b7-a152-fd184f76c8e2",
   "metadata": {},
   "outputs": [],
   "source": [
    "data_consumption1 = data_consumption1['consommation_brute_electricite_rte'].sum()\n",
    "data_consumption2 = data_consumption2['consommation_brute_electricite_rte'].sum()"
   ]
  },
  {
   "cell_type": "code",
   "execution_count": 230,
   "id": "1fdc6435-19e3-499a-a0dc-45acb2a7855b",
   "metadata": {
    "scrolled": true
   },
   "outputs": [
    {
     "data": {
      "text/html": [
       "<div>\n",
       "<style scoped>\n",
       "    .dataframe tbody tr th:only-of-type {\n",
       "        vertical-align: middle;\n",
       "    }\n",
       "\n",
       "    .dataframe tbody tr th {\n",
       "        vertical-align: top;\n",
       "    }\n",
       "\n",
       "    .dataframe thead th {\n",
       "        text-align: right;\n",
       "    }\n",
       "</style>\n",
       "<table border=\"1\" class=\"dataframe\">\n",
       "  <thead>\n",
       "    <tr style=\"text-align: right;\">\n",
       "      <th></th>\n",
       "      <th>code_insee_region</th>\n",
       "      <th>consommation_brute_electricite_rte</th>\n",
       "    </tr>\n",
       "  </thead>\n",
       "  <tbody>\n",
       "    <tr>\n",
       "      <th>0</th>\n",
       "      <td>11</td>\n",
       "      <td>345462</td>\n",
       "    </tr>\n",
       "    <tr>\n",
       "      <th>1</th>\n",
       "      <td>11</td>\n",
       "      <td>356965</td>\n",
       "    </tr>\n",
       "    <tr>\n",
       "      <th>2</th>\n",
       "      <td>11</td>\n",
       "      <td>414973</td>\n",
       "    </tr>\n",
       "    <tr>\n",
       "      <th>3</th>\n",
       "      <td>11</td>\n",
       "      <td>429347</td>\n",
       "    </tr>\n",
       "    <tr>\n",
       "      <th>4</th>\n",
       "      <td>11</td>\n",
       "      <td>484779</td>\n",
       "    </tr>\n",
       "  </tbody>\n",
       "</table>\n",
       "</div>"
      ],
      "text/plain": [
       "   code_insee_region  consommation_brute_electricite_rte\n",
       "0                 11                              345462\n",
       "1                 11                              356965\n",
       "2                 11                              414973\n",
       "3                 11                              429347\n",
       "4                 11                              484779"
      ]
     },
     "execution_count": 230,
     "metadata": {},
     "output_type": "execute_result"
    }
   ],
   "source": [
    "data_consumption1.head()"
   ]
  },
  {
   "cell_type": "markdown",
   "id": "55be667d-c786-42b6-867e-6f2748029cc7",
   "metadata": {},
   "source": [
    "### Calcul des superficies par département"
   ]
  },
  {
   "cell_type": "markdown",
   "id": "9f87075d-3dce-4b78-bcae-f908bcb89323",
   "metadata": {},
   "source": [
    "### Calcul de la superficie"
   ]
  },
  {
   "cell_type": "code",
   "execution_count": 231,
   "id": "28a4a3c3-95f4-4d3b-a362-cc6af676b631",
   "metadata": {},
   "outputs": [],
   "source": [
    "## On divise par par 1e6 pour obtenir la superficie par commune en km²\n",
    "#data_geo['superficie_comm'] = data_geo['geometry'].area / 1e6  \n",
    "#\n",
    "##On fait un regroupement par département, et on calcule la superficie par département en sommant les autres superficies\n",
    "#data_geo['superficie_dep'] = data_geo.groupby('dep_code')['superficie_comm'].transform('sum')\n",
    "dep[\"superficie\"] = dep.to_crs(2154).area"
   ]
  },
  {
   "cell_type": "code",
   "execution_count": null,
   "id": "79a52021-dd9d-495d-b08f-241751a669e8",
   "metadata": {},
   "outputs": [],
   "source": []
  },
  {
   "cell_type": "markdown",
   "id": "befe6e28-4e9f-4611-9d33-50cf2cf7ae6e",
   "metadata": {},
   "source": [
    "### Traitement de la base weather"
   ]
  },
  {
   "cell_type": "code",
   "execution_count": 232,
   "id": "b28e9f41-7ccc-4f02-afa2-0fae34b41d30",
   "metadata": {},
   "outputs": [],
   "source": [
    "nouveaux_noms_colonnes={'numer_sta':'num_station', 'date':'date_UTC', 'pmer':'pression_mer', 'tend':'variation_pression_3h', 'cod_tend':'type_tendance_baro', 'dd':'direction_vent', 'ff':'vitesse_vent', 't':'temperature', 'td':'point_de_rosee',\n",
    "       'u':'humidite', 'vv':'visibilite_horizontale', 'ww':'temps_present', 'w1':'temps_passe_1', 'w2':'temps_passe_2', 'n':'nebulosite_totale', 'nbas':'nebulosite_nuage_etage_inf', 'hbas':'hauteur_base_nuage_etage_inf', 'cl':'type_nuage_etage_inf', 'cm':'type_nuage_etage_moyen', 'ch':'type_nuage_etage_sup',\n",
    "       'pres':'pression_station', 'niv_bar':'niveau_barometriq', 'geop':'geopotentiel', 'tend24':'variation_pression_24h', 'tn12':'temperature_min_sur_12h', 'tn24':'temperature_min_sur_24h', 'tx12':'temperature_max_sur_12h', 'tx24':'temperature_max_sur_24h',\n",
    "       'tminsol':'temperature_min_sol_sur_12h', 'sw':'methode_mesure_temperature_thermometre_mouille', 'tw':'temperature_thermometre_mouille', 'raf10':'rafales_10_dernieres_minutes', 'rafper':'rafales_sur_une_periode', 'per':'periode_mesure_rafales', 'etat_sol':'etat_du_sol', 'ht_neige':'hauteur_totale_couche_neige/glace_au_sol',\n",
    "       'ssfrai':'hauteur_neige_fraiche', 'perssfrai':'periode_mesure_neige_fraiche', 'rr1':'precipitation_dans_1_derniere_heure', 'rr3':'precipitation_dans_3_derniere_heure', 'rr6':'precipitation_dans_6_derniere_heure', 'rr12':'precipitation_dans_12_derniere_heure', 'rr24':'precipitation_dans_24_derniere_heure', 'phenspe1':'phenomene_special_1',\n",
    "       'phenspe2':'phenomene_special_2', 'phenspe3':'phenomene_special_3', 'phenspe4':'phenomene_special_4', 'nnuage1':'nebulosite_couche_nuageuse_1', 'ctype1':'type_de_nuage_1', 'hnuage1':'hauteur_de_base_nuage_1',\n",
    "       'nnuage2':'nebulosite_couche_nuageuse_2', 'ctype2':'type_de_nuage_2', 'hnuage2':'hauteur_de_base_nuage_2', 'nnuage3':'nebulosite_couche_nuageuse_3', 'ctype3':'type_de_nuage_3', 'hnuage3':'hauteur_de_base_nuage_3',\n",
    "       'nnuage4':'nebulosite_couche_nuageuse_4', 'ctype4':'type_de_nuage_4', 'hnuage4':'hauteur_de_base_nuage_4', 'coordonnees':'coordonnees', 'nom':'nom_commune',\n",
    "       'type_de_tendance_barometrique':'type_de_tendance_barometrique', 'temps_passe_1':'temps_passe_1', 'temps_present':'temps_present', 'tc':'temperature_degre_celcius',\n",
    "       'tn12c':'temperature_celcius_min_sur_12h', 'tn24c':'temperature_celcius_min_sur_24h', 'tx12c':'temperature_celcius_max_sur_12h', 'tx24c':'temperature_celcius_max_sur_24h', 'tminsolc':'temperature_celcius_min_sol_sur_12h', 'latitude':'latitude', 'longitude':'longitude',\n",
    "       'altitude':'altitude', 'libgeo':'libelle_geolocalisation', 'codegeo':'code_geolocalisation', 'nom_epci':'nom_EPCI', 'code_epci':'code_EPCI', 'nom_dept':'nom_departement',\n",
    "       'code_dep':'code_departement', 'nom_reg':'nom_region', 'code_reg':'code_region', 'mois_de_l_annee':'mois'}"
   ]
  },
  {
   "cell_type": "code",
   "execution_count": 384,
   "id": "2838381c-650f-4027-9c14-a7829ab5a5d6",
   "metadata": {},
   "outputs": [],
   "source": [
    "base_meteo_modifie_1 = data_weather.rename(columns=nouveaux_noms_colonnes)"
   ]
  },
  {
   "cell_type": "markdown",
   "id": "28fc70ba-bc90-4192-9483-95f63ee33cb4",
   "metadata": {},
   "source": [
    "## Identification des variables météoroliques à retenir"
   ]
  },
  {
   "cell_type": "markdown",
   "id": "8b7439de-34e7-4582-abf3-20564f0d48c1",
   "metadata": {},
   "source": [
    "Il est question d'identifier les les variables météorologiques se reférant aux espects retenus Après une revue de la littérature:\n",
    "* __Température :__ les variables identifiées sont la température en degré celcius ('temperature_degre_celcius'), la température minimale sur les 24 dernières heures ('temperature_celcius_min_sur_24h'), et la température maximale sur les 24 dernières heures ('temperature_celcius_max_sur_24h')\n",
    "* __Vitesse du vent :__ la variable identifiée est la vitesse du vent ('vitesse_vent')\n",
    "* __Couverture nuageuse :__ la variable identifié est la nébulosité totale et renvoie à la quantité totale de nuages couvrant le ciel ou plus simplement le degré de couverture nuageuse dans le ciel ('nebulosite_totale')\n",
    "* __Humidité :__ la variable identifiée est l'indice d'humidité ('humidite')\n",
    "* __Rayonnement global :__ la variable identifiée pour capter cet aspect est la distance maximale à laquelle des objets peuvent être clairement discernés à l'horizon ('visibilite_horizontale')"
   ]
  },
  {
   "cell_type": "code",
   "execution_count": 385,
   "id": "ff3ff8d3-5ad2-4aab-8897-d683e7b7eb35",
   "metadata": {},
   "outputs": [],
   "source": [
    "weather_vars = ['num_station', 'date_UTC', 'vitesse_vent', 'temperature','nebulosite_totale','temperature_degre_celcius', 'temperature_celcius_min_sur_24h', 'temperature_celcius_max_sur_24h','latitude', 'longitude','altitude', 'libelle_geolocalisation', 'code_geolocalisation','nom_departement', 'code_departement','nom_region', 'code_region', 'mois', 'visibilite_horizontale', 'coordonnees','nom_commune',]\n",
    "base_meteo_modifie_1 = base_meteo_modifie_1[weather_vars]"
   ]
  },
  {
   "cell_type": "markdown",
   "id": "e6e4e716-2902-4346-af32-4f40eff117f3",
   "metadata": {},
   "source": [
    "### Vérification et gestion des valeurs manquantes pour les variables d'agrégation"
   ]
  },
  {
   "cell_type": "markdown",
   "id": "b41440d3-4b05-466c-9ca5-a37ebdda21fa",
   "metadata": {},
   "source": [
    "#### Vérification des régions et départements manquants"
   ]
  },
  {
   "cell_type": "code",
   "execution_count": 386,
   "id": "5322d479-654c-4151-a51c-ad077b86dedd",
   "metadata": {},
   "outputs": [
    {
     "name": "stdout",
     "output_type": "stream",
     "text": [
      "Nombre de nom_regions manquants 242657\n",
      "Nombre de code_regions manquants 242657\n",
      "Nombre de nom_departements manquants 242657\n",
      "Nombre decode_departements  manquants 242657\n",
      "Nombre de nom_communes manquants 0\n"
     ]
    }
   ],
   "source": [
    "print(\"Nombre de nom_regions manquants\", base_meteo_modifie_1['nom_region'].isnull().sum())\n",
    "print(\"Nombre de code_regions manquants\", base_meteo_modifie_1['code_region'].isnull().sum())\n",
    "print(\"Nombre de nom_departements manquants\", base_meteo_modifie_1['nom_departement'].isnull().sum())\n",
    "print(\"Nombre decode_departements  manquants\", base_meteo_modifie_1['code_departement'].isnull().sum())\n",
    "print(\"Nombre de nom_communes manquants\", base_meteo_modifie_1['nom_commune'].isnull().sum())"
   ]
  },
  {
   "cell_type": "markdown",
   "id": "f158c6f6-8ac9-4e41-9150-a03fd470ee2f",
   "metadata": {},
   "source": [
    "On constate que tous les noms de commune sont renseignés, mais certains noms de région et département ne le sont pas. Nous allons donc utiliser les noms de commune pour renseigner les départements et régions manquants."
   ]
  },
  {
   "cell_type": "markdown",
   "id": "2ec43207-1a70-4f0e-af40-0b3b6871d592",
   "metadata": {},
   "source": [
    "Nous explorons la possibilité de completer les régions et départements manquants à partir de la base de données des communes, régions et départements."
   ]
  },
  {
   "cell_type": "code",
   "execution_count": 387,
   "id": "354ece15-30ed-402b-87b9-8295fe61dec9",
   "metadata": {},
   "outputs": [
    {
     "data": {
      "text/plain": [
       "code_commune_INSEE          0\n",
       "nom_commune_postal          0\n",
       "code_postal                 0\n",
       "libelle_acheminement        0\n",
       "ligne_5                 35944\n",
       "latitude                  269\n",
       "longitude                 269\n",
       "code_commune                7\n",
       "article                 36621\n",
       "nom_commune                 0\n",
       "nom_commune_complet         0\n",
       "code_departement            0\n",
       "nom_departement           267\n",
       "code_region                 0\n",
       "nom_region                267\n",
       "dtype: int64"
      ]
     },
     "execution_count": 387,
     "metadata": {},
     "output_type": "execute_result"
    }
   ],
   "source": [
    "data_communes.isna().sum()"
   ]
  },
  {
   "cell_type": "markdown",
   "id": "570177af-30c8-40c4-b9f4-5ef94f4976be",
   "metadata": {},
   "source": [
    "Le dataset des communes possède lui même des valeurs manquantes au niveau des codes de département et de région. Nous allons compléter ces valeurs manquantes en utilisant les combinaisons \"code_commune - code_departement - code-region\" les plus fréquentes. Puis nous allons le joindre avec le dataset de météo."
   ]
  },
  {
   "cell_type": "code",
   "execution_count": 388,
   "id": "2c22fc93-dac4-445c-b365-31304c748050",
   "metadata": {},
   "outputs": [],
   "source": [
    "combinaisons_frequentes = data_communes.groupby(['code_commune', 'code_departement', 'code_region']).size().idxmax()\n",
    "\n",
    "# Imputer les valeurs manquantes dans 'longitude' et 'latitude' en fonction des combinaisons les plus fréquentes\n",
    "data_communes['code_departement'].fillna(combinaisons_frequentes[1], inplace=True)\n",
    "data_communes['code_region'].fillna(combinaisons_frequentes[2], inplace=True)"
   ]
  },
  {
   "cell_type": "markdown",
   "id": "0d4ec63c-2875-4f6f-8183-89f29283d9b4",
   "metadata": {},
   "source": [
    "Cela étant fait, comme le dataset weather possède les noms de communes (la colonne \"nom_commune\"), qui est déjà presqu'harmonisée avec la colonne des noms de communes du dataset de communes (nom_commune_complet). On complète alors l'hamonisation et on peut donc faire une fusion sur les noms de communes."
   ]
  },
  {
   "cell_type": "markdown",
   "id": "ee1d240f-e990-4044-8573-b6c929b8ebca",
   "metadata": {},
   "source": [
    "Harmonisation"
   ]
  },
  {
   "cell_type": "code",
   "execution_count": 389,
   "id": "26daef1a-99c4-4b28-9b6c-2c6643e9fa42",
   "metadata": {},
   "outputs": [],
   "source": [
    "base_meteo_modifie_1['libelle_geolocalisation'] = base_meteo_modifie_1['libelle_geolocalisation'].apply(lambda x: x.replace(\"Saint-Pierre\", \"St pierre\").replace(\"Saint-Barthélemy\", \"St barthelemy\") if isinstance(x, str) else x)"
   ]
  },
  {
   "cell_type": "code",
   "execution_count": 390,
   "id": "bef25cf3-4b59-46e6-aa12-823b7f6bc9ad",
   "metadata": {
    "collapsed": true,
    "jupyter": {
     "outputs_hidden": true
    },
    "scrolled": true
   },
   "outputs": [
    {
     "data": {
      "text/html": [
       "<div>\n",
       "<style scoped>\n",
       "    .dataframe tbody tr th:only-of-type {\n",
       "        vertical-align: middle;\n",
       "    }\n",
       "\n",
       "    .dataframe tbody tr th {\n",
       "        vertical-align: top;\n",
       "    }\n",
       "\n",
       "    .dataframe thead th {\n",
       "        text-align: right;\n",
       "    }\n",
       "</style>\n",
       "<table border=\"1\" class=\"dataframe\">\n",
       "  <thead>\n",
       "    <tr style=\"text-align: right;\">\n",
       "      <th></th>\n",
       "      <th>lib_geo</th>\n",
       "      <th>cod_geo</th>\n",
       "      <th>nom_com</th>\n",
       "      <th>cod_com</th>\n",
       "      <th>nom_dep</th>\n",
       "      <th>nom_reg</th>\n",
       "      <th>resultat_comparaison</th>\n",
       "    </tr>\n",
       "  </thead>\n",
       "  <tbody>\n",
       "    <tr>\n",
       "      <th>0</th>\n",
       "      <td>Carpiquet</td>\n",
       "      <td>14137</td>\n",
       "      <td>Carpiquet</td>\n",
       "      <td>14137</td>\n",
       "      <td>Calvados</td>\n",
       "      <td>Normandie</td>\n",
       "      <td>True</td>\n",
       "    </tr>\n",
       "    <tr>\n",
       "      <th>1</th>\n",
       "      <td>Guipavas</td>\n",
       "      <td>29075</td>\n",
       "      <td>Guipavas</td>\n",
       "      <td>29075</td>\n",
       "      <td>Finistère</td>\n",
       "      <td>Bretagne</td>\n",
       "      <td>True</td>\n",
       "    </tr>\n",
       "    <tr>\n",
       "      <th>2</th>\n",
       "      <td>Embrun</td>\n",
       "      <td>05046</td>\n",
       "      <td>Embrun</td>\n",
       "      <td>5046</td>\n",
       "      <td>Hautes-Alpes</td>\n",
       "      <td>Provence-Alpes-Côte d'Azur</td>\n",
       "      <td>True</td>\n",
       "    </tr>\n",
       "    <tr>\n",
       "      <th>3</th>\n",
       "      <td>Le Lamentin</td>\n",
       "      <td>97213</td>\n",
       "      <td>Le Lamentin</td>\n",
       "      <td>97213</td>\n",
       "      <td>Martinique</td>\n",
       "      <td>Martinique</td>\n",
       "      <td>True</td>\n",
       "    </tr>\n",
       "    <tr>\n",
       "      <th>4</th>\n",
       "      <td>Fretin</td>\n",
       "      <td>59256</td>\n",
       "      <td>Fretin</td>\n",
       "      <td>59256</td>\n",
       "      <td>Nord</td>\n",
       "      <td>Hauts-de-France</td>\n",
       "      <td>True</td>\n",
       "    </tr>\n",
       "    <tr>\n",
       "      <th>5</th>\n",
       "      <td>Athis-Mons</td>\n",
       "      <td>91027</td>\n",
       "      <td>Athis-Mons</td>\n",
       "      <td>91027</td>\n",
       "      <td>Essonne</td>\n",
       "      <td>Île-de-France</td>\n",
       "      <td>True</td>\n",
       "    </tr>\n",
       "    <tr>\n",
       "      <th>6</th>\n",
       "      <td>Saint-Georges</td>\n",
       "      <td>97308</td>\n",
       "      <td>Saint-Georges</td>\n",
       "      <td>15188</td>\n",
       "      <td>Cantal</td>\n",
       "      <td>Auvergne-Rhône-Alpes</td>\n",
       "      <td>True</td>\n",
       "    </tr>\n",
       "    <tr>\n",
       "      <th>7</th>\n",
       "      <td>La Hague</td>\n",
       "      <td>50041</td>\n",
       "      <td>La Hague</td>\n",
       "      <td>50041</td>\n",
       "      <td>Manche</td>\n",
       "      <td>Normandie</td>\n",
       "      <td>True</td>\n",
       "    </tr>\n",
       "    <tr>\n",
       "      <th>8</th>\n",
       "      <td>Ajaccio</td>\n",
       "      <td>2a004</td>\n",
       "      <td>Ajaccio</td>\n",
       "      <td>2A004</td>\n",
       "      <td>Corse-du-Sud</td>\n",
       "      <td>Corse</td>\n",
       "      <td>True</td>\n",
       "    </tr>\n",
       "    <tr>\n",
       "      <th>9</th>\n",
       "      <td>Matoury</td>\n",
       "      <td>97307</td>\n",
       "      <td>Matoury</td>\n",
       "      <td>97307</td>\n",
       "      <td>Guyane</td>\n",
       "      <td>Guyane</td>\n",
       "      <td>True</td>\n",
       "    </tr>\n",
       "    <tr>\n",
       "      <th>10</th>\n",
       "      <td>Barberey-Saint-Sulpice</td>\n",
       "      <td>10030</td>\n",
       "      <td>Barberey-Saint-Sulpice</td>\n",
       "      <td>10030</td>\n",
       "      <td>Aube</td>\n",
       "      <td>Grand Est</td>\n",
       "      <td>True</td>\n",
       "    </tr>\n",
       "    <tr>\n",
       "      <th>11</th>\n",
       "      <td>Mont-de-Marsan</td>\n",
       "      <td>40192</td>\n",
       "      <td>Mont-de-Marsan</td>\n",
       "      <td>40192</td>\n",
       "      <td>Landes</td>\n",
       "      <td>Nouvelle-Aquitaine</td>\n",
       "      <td>True</td>\n",
       "    </tr>\n",
       "    <tr>\n",
       "      <th>12</th>\n",
       "      <td>Marignane</td>\n",
       "      <td>13054</td>\n",
       "      <td>Marignane</td>\n",
       "      <td>13054</td>\n",
       "      <td>Bouches-du-Rhône</td>\n",
       "      <td>Provence-Alpes-Côte d'Azur</td>\n",
       "      <td>True</td>\n",
       "    </tr>\n",
       "    <tr>\n",
       "      <th>13</th>\n",
       "      <td>Ouges</td>\n",
       "      <td>21473</td>\n",
       "      <td>Ouges</td>\n",
       "      <td>21473</td>\n",
       "      <td>Côte-d'Or</td>\n",
       "      <td>Bourgogne-Franche-Comté</td>\n",
       "      <td>True</td>\n",
       "    </tr>\n",
       "    <tr>\n",
       "      <th>14</th>\n",
       "      <td>Limoges</td>\n",
       "      <td>87085</td>\n",
       "      <td>Limoges</td>\n",
       "      <td>87085</td>\n",
       "      <td>Haute-Vienne</td>\n",
       "      <td>Nouvelle-Aquitaine</td>\n",
       "      <td>True</td>\n",
       "    </tr>\n",
       "    <tr>\n",
       "      <th>15</th>\n",
       "      <td>Perros-Guirec</td>\n",
       "      <td>22168</td>\n",
       "      <td>Perros-Guirec</td>\n",
       "      <td>22168</td>\n",
       "      <td>Côtes-d'Armor</td>\n",
       "      <td>Bretagne</td>\n",
       "      <td>True</td>\n",
       "    </tr>\n",
       "    <tr>\n",
       "      <th>16</th>\n",
       "      <td>Nice</td>\n",
       "      <td>06088</td>\n",
       "      <td>Nice</td>\n",
       "      <td>6088</td>\n",
       "      <td>Alpes-Maritimes</td>\n",
       "      <td>Provence-Alpes-Côte d'Azur</td>\n",
       "      <td>True</td>\n",
       "    </tr>\n",
       "    <tr>\n",
       "      <th>17</th>\n",
       "      <td>Thuilley-aux-Groseilles</td>\n",
       "      <td>54523</td>\n",
       "      <td>Thuilley-aux-Groseilles</td>\n",
       "      <td>54523</td>\n",
       "      <td>Meurthe-et-Moselle</td>\n",
       "      <td>Grand Est</td>\n",
       "      <td>True</td>\n",
       "    </tr>\n",
       "    <tr>\n",
       "      <th>18</th>\n",
       "      <td>Saint-Aignan-Grandlieu</td>\n",
       "      <td>44150</td>\n",
       "      <td>Saint-Aignan-Grandlieu</td>\n",
       "      <td>44150</td>\n",
       "      <td>Loire-Atlantique</td>\n",
       "      <td>Pays de la Loire</td>\n",
       "      <td>True</td>\n",
       "    </tr>\n",
       "    <tr>\n",
       "      <th>19</th>\n",
       "      <td>Poitiers</td>\n",
       "      <td>86194</td>\n",
       "      <td>Poitiers</td>\n",
       "      <td>86194</td>\n",
       "      <td>Vienne</td>\n",
       "      <td>Nouvelle-Aquitaine</td>\n",
       "      <td>True</td>\n",
       "    </tr>\n",
       "    <tr>\n",
       "      <th>20</th>\n",
       "      <td>Bangor</td>\n",
       "      <td>56009</td>\n",
       "      <td>Bangor</td>\n",
       "      <td>56009</td>\n",
       "      <td>Morbihan</td>\n",
       "      <td>Bretagne</td>\n",
       "      <td>True</td>\n",
       "    </tr>\n",
       "    <tr>\n",
       "      <th>21</th>\n",
       "      <td>Louey</td>\n",
       "      <td>65284</td>\n",
       "      <td>Louey</td>\n",
       "      <td>65284</td>\n",
       "      <td>Hautes-Pyrénées</td>\n",
       "      <td>Occitanie</td>\n",
       "      <td>True</td>\n",
       "    </tr>\n",
       "    <tr>\n",
       "      <th>22</th>\n",
       "      <td>Perpignan</td>\n",
       "      <td>66136</td>\n",
       "      <td>Perpignan</td>\n",
       "      <td>66136</td>\n",
       "      <td>Pyrénées-Orientales</td>\n",
       "      <td>Occitanie</td>\n",
       "      <td>True</td>\n",
       "    </tr>\n",
       "    <tr>\n",
       "      <th>23</th>\n",
       "      <td>Saint-Denis-d'Oléron</td>\n",
       "      <td>17323</td>\n",
       "      <td>Saint-Denis-d'Oléron</td>\n",
       "      <td>17323</td>\n",
       "      <td>Charente-Maritime</td>\n",
       "      <td>Nouvelle-Aquitaine</td>\n",
       "      <td>True</td>\n",
       "    </tr>\n",
       "    <tr>\n",
       "      <th>24</th>\n",
       "      <td>Blagnac</td>\n",
       "      <td>31069</td>\n",
       "      <td>Blagnac</td>\n",
       "      <td>31069</td>\n",
       "      <td>Haute-Garonne</td>\n",
       "      <td>Occitanie</td>\n",
       "      <td>True</td>\n",
       "    </tr>\n",
       "    <tr>\n",
       "      <th>25</th>\n",
       "      <td>Colombier-Saugnieu</td>\n",
       "      <td>69299</td>\n",
       "      <td>Colombier-Saugnieu</td>\n",
       "      <td>69299</td>\n",
       "      <td>Rhône</td>\n",
       "      <td>Auvergne-Rhône-Alpes</td>\n",
       "      <td>True</td>\n",
       "    </tr>\n",
       "    <tr>\n",
       "      <th>26</th>\n",
       "      <td>Lorp-Sentaraille</td>\n",
       "      <td>09289</td>\n",
       "      <td>Lorp-Sentaraille</td>\n",
       "      <td>9289</td>\n",
       "      <td>Ariège</td>\n",
       "      <td>Occitanie</td>\n",
       "      <td>True</td>\n",
       "    </tr>\n",
       "    <tr>\n",
       "      <th>27</th>\n",
       "      <td>Mérignac</td>\n",
       "      <td>33281</td>\n",
       "      <td>Mérignac</td>\n",
       "      <td>16216</td>\n",
       "      <td>Charente</td>\n",
       "      <td>Nouvelle-Aquitaine</td>\n",
       "      <td>True</td>\n",
       "    </tr>\n",
       "    <tr>\n",
       "      <th>28</th>\n",
       "      <td>Sainte-Marie</td>\n",
       "      <td>97418</td>\n",
       "      <td>Sainte-Marie</td>\n",
       "      <td>5150</td>\n",
       "      <td>Hautes-Alpes</td>\n",
       "      <td>Provence-Alpes-Côte d'Azur</td>\n",
       "      <td>True</td>\n",
       "    </tr>\n",
       "    <tr>\n",
       "      <th>29</th>\n",
       "      <td>Montélimar</td>\n",
       "      <td>26198</td>\n",
       "      <td>Montélimar</td>\n",
       "      <td>26198</td>\n",
       "      <td>Drôme</td>\n",
       "      <td>Auvergne-Rhône-Alpes</td>\n",
       "      <td>True</td>\n",
       "    </tr>\n",
       "    <tr>\n",
       "      <th>30</th>\n",
       "      <td>Parçay-Meslay</td>\n",
       "      <td>37179</td>\n",
       "      <td>Parçay-Meslay</td>\n",
       "      <td>37179</td>\n",
       "      <td>Indre-et-Loire</td>\n",
       "      <td>Centre-Val de Loire</td>\n",
       "      <td>True</td>\n",
       "    </tr>\n",
       "    <tr>\n",
       "      <th>31</th>\n",
       "      <td>Saint-Jacques-de-la-Lande</td>\n",
       "      <td>35281</td>\n",
       "      <td>Saint-Jacques-de-la-Lande</td>\n",
       "      <td>35281</td>\n",
       "      <td>Ille-et-Vilaine</td>\n",
       "      <td>Bretagne</td>\n",
       "      <td>True</td>\n",
       "    </tr>\n",
       "    <tr>\n",
       "      <th>32</th>\n",
       "      <td>Holtzheim</td>\n",
       "      <td>67212</td>\n",
       "      <td>Holtzheim</td>\n",
       "      <td>67212</td>\n",
       "      <td>Bas-Rhin</td>\n",
       "      <td>Grand Est</td>\n",
       "      <td>True</td>\n",
       "    </tr>\n",
       "    <tr>\n",
       "      <th>33</th>\n",
       "      <td>Les Abymes</td>\n",
       "      <td>97101</td>\n",
       "      <td>Les Abymes</td>\n",
       "      <td>97101</td>\n",
       "      <td>Guadeloupe</td>\n",
       "      <td>Guadeloupe</td>\n",
       "      <td>True</td>\n",
       "    </tr>\n",
       "    <tr>\n",
       "      <th>34</th>\n",
       "      <td>Pamandzi</td>\n",
       "      <td>97615</td>\n",
       "      <td>Pamandzi</td>\n",
       "      <td>97615</td>\n",
       "      <td>Mayotte</td>\n",
       "      <td>Mayotte</td>\n",
       "      <td>True</td>\n",
       "    </tr>\n",
       "    <tr>\n",
       "      <th>35</th>\n",
       "      <td>La Trinité</td>\n",
       "      <td>97230</td>\n",
       "      <td>La Trinité</td>\n",
       "      <td>6149</td>\n",
       "      <td>Alpes-Maritimes</td>\n",
       "      <td>Provence-Alpes-Côte d'Azur</td>\n",
       "      <td>True</td>\n",
       "    </tr>\n",
       "    <tr>\n",
       "      <th>36</th>\n",
       "      <td>Bourges</td>\n",
       "      <td>18033</td>\n",
       "      <td>Bourges</td>\n",
       "      <td>18033</td>\n",
       "      <td>Cher</td>\n",
       "      <td>Centre-Val de Loire</td>\n",
       "      <td>True</td>\n",
       "    </tr>\n",
       "    <tr>\n",
       "      <th>37</th>\n",
       "      <td>Abbeville</td>\n",
       "      <td>80001</td>\n",
       "      <td>Abbeville</td>\n",
       "      <td>80001</td>\n",
       "      <td>Somme</td>\n",
       "      <td>Hauts-de-France</td>\n",
       "      <td>True</td>\n",
       "    </tr>\n",
       "    <tr>\n",
       "      <th>38</th>\n",
       "      <td>Clermont-Ferrand</td>\n",
       "      <td>63113</td>\n",
       "      <td>Clermont-Ferrand</td>\n",
       "      <td>63113</td>\n",
       "      <td>Puy-de-Dôme</td>\n",
       "      <td>Auvergne-Rhône-Alpes</td>\n",
       "      <td>True</td>\n",
       "    </tr>\n",
       "    <tr>\n",
       "      <th>39</th>\n",
       "      <td>Chaspuzac</td>\n",
       "      <td>43062</td>\n",
       "      <td>Chaspuzac</td>\n",
       "      <td>43062</td>\n",
       "      <td>Haute-Loire</td>\n",
       "      <td>Auvergne-Rhône-Alpes</td>\n",
       "      <td>True</td>\n",
       "    </tr>\n",
       "    <tr>\n",
       "      <th>40</th>\n",
       "      <td>Blotzheim</td>\n",
       "      <td>68042</td>\n",
       "      <td>Blotzheim</td>\n",
       "      <td>68042</td>\n",
       "      <td>Haut-Rhin</td>\n",
       "      <td>Grand Est</td>\n",
       "      <td>True</td>\n",
       "    </tr>\n",
       "    <tr>\n",
       "      <th>41</th>\n",
       "      <td>Lucciana</td>\n",
       "      <td>2b148</td>\n",
       "      <td>Lucciana</td>\n",
       "      <td>2B148</td>\n",
       "      <td>Haute-Corse</td>\n",
       "      <td>Corse</td>\n",
       "      <td>True</td>\n",
       "    </tr>\n",
       "    <tr>\n",
       "      <th>42</th>\n",
       "      <td>Saint-Laurent-du-Maroni</td>\n",
       "      <td>97311</td>\n",
       "      <td>Saint-Laurent-du-Maroni</td>\n",
       "      <td>97311</td>\n",
       "      <td>Guyane</td>\n",
       "      <td>Guyane</td>\n",
       "      <td>True</td>\n",
       "    </tr>\n",
       "    <tr>\n",
       "      <th>43</th>\n",
       "      <td>Mauguio</td>\n",
       "      <td>34154</td>\n",
       "      <td>Mauguio</td>\n",
       "      <td>34154</td>\n",
       "      <td>Hérault</td>\n",
       "      <td>Occitanie</td>\n",
       "      <td>True</td>\n",
       "    </tr>\n",
       "    <tr>\n",
       "      <th>44</th>\n",
       "      <td>Saint-Mandrier-sur-Mer</td>\n",
       "      <td>83153</td>\n",
       "      <td>Saint-Mandrier-sur-Mer</td>\n",
       "      <td>83153</td>\n",
       "      <td>Var</td>\n",
       "      <td>Provence-Alpes-Côte d'Azur</td>\n",
       "      <td>True</td>\n",
       "    </tr>\n",
       "    <tr>\n",
       "      <th>45</th>\n",
       "      <td>Maripasoula</td>\n",
       "      <td>97353</td>\n",
       "      <td>Maripasoula</td>\n",
       "      <td>97353</td>\n",
       "      <td>Guyane</td>\n",
       "      <td>Guyane</td>\n",
       "      <td>True</td>\n",
       "    </tr>\n",
       "    <tr>\n",
       "      <th>46</th>\n",
       "      <td>Cerisé</td>\n",
       "      <td>61077</td>\n",
       "      <td>Cerisé</td>\n",
       "      <td>61077</td>\n",
       "      <td>Orne</td>\n",
       "      <td>Normandie</td>\n",
       "      <td>True</td>\n",
       "    </tr>\n",
       "    <tr>\n",
       "      <th>47</th>\n",
       "      <td>Gourdon</td>\n",
       "      <td>46127</td>\n",
       "      <td>Gourdon</td>\n",
       "      <td>6068</td>\n",
       "      <td>Alpes-Maritimes</td>\n",
       "      <td>Provence-Alpes-Côte d'Azur</td>\n",
       "      <td>True</td>\n",
       "    </tr>\n",
       "    <tr>\n",
       "      <th>48</th>\n",
       "      <td>Boos</td>\n",
       "      <td>76116</td>\n",
       "      <td>Boos</td>\n",
       "      <td>40048</td>\n",
       "      <td>Landes</td>\n",
       "      <td>Nouvelle-Aquitaine</td>\n",
       "      <td>True</td>\n",
       "    </tr>\n",
       "    <tr>\n",
       "      <th>49</th>\n",
       "      <td>Prunay</td>\n",
       "      <td>51449</td>\n",
       "      <td>Prunay</td>\n",
       "      <td>51449</td>\n",
       "      <td>Marne</td>\n",
       "      <td>Grand Est</td>\n",
       "      <td>True</td>\n",
       "    </tr>\n",
       "    <tr>\n",
       "      <th>50</th>\n",
       "      <td>La Désirade</td>\n",
       "      <td>97110</td>\n",
       "      <td>La Désirade</td>\n",
       "      <td>97110</td>\n",
       "      <td>Guadeloupe</td>\n",
       "      <td>Guadeloupe</td>\n",
       "      <td>True</td>\n",
       "    </tr>\n",
       "    <tr>\n",
       "      <th>51</th>\n",
       "      <td>St pierre</td>\n",
       "      <td>97502</td>\n",
       "      <td>St pierre</td>\n",
       "      <td>97502</td>\n",
       "      <td>NaN</td>\n",
       "      <td>NaN</td>\n",
       "      <td>True</td>\n",
       "    </tr>\n",
       "    <tr>\n",
       "      <th>52</th>\n",
       "      <td>St barthelemy</td>\n",
       "      <td>97701</td>\n",
       "      <td>St barthelemy</td>\n",
       "      <td>97701</td>\n",
       "      <td>NaN</td>\n",
       "      <td>NaN</td>\n",
       "      <td>True</td>\n",
       "    </tr>\n",
       "  </tbody>\n",
       "</table>\n",
       "</div>"
      ],
      "text/plain": [
       "                      lib_geo cod_geo                    nom_com cod_com  \\\n",
       "0                   Carpiquet   14137                  Carpiquet   14137   \n",
       "1                    Guipavas   29075                   Guipavas   29075   \n",
       "2                      Embrun   05046                     Embrun    5046   \n",
       "3                 Le Lamentin   97213                Le Lamentin   97213   \n",
       "4                      Fretin   59256                     Fretin   59256   \n",
       "5                  Athis-Mons   91027                 Athis-Mons   91027   \n",
       "6               Saint-Georges   97308              Saint-Georges   15188   \n",
       "7                    La Hague   50041                   La Hague   50041   \n",
       "8                     Ajaccio   2a004                    Ajaccio   2A004   \n",
       "9                     Matoury   97307                    Matoury   97307   \n",
       "10     Barberey-Saint-Sulpice   10030     Barberey-Saint-Sulpice   10030   \n",
       "11             Mont-de-Marsan   40192             Mont-de-Marsan   40192   \n",
       "12                  Marignane   13054                  Marignane   13054   \n",
       "13                      Ouges   21473                      Ouges   21473   \n",
       "14                    Limoges   87085                    Limoges   87085   \n",
       "15              Perros-Guirec   22168              Perros-Guirec   22168   \n",
       "16                       Nice   06088                       Nice    6088   \n",
       "17    Thuilley-aux-Groseilles   54523    Thuilley-aux-Groseilles   54523   \n",
       "18     Saint-Aignan-Grandlieu   44150     Saint-Aignan-Grandlieu   44150   \n",
       "19                   Poitiers   86194                   Poitiers   86194   \n",
       "20                     Bangor   56009                     Bangor   56009   \n",
       "21                      Louey   65284                      Louey   65284   \n",
       "22                  Perpignan   66136                  Perpignan   66136   \n",
       "23       Saint-Denis-d'Oléron   17323       Saint-Denis-d'Oléron   17323   \n",
       "24                    Blagnac   31069                    Blagnac   31069   \n",
       "25         Colombier-Saugnieu   69299         Colombier-Saugnieu   69299   \n",
       "26           Lorp-Sentaraille   09289           Lorp-Sentaraille    9289   \n",
       "27                   Mérignac   33281                   Mérignac   16216   \n",
       "28               Sainte-Marie   97418               Sainte-Marie    5150   \n",
       "29                 Montélimar   26198                 Montélimar   26198   \n",
       "30              Parçay-Meslay   37179              Parçay-Meslay   37179   \n",
       "31  Saint-Jacques-de-la-Lande   35281  Saint-Jacques-de-la-Lande   35281   \n",
       "32                  Holtzheim   67212                  Holtzheim   67212   \n",
       "33                 Les Abymes   97101                 Les Abymes   97101   \n",
       "34                   Pamandzi   97615                   Pamandzi   97615   \n",
       "35                 La Trinité   97230                 La Trinité    6149   \n",
       "36                    Bourges   18033                    Bourges   18033   \n",
       "37                  Abbeville   80001                  Abbeville   80001   \n",
       "38           Clermont-Ferrand   63113           Clermont-Ferrand   63113   \n",
       "39                  Chaspuzac   43062                  Chaspuzac   43062   \n",
       "40                  Blotzheim   68042                  Blotzheim   68042   \n",
       "41                   Lucciana   2b148                   Lucciana   2B148   \n",
       "42    Saint-Laurent-du-Maroni   97311    Saint-Laurent-du-Maroni   97311   \n",
       "43                    Mauguio   34154                    Mauguio   34154   \n",
       "44     Saint-Mandrier-sur-Mer   83153     Saint-Mandrier-sur-Mer   83153   \n",
       "45                Maripasoula   97353                Maripasoula   97353   \n",
       "46                     Cerisé   61077                     Cerisé   61077   \n",
       "47                    Gourdon   46127                    Gourdon    6068   \n",
       "48                       Boos   76116                       Boos   40048   \n",
       "49                     Prunay   51449                     Prunay   51449   \n",
       "50                La Désirade   97110                La Désirade   97110   \n",
       "51                  St pierre   97502                  St pierre   97502   \n",
       "52              St barthelemy   97701              St barthelemy   97701   \n",
       "\n",
       "                nom_dep                     nom_reg  resultat_comparaison  \n",
       "0              Calvados                   Normandie                  True  \n",
       "1             Finistère                    Bretagne                  True  \n",
       "2          Hautes-Alpes  Provence-Alpes-Côte d'Azur                  True  \n",
       "3            Martinique                  Martinique                  True  \n",
       "4                  Nord             Hauts-de-France                  True  \n",
       "5               Essonne               Île-de-France                  True  \n",
       "6                Cantal        Auvergne-Rhône-Alpes                  True  \n",
       "7                Manche                   Normandie                  True  \n",
       "8          Corse-du-Sud                       Corse                  True  \n",
       "9                Guyane                      Guyane                  True  \n",
       "10                 Aube                   Grand Est                  True  \n",
       "11               Landes          Nouvelle-Aquitaine                  True  \n",
       "12     Bouches-du-Rhône  Provence-Alpes-Côte d'Azur                  True  \n",
       "13            Côte-d'Or     Bourgogne-Franche-Comté                  True  \n",
       "14         Haute-Vienne          Nouvelle-Aquitaine                  True  \n",
       "15        Côtes-d'Armor                    Bretagne                  True  \n",
       "16      Alpes-Maritimes  Provence-Alpes-Côte d'Azur                  True  \n",
       "17   Meurthe-et-Moselle                   Grand Est                  True  \n",
       "18     Loire-Atlantique            Pays de la Loire                  True  \n",
       "19               Vienne          Nouvelle-Aquitaine                  True  \n",
       "20             Morbihan                    Bretagne                  True  \n",
       "21      Hautes-Pyrénées                   Occitanie                  True  \n",
       "22  Pyrénées-Orientales                   Occitanie                  True  \n",
       "23    Charente-Maritime          Nouvelle-Aquitaine                  True  \n",
       "24        Haute-Garonne                   Occitanie                  True  \n",
       "25                Rhône        Auvergne-Rhône-Alpes                  True  \n",
       "26               Ariège                   Occitanie                  True  \n",
       "27             Charente          Nouvelle-Aquitaine                  True  \n",
       "28         Hautes-Alpes  Provence-Alpes-Côte d'Azur                  True  \n",
       "29                Drôme        Auvergne-Rhône-Alpes                  True  \n",
       "30       Indre-et-Loire         Centre-Val de Loire                  True  \n",
       "31      Ille-et-Vilaine                    Bretagne                  True  \n",
       "32             Bas-Rhin                   Grand Est                  True  \n",
       "33           Guadeloupe                  Guadeloupe                  True  \n",
       "34              Mayotte                     Mayotte                  True  \n",
       "35      Alpes-Maritimes  Provence-Alpes-Côte d'Azur                  True  \n",
       "36                 Cher         Centre-Val de Loire                  True  \n",
       "37                Somme             Hauts-de-France                  True  \n",
       "38          Puy-de-Dôme        Auvergne-Rhône-Alpes                  True  \n",
       "39          Haute-Loire        Auvergne-Rhône-Alpes                  True  \n",
       "40            Haut-Rhin                   Grand Est                  True  \n",
       "41          Haute-Corse                       Corse                  True  \n",
       "42               Guyane                      Guyane                  True  \n",
       "43              Hérault                   Occitanie                  True  \n",
       "44                  Var  Provence-Alpes-Côte d'Azur                  True  \n",
       "45               Guyane                      Guyane                  True  \n",
       "46                 Orne                   Normandie                  True  \n",
       "47      Alpes-Maritimes  Provence-Alpes-Côte d'Azur                  True  \n",
       "48               Landes          Nouvelle-Aquitaine                  True  \n",
       "49                Marne                   Grand Est                  True  \n",
       "50           Guadeloupe                  Guadeloupe                  True  \n",
       "51                  NaN                         NaN                  True  \n",
       "52                  NaN                         NaN                  True  "
      ]
     },
     "execution_count": 390,
     "metadata": {},
     "output_type": "execute_result"
    }
   ],
   "source": [
    "#Vérifions que les noms sont bien harmonisés\n",
    "a = pd.DataFrame()\n",
    "for elt in list(base_meteo_modifie_1['libelle_geolocalisation'].unique()):\n",
    "    if \"cod_geo\" in a.columns:\n",
    "        if not data_communes[data_communes['nom_commune_complet']==elt].empty:\n",
    "            nvo = {\"lib_geo\" : elt, \"cod_geo\" : base_meteo_modifie_1[base_meteo_modifie_1['libelle_geolocalisation'] == elt ]['code_geolocalisation'].iloc[0], \"nom_com\" :data_communes[data_communes['nom_commune_complet']==elt][\"nom_commune_complet\"].iloc[0], \"cod_com\" : data_communes[data_communes['nom_commune_complet']==elt][\"code_commune_INSEE\"].iloc[0], \"nom_dep\": data_communes[data_communes['nom_commune_complet']==elt][\"nom_departement\"].iloc[0], \"nom_reg\" : data_communes[data_communes['nom_commune_complet']==elt][\"nom_region\"].iloc[0]}\n",
    "            a = pd.concat([a, pd.DataFrame([nvo])], ignore_index=True)\n",
    "    else:\n",
    "        a[\"lib_geo\"] = elt\n",
    "        a[\"cod_geo\"] = base_meteo_modifie_1[base_meteo_modifie_1['libelle_geolocalisation'] == elt ]['code_geolocalisation'][0]\n",
    "        if not data_communes[data_communes['code_commune_INSEE']==elt].empty:\n",
    "            a[\"nom_com\"] = data_communes[data_communes['nom_commune_complet']==elt][\"nom_commune_postal\"].iloc[0]\n",
    "            a[\"cod_com\"] = data_communes[data_communes['nom_commune_complet']==elt][\"code_commune_INSEE\"].iloc[0]\n",
    "            a[\"nom_dep\"] = data_communes[data_communes['nom_commune_complet']==elt][\"nom_departement\"].iloc[0]\n",
    "            a[\"nom_reg\"] = data_communes[data_communes['nom_commune_complet']==elt][\"nom_region\"].iloc[0]\n",
    "\n",
    "a['resultat_comparaison'] = a['lib_geo'] == a['nom_com']\n",
    "a"
   ]
  },
  {
   "cell_type": "markdown",
   "id": "5c0a2ab9-148a-464c-aa42-9c9957f55fbb",
   "metadata": {},
   "source": [
    "### Jointure des bases communes et weather"
   ]
  },
  {
   "cell_type": "code",
   "execution_count": 392,
   "id": "bbbafa4e-769a-4434-a8fc-8d55a6f3c795",
   "metadata": {},
   "outputs": [],
   "source": [
    "data_communes = data_communes.drop_duplicates(subset='nom_commune_complet', keep='first')"
   ]
  },
  {
   "cell_type": "code",
   "execution_count": 393,
   "id": "83c82ed2-4a5a-4686-9144-fef429ac6d6b",
   "metadata": {},
   "outputs": [],
   "source": [
    "base_meteo_modifie_1 = pd.merge(base_meteo_modifie_1, data_communes, left_on='libelle_geolocalisation', right_on=\"nom_commune_complet\",  how='left', validate=\"m:1\")"
   ]
  },
  {
   "cell_type": "code",
   "execution_count": 394,
   "id": "07e4d03b-38ba-4753-9eb3-58854be16994",
   "metadata": {},
   "outputs": [
    {
     "name": "stdout",
     "output_type": "stream",
     "text": [
      "Nombre de valeurs uniques de combinaisons latitude - longitude :  61\n",
      "Nombre de régions couvertes :  21\n",
      "Nombre de communes renseignées dans la base:  62\n"
     ]
    }
   ],
   "source": [
    "print(\"Nombre de valeurs uniques de combinaisons latitude - longitude : \", base_meteo_modifie_1.groupby(['latitude_x', 'longitude_x']).size().nunique())\n",
    "print(\"Nombre de régions couvertes : \", base_meteo_modifie_1['nom_region_x'].nunique())\n",
    "print(\"Nombre de communes renseignées dans la base: \", base_meteo_modifie_1['nom_commune_x'].nunique())"
   ]
  },
  {
   "cell_type": "markdown",
   "id": "08bf4236-35bf-4498-90a7-5917579c6411",
   "metadata": {},
   "source": [
    "Il semble dès lors que la base a couvert toutes les régions de France, mais avec uniquement 61 points de collecte d'informations (à travers toute la France), correspondants à 62 communes. Comme toutes les latitudes et longitudes sont renseignées, à chaque couple (latitude - longitude) correspond un point de collecte, donc une commune, une région et un département. On va donc imputer tout d'abord les communes en fonction de ce qu'il a rencontré sur une autre ligne correspondant à la séquence longitude - latitude - commune, puis imputer département et région par la suite."
   ]
  },
  {
   "cell_type": "code",
   "execution_count": 395,
   "id": "27c27d25-8508-4616-982f-a67e401cf567",
   "metadata": {},
   "outputs": [],
   "source": [
    "# Tri du DataFrame par 'longitude' et 'latitude'\n",
    "base_meteo_modifie_1.sort_values(['longitude_x', 'latitude_x'], inplace=True)\n",
    "\n",
    "# Remplir les valeurs manquantes dans 'departement' et région en fonction des combinaisons 'longitude-latitude'\n",
    "base_meteo_modifie_1['code_departement_x'] = base_meteo_modifie_1.groupby(['longitude_x', 'latitude_x'])['code_departement_x'].transform(lambda x: x.ffill().bfill())\n",
    "base_meteo_modifie_1['code_region_x'] = base_meteo_modifie_1.groupby(['longitude_x', 'latitude_x'])['code_region_x'].transform(lambda x: x.ffill().bfill())"
   ]
  },
  {
   "cell_type": "code",
   "execution_count": 396,
   "id": "8720d7a6-7eac-438b-bd04-161374bd66c5",
   "metadata": {},
   "outputs": [],
   "source": [
    "base_meteo_modifie_1['code_departement_y'] = base_meteo_modifie_1.groupby(['longitude_y', 'latitude_y'])['code_departement_y'].transform(lambda x: x.ffill().bfill())\n",
    "base_meteo_modifie_1['code_region_y'] = base_meteo_modifie_1.groupby(['longitude_y', 'latitude_y'])['code_region_y'].transform(lambda x: x.ffill().bfill())"
   ]
  },
  {
   "cell_type": "code",
   "execution_count": 397,
   "id": "291551a7-7991-487b-9af7-953e9949d87f",
   "metadata": {},
   "outputs": [
    {
     "data": {
      "text/plain": [
       "2353668"
      ]
     },
     "execution_count": 397,
     "metadata": {},
     "output_type": "execute_result"
    }
   ],
   "source": [
    "len(base_meteo_modifie_1)"
   ]
  },
  {
   "cell_type": "code",
   "execution_count": 398,
   "id": "f17a2631-ef94-4252-abd6-3b2dfa387171",
   "metadata": {},
   "outputs": [
    {
     "data": {
      "text/plain": [
       "num_station                              0\n",
       "date_UTC                                 0\n",
       "vitesse_vent                         26924\n",
       "temperature                          15274\n",
       "nebulosite_totale                  1203829\n",
       "temperature_degre_celcius            15274\n",
       "temperature_celcius_min_sur_24h    2143006\n",
       "temperature_celcius_max_sur_24h    2143902\n",
       "latitude_x                               0\n",
       "longitude_x                              0\n",
       "altitude                                 0\n",
       "libelle_geolocalisation             242657\n",
       "code_geolocalisation                242657\n",
       "nom_departement_x                   242657\n",
       "code_departement_x                  156963\n",
       "nom_region_x                        242657\n",
       "code_region_x                       156963\n",
       "mois                                     0\n",
       "visibilite_horizontale              547882\n",
       "coordonnees                              0\n",
       "nom_commune_x                            0\n",
       "code_commune_INSEE                  288550\n",
       "nom_commune_postal                  288550\n",
       "code_postal                         288550\n",
       "libelle_acheminement                288550\n",
       "ligne_5                            2337406\n",
       "latitude_y                          320398\n",
       "longitude_y                         320398\n",
       "code_commune                        288550\n",
       "article                            2183688\n",
       "nom_commune_y                       288550\n",
       "nom_commune_complet                 288550\n",
       "code_departement_y                  320398\n",
       "nom_departement_y                   320398\n",
       "code_region_y                       320398\n",
       "nom_region_y                        320398\n",
       "dtype: int64"
      ]
     },
     "execution_count": 398,
     "metadata": {},
     "output_type": "execute_result"
    }
   ],
   "source": [
    "base_meteo_modifie_1.isna().sum()"
   ]
  },
  {
   "cell_type": "markdown",
   "id": "098ae6af-60eb-4201-94a5-e41d01d87983",
   "metadata": {},
   "source": [
    "## Agrégation des variables météorologiques"
   ]
  },
  {
   "cell_type": "code",
   "execution_count": 61,
   "id": "95393de0-00b4-4c22-b1dc-103502001ebf",
   "metadata": {},
   "outputs": [],
   "source": [
    "base_meteo_modifie_2=base_meteo_modifie_1"
   ]
  },
  {
   "cell_type": "markdown",
   "id": "711c61a1-e484-4fd0-a754-7d2655038721",
   "metadata": {},
   "source": [
    "Il est ici question de construire les variables qui seront utilisées dans les analyses. Les données seront agrégées au niveau régional et à une fréquence journalière."
   ]
  },
  {
   "cell_type": "markdown",
   "id": "f687ae6e-2641-486c-a890-ac073eed80cb",
   "metadata": {},
   "source": [
    "Il est ici question de construire les variables qui seront utilisées dans les analyses. Les données seront agrégées au niveau régional et à une fréquence journalière."
   ]
  },
  {
   "cell_type": "code",
   "execution_count": 62,
   "id": "18629c0b-23ef-4d80-83b7-430bb3764337",
   "metadata": {},
   "outputs": [],
   "source": [
    "def extraire_sous_chaine(chaine, debut, fin):\n",
    "    \"\"\"\n",
    "    Extrait la sous-chaîne de 'debut' à 'fin' (inclus) de la chaîne donnée.\n",
    "    \"\"\"\n",
    "    if debut < 0 or fin >= len(chaine):\n",
    "        raise ValueError(\"Indices de début ou de fin invalides.\")\n",
    "    return chaine[debut : fin + 1]"
   ]
  },
  {
   "cell_type": "markdown",
   "id": "8f0950b6-8fd3-458d-892d-5d32a120c945",
   "metadata": {},
   "source": [
    "Nous appliquons la fonction à la base:"
   ]
  },
  {
   "cell_type": "code",
   "execution_count": 63,
   "id": "56757649-4d1d-48ee-976d-fff8cca79ed8",
   "metadata": {},
   "outputs": [],
   "source": [
    "base_meteo_modifie_2['jour']=base_meteo_modifie_2['date_UTC'].apply(extraire_sous_chaine,debut=0,fin=9)\n",
    "base_meteo_modifie_2['heure']=base_meteo_modifie_2['date_UTC'].apply(extraire_sous_chaine,debut=11,fin=18)"
   ]
  },
  {
   "cell_type": "code",
   "execution_count": null,
   "id": "0cb1245e-c1a4-40b2-95f2-8105fd856072",
   "metadata": {},
   "outputs": [],
   "source": []
  },
  {
   "cell_type": "markdown",
   "id": "637650da-bb17-4e5f-9e93-ee69654cb70f",
   "metadata": {},
   "source": [
    "## Agrégation des variables à l'échelle départementale"
   ]
  },
  {
   "cell_type": "markdown",
   "id": "e1a767c3-427d-4cbb-9f39-0157724ef7a5",
   "metadata": {},
   "source": [
    "Tout d'abord, agrégeons les variables 'temperature_degre_celcius','vitesse_vent', 'nebulosite_totale', 'humidite', 'visibilite_horizontale'"
   ]
  },
  {
   "cell_type": "code",
   "execution_count": 85,
   "id": "e997c0e8-383f-4828-a6c8-65816b330831",
   "metadata": {},
   "outputs": [],
   "source": [
    "agregation_dep_mean = base_meteo_modifie_2.groupby(['jour','code_departement'], as_index=False).agg({'temperature_degre_celcius': 'mean', 'vitesse_vent': 'mean','nebulosite_totale':'mean','visibilite_horizontale':'mean'})\n",
    "agregation_dep_mean = agregation_dep_mean.rename(columns={'jour':'jour','code_departement':'code_departement','temperature_degre_celcius':'temperature_degre_celcius_departement','vitesse_vent':'vitesse_vent_departement','nebulosite_totale':'nebulosite_totale_departement','visibilite_horizontale':'visibilite_horizontale_departement'})"
   ]
  },
  {
   "cell_type": "code",
   "execution_count": 65,
   "id": "5805b781-f402-4751-887d-c68a5a7a2410",
   "metadata": {},
   "outputs": [],
   "source": [
    "base_meteo_modifie_3 = pd.merge(base_meteo_modifie_2, agregation_dep_mean, on=['jour','code_departement'], how='left')"
   ]
  },
  {
   "cell_type": "code",
   "execution_count": 66,
   "id": "b276e6ea-735d-4803-97ea-94059f2869dc",
   "metadata": {},
   "outputs": [],
   "source": [
    "dep.rename(columns={'INSEE_DEP': 'code_departement'}, inplace=True)\n",
    "dep['code_departement'] = dep['code_departement'].astype(str)\n",
    "base_meteo_modifie_4 = dep.merge(base_meteo_modifie_3, on='code_departement')\n",
    "#base_meteo_modifie_4 = gpd.GeoDataFrame(pd.merge(base_meteo_modifie_3, data_geo, on=['code_departement'], how='left'),  geometry='geometry')"
   ]
  },
  {
   "cell_type": "code",
   "execution_count": 86,
   "id": "37fb40ca-22dc-49e1-909c-da78c1bb8ad4",
   "metadata": {},
   "outputs": [
    {
     "data": {
      "text/html": [
       "<div>\n",
       "<style scoped>\n",
       "    .dataframe tbody tr th:only-of-type {\n",
       "        vertical-align: middle;\n",
       "    }\n",
       "\n",
       "    .dataframe tbody tr th {\n",
       "        vertical-align: top;\n",
       "    }\n",
       "\n",
       "    .dataframe thead th {\n",
       "        text-align: right;\n",
       "    }\n",
       "</style>\n",
       "<table border=\"1\" class=\"dataframe\">\n",
       "  <thead>\n",
       "    <tr style=\"text-align: right;\">\n",
       "      <th></th>\n",
       "      <th>jour</th>\n",
       "      <th>code_departement</th>\n",
       "      <th>temperature_degre_celcius_departement</th>\n",
       "      <th>vitesse_vent_departement</th>\n",
       "      <th>nebulosite_totale_departement</th>\n",
       "      <th>visibilite_horizontale_departement</th>\n",
       "    </tr>\n",
       "  </thead>\n",
       "  <tbody>\n",
       "    <tr>\n",
       "      <th>0</th>\n",
       "      <td>2010-01-01</td>\n",
       "      <td>05</td>\n",
       "      <td>3.275</td>\n",
       "      <td>2.4375</td>\n",
       "      <td>NaN</td>\n",
       "      <td>NaN</td>\n",
       "    </tr>\n",
       "    <tr>\n",
       "      <th>1</th>\n",
       "      <td>2010-01-01</td>\n",
       "      <td>06</td>\n",
       "      <td>10.200</td>\n",
       "      <td>2.7625</td>\n",
       "      <td>90.714286</td>\n",
       "      <td>24750.0</td>\n",
       "    </tr>\n",
       "    <tr>\n",
       "      <th>2</th>\n",
       "      <td>2010-01-01</td>\n",
       "      <td>09</td>\n",
       "      <td>6.225</td>\n",
       "      <td>4.8375</td>\n",
       "      <td>91.250000</td>\n",
       "      <td>15000.0</td>\n",
       "    </tr>\n",
       "    <tr>\n",
       "      <th>3</th>\n",
       "      <td>2010-01-01</td>\n",
       "      <td>10</td>\n",
       "      <td>0.750</td>\n",
       "      <td>4.8625</td>\n",
       "      <td>100.000000</td>\n",
       "      <td>5250.0</td>\n",
       "    </tr>\n",
       "    <tr>\n",
       "      <th>4</th>\n",
       "      <td>2010-01-01</td>\n",
       "      <td>12</td>\n",
       "      <td>2.825</td>\n",
       "      <td>7.9750</td>\n",
       "      <td>95.000000</td>\n",
       "      <td>3000.0</td>\n",
       "    </tr>\n",
       "  </tbody>\n",
       "</table>\n",
       "</div>"
      ],
      "text/plain": [
       "         jour code_departement  temperature_degre_celcius_departement  \\\n",
       "0  2010-01-01               05                                  3.275   \n",
       "1  2010-01-01               06                                 10.200   \n",
       "2  2010-01-01               09                                  6.225   \n",
       "3  2010-01-01               10                                  0.750   \n",
       "4  2010-01-01               12                                  2.825   \n",
       "\n",
       "   vitesse_vent_departement  nebulosite_totale_departement  \\\n",
       "0                    2.4375                            NaN   \n",
       "1                    2.7625                      90.714286   \n",
       "2                    4.8375                      91.250000   \n",
       "3                    4.8625                     100.000000   \n",
       "4                    7.9750                      95.000000   \n",
       "\n",
       "   visibilite_horizontale_departement  \n",
       "0                                 NaN  \n",
       "1                             24750.0  \n",
       "2                             15000.0  \n",
       "3                              5250.0  \n",
       "4                              3000.0  "
      ]
     },
     "execution_count": 86,
     "metadata": {},
     "output_type": "execute_result"
    }
   ],
   "source": [
    "agregation_dep_mean.head()"
   ]
  },
  {
   "cell_type": "markdown",
   "id": "f104accb-379a-4290-9bc5-a749f15eda16",
   "metadata": {},
   "source": [
    "### Aggrégation par région en appliquant les pondérations que sont les superficies des départements"
   ]
  },
  {
   "cell_type": "markdown",
   "id": "e6471a10-4fcd-4e0a-b1d4-fa36296910bd",
   "metadata": {},
   "source": [
    "Créons un dictionnaire pour stocker les critères d'agrégation"
   ]
  },
  {
   "cell_type": "code",
   "execution_count": 71,
   "id": "4c2c8f4a-bd89-4f81-95b4-5ad5aa74afc5",
   "metadata": {},
   "outputs": [],
   "source": [
    "criteres_agregation = {'temperature_degre_celcius_departement': lambda x: np.average(x, weights=base_meteo_modifie_4.loc[x.index, 'superficie']),'vitesse_vent_departement': lambda x: np.average(x, weights=base_meteo_modifie_4.loc[x.index, 'superficie']),'nebulosite_totale_departement': lambda x: np.average(x, weights=base_meteo_modifie_4.loc[x.index, 'superficie']),'visibilite_horizontale_departement': lambda x: np.average(x, weights=base_meteo_modifie_4.loc[x.index, 'superficie'])}"
   ]
  },
  {
   "cell_type": "markdown",
   "id": "4420c2f8-0514-46fb-b7fe-ae9d5e9b27cd",
   "metadata": {},
   "source": [
    "Appliquons l'agrégation groupée en utilisant les critères spécifiés"
   ]
  },
  {
   "cell_type": "code",
   "execution_count": 74,
   "id": "aa77abe4-88b5-4599-94b9-d8bba4c57a55",
   "metadata": {},
   "outputs": [],
   "source": [
    "agregation_reg_mean = base_meteo_modifie_4.groupby(['jour','code_region'], as_index=False).agg(criteres_agregation)"
   ]
  },
  {
   "cell_type": "code",
   "execution_count": 75,
   "id": "d54e0176-3a02-4293-9c2e-46526b2c1196",
   "metadata": {},
   "outputs": [
    {
     "data": {
      "text/html": [
       "<div>\n",
       "<style scoped>\n",
       "    .dataframe tbody tr th:only-of-type {\n",
       "        vertical-align: middle;\n",
       "    }\n",
       "\n",
       "    .dataframe tbody tr th {\n",
       "        vertical-align: top;\n",
       "    }\n",
       "\n",
       "    .dataframe thead th {\n",
       "        text-align: right;\n",
       "    }\n",
       "</style>\n",
       "<table border=\"1\" class=\"dataframe\">\n",
       "  <thead>\n",
       "    <tr style=\"text-align: right;\">\n",
       "      <th></th>\n",
       "      <th>jour</th>\n",
       "      <th>code_region</th>\n",
       "      <th>temperature_degre_celcius_departement</th>\n",
       "      <th>vitesse_vent_departement</th>\n",
       "      <th>nebulosite_totale_departement</th>\n",
       "      <th>visibilite_horizontale_departement</th>\n",
       "    </tr>\n",
       "  </thead>\n",
       "  <tbody>\n",
       "    <tr>\n",
       "      <th>0</th>\n",
       "      <td>2010-01-01</td>\n",
       "      <td>11.0</td>\n",
       "      <td>-0.062500</td>\n",
       "      <td>4.900000</td>\n",
       "      <td>85.714286</td>\n",
       "      <td>13437.500000</td>\n",
       "    </tr>\n",
       "    <tr>\n",
       "      <th>1</th>\n",
       "      <td>2010-01-01</td>\n",
       "      <td>24.0</td>\n",
       "      <td>1.424418</td>\n",
       "      <td>3.459109</td>\n",
       "      <td>96.569760</td>\n",
       "      <td>7092.446640</td>\n",
       "    </tr>\n",
       "    <tr>\n",
       "      <th>2</th>\n",
       "      <td>2010-01-01</td>\n",
       "      <td>27.0</td>\n",
       "      <td>2.237500</td>\n",
       "      <td>4.237500</td>\n",
       "      <td>89.285714</td>\n",
       "      <td>19625.000000</td>\n",
       "    </tr>\n",
       "    <tr>\n",
       "      <th>3</th>\n",
       "      <td>2010-01-01</td>\n",
       "      <td>28.0</td>\n",
       "      <td>1.785906</td>\n",
       "      <td>5.473036</td>\n",
       "      <td>76.630411</td>\n",
       "      <td>16728.515248</td>\n",
       "    </tr>\n",
       "    <tr>\n",
       "      <th>4</th>\n",
       "      <td>2010-01-01</td>\n",
       "      <td>32.0</td>\n",
       "      <td>0.238066</td>\n",
       "      <td>4.914637</td>\n",
       "      <td>46.586860</td>\n",
       "      <td>21470.137965</td>\n",
       "    </tr>\n",
       "  </tbody>\n",
       "</table>\n",
       "</div>"
      ],
      "text/plain": [
       "         jour  code_region  temperature_degre_celcius_departement  \\\n",
       "0  2010-01-01         11.0                              -0.062500   \n",
       "1  2010-01-01         24.0                               1.424418   \n",
       "2  2010-01-01         27.0                               2.237500   \n",
       "3  2010-01-01         28.0                               1.785906   \n",
       "4  2010-01-01         32.0                               0.238066   \n",
       "\n",
       "   vitesse_vent_departement  nebulosite_totale_departement  \\\n",
       "0                  4.900000                      85.714286   \n",
       "1                  3.459109                      96.569760   \n",
       "2                  4.237500                      89.285714   \n",
       "3                  5.473036                      76.630411   \n",
       "4                  4.914637                      46.586860   \n",
       "\n",
       "   visibilite_horizontale_departement  \n",
       "0                        13437.500000  \n",
       "1                         7092.446640  \n",
       "2                        19625.000000  \n",
       "3                        16728.515248  \n",
       "4                        21470.137965  "
      ]
     },
     "execution_count": 75,
     "metadata": {},
     "output_type": "execute_result"
    }
   ],
   "source": [
    "agregation_reg_mean.head()"
   ]
  },
  {
   "cell_type": "code",
   "execution_count": 76,
   "id": "4fb96605-2bdf-4aaf-8c36-c5474f30c869",
   "metadata": {},
   "outputs": [],
   "source": [
    "agregation_reg_mean = agregation_reg_mean.rename(columns={'jour':'jour','code_region':'code_region','temperature_degre_celcius_departement':'temperature_degre_celcius_region','vitesse_vent_departement':'vitesse_vent_region','nebulosite_totale_departement':'nebulosite_totale_region','visibilite_horizontale_departement':'visibilite_horizontale_region'})"
   ]
  },
  {
   "cell_type": "markdown",
   "id": "ca22d698-f990-4afb-a746-a209971c2a28",
   "metadata": {},
   "source": [
    "Fusion de la base agrégée obtenue et de la base de départ dans une nouvelle base"
   ]
  },
  {
   "cell_type": "code",
   "execution_count": 77,
   "id": "a332724d-57b3-422a-a960-f1740551a745",
   "metadata": {},
   "outputs": [],
   "source": [
    "base_meteo_modifie_5 = pd.merge(base_meteo_modifie_4, agregation_reg_mean, on=['jour','code_region'], how='left')"
   ]
  },
  {
   "cell_type": "markdown",
   "id": "8d6563fc-812f-447f-8466-0ddd9b260a6d",
   "metadata": {},
   "source": [
    "Aperçu de la base obtenue"
   ]
  },
  {
   "cell_type": "code",
   "execution_count": 87,
   "id": "b5351550-46ba-43ee-8e10-b683cbf1847d",
   "metadata": {},
   "outputs": [
    {
     "data": {
      "text/plain": [
       "Index(['id', 'ID', 'NOM_M', 'NOM', 'code_departement', 'INSEE_REG', 'source',\n",
       "       'territoire', 'geometry', 'superficie', 'num_station', 'date_UTC',\n",
       "       'vitesse_vent', 'temperature', 'nebulosite_totale',\n",
       "       'temperature_degre_celcius', 'temperature_celcius_min_sur_24h',\n",
       "       'temperature_celcius_max_sur_24h', 'latitude', 'longitude', 'altitude',\n",
       "       'libelle_geolocalisation', 'nom_departement', 'nom_region',\n",
       "       'code_region', 'mois', 'visibilite_horizontale', 'coordonnees',\n",
       "       'nom_commune', 'jour', 'heure', 'temperature_degre_celcius_departement',\n",
       "       'vitesse_vent_departement', 'nebulosite_totale_departement',\n",
       "       'visibilite_horizontale_departement',\n",
       "       'temperature_degre_celcius_region', 'vitesse_vent_region',\n",
       "       'nebulosite_totale_region', 'visibilite_horizontale_region'],\n",
       "      dtype='object')"
      ]
     },
     "execution_count": 87,
     "metadata": {},
     "output_type": "execute_result"
    }
   ],
   "source": [
    "base_meteo_modifie_5.columns"
   ]
  },
  {
   "cell_type": "code",
   "execution_count": 82,
   "id": "d650c5e2-2cd1-4980-bec7-d3cb5dba3456",
   "metadata": {},
   "outputs": [
    {
     "data": {
      "image/png": "[encoded data removed]",
      "text/plain": [
       "<Figure size 640x480 with 1 Axes>"
      ]
     },
     "metadata": {},
     "output_type": "display_data"
    }
   ],
   "source": [
    "ax = dep.plot(column = \"code_departement\")\n",
    "ax.set_axis_off()"
   ]
  },
  {
   "cell_type": "markdown",
   "id": "c44d0c2c-87dc-44e3-921e-ab76acdfc012",
   "metadata": {},
   "source": [
    "## Agrégation des autres variables (températures minimales et maximales)"
   ]
  },
  {
   "cell_type": "markdown",
   "id": "ca75030a-4de7-40b8-b429-d633057f8b4d",
   "metadata": {},
   "source": [
    "Nous allons considérer que la température minimale/maximale observée avant 22h est la température minimale/maximale de la journée.\n",
    "\n",
    "Crérons une base des températures minimales\n",
    "On extrait le base de données pour chaque 22h"
   ]
  },
  {
   "cell_type": "code",
   "execution_count": 88,
   "id": "a77385dd-6eee-4096-b000-a69f0c16f427",
   "metadata": {},
   "outputs": [],
   "source": [
    "base_22h=base_meteo_modifie_2[base_meteo_modifie_2['heure']=='22:00:00']\n",
    "agregation_reg_min_max=base_22h.groupby(['jour','code_region'], as_index=False).agg({'temperature_celcius_min_sur_24h': 'min', 'temperature_celcius_max_sur_24h': 'max'})\n",
    "agregation_reg_min_max = agregation_reg_min_max.rename(columns={'jour':'jour','code_region':'code_region','temperature_celcius_min_sur_24h':'temperature_celcius_min_sur_24h_region','temperature_celcius_max_sur_24h':'temperature_celcius_max_sur_24h_region'})"
   ]
  },
  {
   "cell_type": "code",
   "execution_count": 100,
   "id": "c755163f-2623-4326-b402-302b97ec12e4",
   "metadata": {},
   "outputs": [
    {
     "data": {
      "text/plain": [
       "num_station                              0\n",
       "date_UTC                                 0\n",
       "vitesse_vent                         26924\n",
       "temperature                          15274\n",
       "nebulosite_totale                  1203829\n",
       "temperature_degre_celcius            15274\n",
       "temperature_celcius_min_sur_24h    2143006\n",
       "temperature_celcius_max_sur_24h    2143902\n",
       "latitude                                 0\n",
       "longitude                                0\n",
       "altitude                                 0\n",
       "libelle_geolocalisation             242657\n",
       "nom_departement                     242657\n",
       "code_departement                    242657\n",
       "nom_region                          242657\n",
       "code_region                         242657\n",
       "mois                                     0\n",
       "visibilite_horizontale              547882\n",
       "coordonnees                              0\n",
       "nom_commune                              0\n",
       "jour                                     0\n",
       "heure                                    0\n",
       "dtype: int64"
      ]
     },
     "execution_count": 100,
     "metadata": {},
     "output_type": "execute_result"
    }
   ],
   "source": [
    "base_meteo_modifie_1.isna().sum()"
   ]
  },
  {
   "cell_type": "code",
   "execution_count": 107,
   "id": "874c2af1-497d-445f-b525-2defa75b28c5",
   "metadata": {},
   "outputs": [
    {
     "ename": "IndexError",
     "evalue": "single positional indexer is out-of-bounds",
     "output_type": "error",
     "traceback": [
      "\u001b[0;31m---------------------------------------------------------------------------\u001b[0m",
      "\u001b[0;31mIndexError\u001b[0m                                Traceback (most recent call last)",
      "Cell \u001b[0;32mIn[107], line 1\u001b[0m\n\u001b[0;32m----> 1\u001b[0m base_meteo_modifie_1[\u001b[38;5;124m'\u001b[39m\u001b[38;5;124mcode_departement\u001b[39m\u001b[38;5;124m'\u001b[39m]\u001b[38;5;241m.\u001b[39mfillna(\u001b[43mbase_meteo_modifie_1\u001b[49m\u001b[38;5;241;43m.\u001b[39;49m\u001b[43mgroupby\u001b[49m\u001b[43m(\u001b[49m\u001b[38;5;124;43m'\u001b[39;49m\u001b[38;5;124;43mnom_commune\u001b[39;49m\u001b[38;5;124;43m'\u001b[39;49m\u001b[43m)\u001b[49m\u001b[43m[\u001b[49m\u001b[38;5;124;43m'\u001b[39;49m\u001b[38;5;124;43mcode_departement\u001b[39;49m\u001b[38;5;124;43m'\u001b[39;49m\u001b[43m]\u001b[49m\u001b[38;5;241;43m.\u001b[39;49m\u001b[43mtransform\u001b[49m\u001b[43m(\u001b[49m\u001b[38;5;28;43;01mlambda\u001b[39;49;00m\u001b[43m \u001b[49m\u001b[43mx\u001b[49m\u001b[43m:\u001b[49m\u001b[43m \u001b[49m\u001b[43mx\u001b[49m\u001b[38;5;241;43m.\u001b[39;49m\u001b[43mmode\u001b[49m\u001b[43m(\u001b[49m\u001b[43m)\u001b[49m\u001b[38;5;241;43m.\u001b[39;49m\u001b[43miloc\u001b[49m\u001b[43m[\u001b[49m\u001b[38;5;241;43m0\u001b[39;49m\u001b[43m]\u001b[49m\u001b[43m)\u001b[49m, inplace\u001b[38;5;241m=\u001b[39m\u001b[38;5;28;01mTrue\u001b[39;00m)\n",
      "File \u001b[0;32m/opt/mamba/lib/python3.10/site-packages/pandas/core/groupby/generic.py:469\u001b[0m, in \u001b[0;36mSeriesGroupBy.transform\u001b[0;34m(self, func, engine, engine_kwargs, *args, **kwargs)\u001b[0m\n\u001b[1;32m    466\u001b[0m \u001b[38;5;129m@Substitution\u001b[39m(klass\u001b[38;5;241m=\u001b[39m\u001b[38;5;124m\"\u001b[39m\u001b[38;5;124mSeries\u001b[39m\u001b[38;5;124m\"\u001b[39m, example\u001b[38;5;241m=\u001b[39m__examples_series_doc)\n\u001b[1;32m    467\u001b[0m \u001b[38;5;129m@Appender\u001b[39m(_transform_template)\n\u001b[1;32m    468\u001b[0m \u001b[38;5;28;01mdef\u001b[39;00m \u001b[38;5;21mtransform\u001b[39m(\u001b[38;5;28mself\u001b[39m, func, \u001b[38;5;241m*\u001b[39margs, engine\u001b[38;5;241m=\u001b[39m\u001b[38;5;28;01mNone\u001b[39;00m, engine_kwargs\u001b[38;5;241m=\u001b[39m\u001b[38;5;28;01mNone\u001b[39;00m, \u001b[38;5;241m*\u001b[39m\u001b[38;5;241m*\u001b[39mkwargs):\n\u001b[0;32m--> 469\u001b[0m     \u001b[38;5;28;01mreturn\u001b[39;00m \u001b[38;5;28;43mself\u001b[39;49m\u001b[38;5;241;43m.\u001b[39;49m\u001b[43m_transform\u001b[49m\u001b[43m(\u001b[49m\n\u001b[1;32m    470\u001b[0m \u001b[43m        \u001b[49m\u001b[43mfunc\u001b[49m\u001b[43m,\u001b[49m\u001b[43m \u001b[49m\u001b[38;5;241;43m*\u001b[39;49m\u001b[43margs\u001b[49m\u001b[43m,\u001b[49m\u001b[43m \u001b[49m\u001b[43mengine\u001b[49m\u001b[38;5;241;43m=\u001b[39;49m\u001b[43mengine\u001b[49m\u001b[43m,\u001b[49m\u001b[43m \u001b[49m\u001b[43mengine_kwargs\u001b[49m\u001b[38;5;241;43m=\u001b[39;49m\u001b[43mengine_kwargs\u001b[49m\u001b[43m,\u001b[49m\u001b[43m \u001b[49m\u001b[38;5;241;43m*\u001b[39;49m\u001b[38;5;241;43m*\u001b[39;49m\u001b[43mkwargs\u001b[49m\n\u001b[1;32m    471\u001b[0m \u001b[43m    \u001b[49m\u001b[43m)\u001b[49m\n",
      "File \u001b[0;32m/opt/mamba/lib/python3.10/site-packages/pandas/core/groupby/groupby.py:1530\u001b[0m, in \u001b[0;36mGroupBy._transform\u001b[0;34m(self, func, engine, engine_kwargs, *args, **kwargs)\u001b[0m\n\u001b[1;32m   1527\u001b[0m func \u001b[38;5;241m=\u001b[39m com\u001b[38;5;241m.\u001b[39mget_cython_func(func) \u001b[38;5;129;01mor\u001b[39;00m func\n\u001b[1;32m   1529\u001b[0m \u001b[38;5;28;01mif\u001b[39;00m \u001b[38;5;129;01mnot\u001b[39;00m \u001b[38;5;28misinstance\u001b[39m(func, \u001b[38;5;28mstr\u001b[39m):\n\u001b[0;32m-> 1530\u001b[0m     \u001b[38;5;28;01mreturn\u001b[39;00m \u001b[38;5;28;43mself\u001b[39;49m\u001b[38;5;241;43m.\u001b[39;49m\u001b[43m_transform_general\u001b[49m\u001b[43m(\u001b[49m\u001b[43mfunc\u001b[49m\u001b[43m,\u001b[49m\u001b[43m \u001b[49m\u001b[38;5;241;43m*\u001b[39;49m\u001b[43margs\u001b[49m\u001b[43m,\u001b[49m\u001b[43m \u001b[49m\u001b[38;5;241;43m*\u001b[39;49m\u001b[38;5;241;43m*\u001b[39;49m\u001b[43mkwargs\u001b[49m\u001b[43m)\u001b[49m\n\u001b[1;32m   1532\u001b[0m \u001b[38;5;28;01melif\u001b[39;00m func \u001b[38;5;129;01mnot\u001b[39;00m \u001b[38;5;129;01min\u001b[39;00m base\u001b[38;5;241m.\u001b[39mtransform_kernel_allowlist:\n\u001b[1;32m   1533\u001b[0m     msg \u001b[38;5;241m=\u001b[39m \u001b[38;5;124mf\u001b[39m\u001b[38;5;124m\"\u001b[39m\u001b[38;5;124m'\u001b[39m\u001b[38;5;132;01m{\u001b[39;00mfunc\u001b[38;5;132;01m}\u001b[39;00m\u001b[38;5;124m'\u001b[39m\u001b[38;5;124m is not a valid function name for transform(name)\u001b[39m\u001b[38;5;124m\"\u001b[39m\n",
      "File \u001b[0;32m/opt/mamba/lib/python3.10/site-packages/pandas/core/groupby/generic.py:503\u001b[0m, in \u001b[0;36mSeriesGroupBy._transform_general\u001b[0;34m(self, func, *args, **kwargs)\u001b[0m\n\u001b[1;32m    498\u001b[0m \u001b[38;5;28;01mfor\u001b[39;00m name, group \u001b[38;5;129;01min\u001b[39;00m \u001b[38;5;28mself\u001b[39m\u001b[38;5;241m.\u001b[39mgrouper\u001b[38;5;241m.\u001b[39mget_iterator(\n\u001b[1;32m    499\u001b[0m     \u001b[38;5;28mself\u001b[39m\u001b[38;5;241m.\u001b[39m_selected_obj, axis\u001b[38;5;241m=\u001b[39m\u001b[38;5;28mself\u001b[39m\u001b[38;5;241m.\u001b[39maxis\n\u001b[1;32m    500\u001b[0m ):\n\u001b[1;32m    501\u001b[0m     \u001b[38;5;66;03m# this setattr is needed for test_transform_lambda_with_datetimetz\u001b[39;00m\n\u001b[1;32m    502\u001b[0m     \u001b[38;5;28mobject\u001b[39m\u001b[38;5;241m.\u001b[39m\u001b[38;5;21m__setattr__\u001b[39m(group, \u001b[38;5;124m\"\u001b[39m\u001b[38;5;124mname\u001b[39m\u001b[38;5;124m\"\u001b[39m, name)\n\u001b[0;32m--> 503\u001b[0m     res \u001b[38;5;241m=\u001b[39m \u001b[43mfunc\u001b[49m\u001b[43m(\u001b[49m\u001b[43mgroup\u001b[49m\u001b[43m,\u001b[49m\u001b[43m \u001b[49m\u001b[38;5;241;43m*\u001b[39;49m\u001b[43margs\u001b[49m\u001b[43m,\u001b[49m\u001b[43m \u001b[49m\u001b[38;5;241;43m*\u001b[39;49m\u001b[38;5;241;43m*\u001b[39;49m\u001b[43mkwargs\u001b[49m\u001b[43m)\u001b[49m\n\u001b[1;32m    505\u001b[0m     results\u001b[38;5;241m.\u001b[39mappend(klass(res, index\u001b[38;5;241m=\u001b[39mgroup\u001b[38;5;241m.\u001b[39mindex))\n\u001b[1;32m    507\u001b[0m \u001b[38;5;66;03m# check for empty \"results\" to avoid concat ValueError\u001b[39;00m\n",
      "Cell \u001b[0;32mIn[107], line 1\u001b[0m, in \u001b[0;36m<lambda>\u001b[0;34m(x)\u001b[0m\n\u001b[0;32m----> 1\u001b[0m base_meteo_modifie_1[\u001b[38;5;124m'\u001b[39m\u001b[38;5;124mcode_departement\u001b[39m\u001b[38;5;124m'\u001b[39m]\u001b[38;5;241m.\u001b[39mfillna(base_meteo_modifie_1\u001b[38;5;241m.\u001b[39mgroupby(\u001b[38;5;124m'\u001b[39m\u001b[38;5;124mnom_commune\u001b[39m\u001b[38;5;124m'\u001b[39m)[\u001b[38;5;124m'\u001b[39m\u001b[38;5;124mcode_departement\u001b[39m\u001b[38;5;124m'\u001b[39m]\u001b[38;5;241m.\u001b[39mtransform(\u001b[38;5;28;01mlambda\u001b[39;00m x: \u001b[43mx\u001b[49m\u001b[38;5;241;43m.\u001b[39;49m\u001b[43mmode\u001b[49m\u001b[43m(\u001b[49m\u001b[43m)\u001b[49m\u001b[38;5;241;43m.\u001b[39;49m\u001b[43miloc\u001b[49m\u001b[43m[\u001b[49m\u001b[38;5;241;43m0\u001b[39;49m\u001b[43m]\u001b[49m), inplace\u001b[38;5;241m=\u001b[39m\u001b[38;5;28;01mTrue\u001b[39;00m)\n",
      "File \u001b[0;32m/opt/mamba/lib/python3.10/site-packages/pandas/core/indexing.py:1103\u001b[0m, in \u001b[0;36m_LocationIndexer.__getitem__\u001b[0;34m(self, key)\u001b[0m\n\u001b[1;32m   1100\u001b[0m axis \u001b[38;5;241m=\u001b[39m \u001b[38;5;28mself\u001b[39m\u001b[38;5;241m.\u001b[39maxis \u001b[38;5;129;01mor\u001b[39;00m \u001b[38;5;241m0\u001b[39m\n\u001b[1;32m   1102\u001b[0m maybe_callable \u001b[38;5;241m=\u001b[39m com\u001b[38;5;241m.\u001b[39mapply_if_callable(key, \u001b[38;5;28mself\u001b[39m\u001b[38;5;241m.\u001b[39mobj)\n\u001b[0;32m-> 1103\u001b[0m \u001b[38;5;28;01mreturn\u001b[39;00m \u001b[38;5;28;43mself\u001b[39;49m\u001b[38;5;241;43m.\u001b[39;49m\u001b[43m_getitem_axis\u001b[49m\u001b[43m(\u001b[49m\u001b[43mmaybe_callable\u001b[49m\u001b[43m,\u001b[49m\u001b[43m \u001b[49m\u001b[43maxis\u001b[49m\u001b[38;5;241;43m=\u001b[39;49m\u001b[43maxis\u001b[49m\u001b[43m)\u001b[49m\n",
      "File \u001b[0;32m/opt/mamba/lib/python3.10/site-packages/pandas/core/indexing.py:1656\u001b[0m, in \u001b[0;36m_iLocIndexer._getitem_axis\u001b[0;34m(self, key, axis)\u001b[0m\n\u001b[1;32m   1653\u001b[0m     \u001b[38;5;28;01mraise\u001b[39;00m \u001b[38;5;167;01mTypeError\u001b[39;00m(\u001b[38;5;124m\"\u001b[39m\u001b[38;5;124mCannot index by location index with a non-integer key\u001b[39m\u001b[38;5;124m\"\u001b[39m)\n\u001b[1;32m   1655\u001b[0m \u001b[38;5;66;03m# validate the location\u001b[39;00m\n\u001b[0;32m-> 1656\u001b[0m \u001b[38;5;28;43mself\u001b[39;49m\u001b[38;5;241;43m.\u001b[39;49m\u001b[43m_validate_integer\u001b[49m\u001b[43m(\u001b[49m\u001b[43mkey\u001b[49m\u001b[43m,\u001b[49m\u001b[43m \u001b[49m\u001b[43maxis\u001b[49m\u001b[43m)\u001b[49m\n\u001b[1;32m   1658\u001b[0m \u001b[38;5;28;01mreturn\u001b[39;00m \u001b[38;5;28mself\u001b[39m\u001b[38;5;241m.\u001b[39mobj\u001b[38;5;241m.\u001b[39m_ixs(key, axis\u001b[38;5;241m=\u001b[39maxis)\n",
      "File \u001b[0;32m/opt/mamba/lib/python3.10/site-packages/pandas/core/indexing.py:1589\u001b[0m, in \u001b[0;36m_iLocIndexer._validate_integer\u001b[0;34m(self, key, axis)\u001b[0m\n\u001b[1;32m   1587\u001b[0m len_axis \u001b[38;5;241m=\u001b[39m \u001b[38;5;28mlen\u001b[39m(\u001b[38;5;28mself\u001b[39m\u001b[38;5;241m.\u001b[39mobj\u001b[38;5;241m.\u001b[39m_get_axis(axis))\n\u001b[1;32m   1588\u001b[0m \u001b[38;5;28;01mif\u001b[39;00m key \u001b[38;5;241m>\u001b[39m\u001b[38;5;241m=\u001b[39m len_axis \u001b[38;5;129;01mor\u001b[39;00m key \u001b[38;5;241m<\u001b[39m \u001b[38;5;241m-\u001b[39mlen_axis:\n\u001b[0;32m-> 1589\u001b[0m     \u001b[38;5;28;01mraise\u001b[39;00m \u001b[38;5;167;01mIndexError\u001b[39;00m(\u001b[38;5;124m\"\u001b[39m\u001b[38;5;124msingle positional indexer is out-of-bounds\u001b[39m\u001b[38;5;124m\"\u001b[39m)\n",
      "\u001b[0;31mIndexError\u001b[0m: single positional indexer is out-of-bounds"
     ]
    }
   ],
   "source": [
    "base_meteo_modifie_1['code_departement'].fillna(base_meteo_modifie_1.groupby('nom_commune')['code_departement'].transform(lambda x: x.mode().iloc[0]), inplace=True)"
   ]
  },
  {
   "cell_type": "markdown",
   "id": "6fc5c85d-b9eb-4ae6-a0a3-e1825749b6da",
   "metadata": {},
   "source": [
    "Fusion de la base agrégée obtenue et de la base de départ dans une nouvelle base"
   ]
  },
  {
   "cell_type": "code",
   "execution_count": 178,
   "id": "1ffebbd4-f163-40e2-a48a-38ae734a9806",
   "metadata": {},
   "outputs": [],
   "source": [
    "base_meteo_modifie_6 = pd.merge(base_meteo_modifie_5, agregation_reg_min_max, on=['jour','code_region'], how='left')"
   ]
  },
  {
   "cell_type": "markdown",
   "id": "e543fe73-c0a0-4644-b2e4-034f8b388535",
   "metadata": {},
   "source": [
    "Aperçu"
   ]
  },
  {
   "cell_type": "code",
   "execution_count": 181,
   "id": "8a353e11-7b12-4e7a-aee7-bf3028675daf",
   "metadata": {},
   "outputs": [
    {
     "data": {
      "text/html": [
       "<div>\n",
       "<style scoped>\n",
       "    .dataframe tbody tr th:only-of-type {\n",
       "        vertical-align: middle;\n",
       "    }\n",
       "\n",
       "    .dataframe tbody tr th {\n",
       "        vertical-align: top;\n",
       "    }\n",
       "\n",
       "    .dataframe thead th {\n",
       "        text-align: right;\n",
       "    }\n",
       "</style>\n",
       "<table border=\"1\" class=\"dataframe\">\n",
       "  <thead>\n",
       "    <tr style=\"text-align: right;\">\n",
       "      <th></th>\n",
       "      <th>num_station</th>\n",
       "      <th>date_UTC</th>\n",
       "      <th>pression_mer</th>\n",
       "      <th>variation_pression_3h</th>\n",
       "      <th>type_tendance_baro</th>\n",
       "      <th>direction_vent</th>\n",
       "      <th>vitesse_vent</th>\n",
       "      <th>temperature</th>\n",
       "      <th>point_de_rosee</th>\n",
       "      <th>humidite</th>\n",
       "      <th>...</th>\n",
       "      <th>vitesse_vent_departement</th>\n",
       "      <th>nebulosite_totale_departement</th>\n",
       "      <th>visibilite_horizontale_departement</th>\n",
       "      <th>superficie_km2</th>\n",
       "      <th>temperature_degre_celcius_region</th>\n",
       "      <th>vitesse_vent_region</th>\n",
       "      <th>nebulosite_totale_region</th>\n",
       "      <th>visibilite_horizontale_region</th>\n",
       "      <th>temperature_celcius_min_sur_24h_region</th>\n",
       "      <th>temperature_celcius_max_sur_24h_region</th>\n",
       "    </tr>\n",
       "  </thead>\n",
       "  <tbody>\n",
       "    <tr>\n",
       "      <th>0</th>\n",
       "      <td>7558</td>\n",
       "      <td>2010-01-05T10:00:00+01:00</td>\n",
       "      <td>100280.0</td>\n",
       "      <td>-50.0</td>\n",
       "      <td>5.0</td>\n",
       "      <td>260.0</td>\n",
       "      <td>1.5</td>\n",
       "      <td>275.75</td>\n",
       "      <td>275.75</td>\n",
       "      <td>100.0</td>\n",
       "      <td>...</td>\n",
       "      <td>1.5</td>\n",
       "      <td>100.0</td>\n",
       "      <td>4000.0</td>\n",
       "      <td>8735.1</td>\n",
       "      <td>4.108036</td>\n",
       "      <td>2.090036</td>\n",
       "      <td>NaN</td>\n",
       "      <td>NaN</td>\n",
       "      <td>NaN</td>\n",
       "      <td>NaN</td>\n",
       "    </tr>\n",
       "    <tr>\n",
       "      <th>1</th>\n",
       "      <td>61976</td>\n",
       "      <td>2010-01-05T10:00:00+01:00</td>\n",
       "      <td>100990.0</td>\n",
       "      <td>NaN</td>\n",
       "      <td>NaN</td>\n",
       "      <td>NaN</td>\n",
       "      <td>NaN</td>\n",
       "      <td>305.45</td>\n",
       "      <td>299.05</td>\n",
       "      <td>69.0</td>\n",
       "      <td>...</td>\n",
       "      <td>NaN</td>\n",
       "      <td>NaN</td>\n",
       "      <td>NaN</td>\n",
       "      <td>NaN</td>\n",
       "      <td>NaN</td>\n",
       "      <td>NaN</td>\n",
       "      <td>NaN</td>\n",
       "      <td>NaN</td>\n",
       "      <td>NaN</td>\n",
       "      <td>NaN</td>\n",
       "    </tr>\n",
       "    <tr>\n",
       "      <th>2</th>\n",
       "      <td>7027</td>\n",
       "      <td>2010-01-05T13:00:00+01:00</td>\n",
       "      <td>100720.0</td>\n",
       "      <td>-190.0</td>\n",
       "      <td>8.0</td>\n",
       "      <td>200.0</td>\n",
       "      <td>3.6</td>\n",
       "      <td>273.65</td>\n",
       "      <td>271.75</td>\n",
       "      <td>87.0</td>\n",
       "      <td>...</td>\n",
       "      <td>3.1</td>\n",
       "      <td>67.5</td>\n",
       "      <td>16000.0</td>\n",
       "      <td>5534.5</td>\n",
       "      <td>0.340072</td>\n",
       "      <td>4.891300</td>\n",
       "      <td>77.822977</td>\n",
       "      <td>13389.512450</td>\n",
       "      <td>NaN</td>\n",
       "      <td>NaN</td>\n",
       "    </tr>\n",
       "    <tr>\n",
       "      <th>3</th>\n",
       "      <td>7110</td>\n",
       "      <td>2010-01-05T13:00:00+01:00</td>\n",
       "      <td>100750.0</td>\n",
       "      <td>-230.0</td>\n",
       "      <td>8.0</td>\n",
       "      <td>210.0</td>\n",
       "      <td>4.1</td>\n",
       "      <td>276.95</td>\n",
       "      <td>272.55</td>\n",
       "      <td>73.0</td>\n",
       "      <td>...</td>\n",
       "      <td>4.6</td>\n",
       "      <td>82.5</td>\n",
       "      <td>17000.0</td>\n",
       "      <td>6733</td>\n",
       "      <td>1.079720</td>\n",
       "      <td>3.376568</td>\n",
       "      <td>NaN</td>\n",
       "      <td>19629.335109</td>\n",
       "      <td>NaN</td>\n",
       "      <td>NaN</td>\n",
       "    </tr>\n",
       "    <tr>\n",
       "      <th>4</th>\n",
       "      <td>7591</td>\n",
       "      <td>2010-01-05T13:00:00+01:00</td>\n",
       "      <td>NaN</td>\n",
       "      <td>NaN</td>\n",
       "      <td>NaN</td>\n",
       "      <td>NaN</td>\n",
       "      <td>NaN</td>\n",
       "      <td>274.45</td>\n",
       "      <td>269.05</td>\n",
       "      <td>67.0</td>\n",
       "      <td>...</td>\n",
       "      <td>NaN</td>\n",
       "      <td>NaN</td>\n",
       "      <td>NaN</td>\n",
       "      <td>5548.7</td>\n",
       "      <td>3.111914</td>\n",
       "      <td>NaN</td>\n",
       "      <td>NaN</td>\n",
       "      <td>NaN</td>\n",
       "      <td>NaN</td>\n",
       "      <td>NaN</td>\n",
       "    </tr>\n",
       "  </tbody>\n",
       "</table>\n",
       "<p>5 rows × 95 columns</p>\n",
       "</div>"
      ],
      "text/plain": [
       "   num_station                   date_UTC  pression_mer  \\\n",
       "0         7558  2010-01-05T10:00:00+01:00      100280.0   \n",
       "1        61976  2010-01-05T10:00:00+01:00      100990.0   \n",
       "2         7027  2010-01-05T13:00:00+01:00      100720.0   \n",
       "3         7110  2010-01-05T13:00:00+01:00      100750.0   \n",
       "4         7591  2010-01-05T13:00:00+01:00           NaN   \n",
       "\n",
       "   variation_pression_3h  type_tendance_baro  direction_vent  vitesse_vent  \\\n",
       "0                  -50.0                 5.0           260.0           1.5   \n",
       "1                    NaN                 NaN             NaN           NaN   \n",
       "2                 -190.0                 8.0           200.0           3.6   \n",
       "3                 -230.0                 8.0           210.0           4.1   \n",
       "4                    NaN                 NaN             NaN           NaN   \n",
       "\n",
       "   temperature  point_de_rosee  humidite  ...  vitesse_vent_departement  \\\n",
       "0       275.75          275.75     100.0  ...                       1.5   \n",
       "1       305.45          299.05      69.0  ...                       NaN   \n",
       "2       273.65          271.75      87.0  ...                       3.1   \n",
       "3       276.95          272.55      73.0  ...                       4.6   \n",
       "4       274.45          269.05      67.0  ...                       NaN   \n",
       "\n",
       "   nebulosite_totale_departement  visibilite_horizontale_departement  \\\n",
       "0                          100.0                              4000.0   \n",
       "1                            NaN                                 NaN   \n",
       "2                           67.5                             16000.0   \n",
       "3                           82.5                             17000.0   \n",
       "4                            NaN                                 NaN   \n",
       "\n",
       "   superficie_km2  temperature_degre_celcius_region  vitesse_vent_region  \\\n",
       "0          8735.1                          4.108036             2.090036   \n",
       "1             NaN                               NaN                  NaN   \n",
       "2          5534.5                          0.340072             4.891300   \n",
       "3            6733                          1.079720             3.376568   \n",
       "4          5548.7                          3.111914                  NaN   \n",
       "\n",
       "   nebulosite_totale_region  visibilite_horizontale_region  \\\n",
       "0                       NaN                            NaN   \n",
       "1                       NaN                            NaN   \n",
       "2                 77.822977                   13389.512450   \n",
       "3                       NaN                   19629.335109   \n",
       "4                       NaN                            NaN   \n",
       "\n",
       "   temperature_celcius_min_sur_24h_region  \\\n",
       "0                                     NaN   \n",
       "1                                     NaN   \n",
       "2                                     NaN   \n",
       "3                                     NaN   \n",
       "4                                     NaN   \n",
       "\n",
       "   temperature_celcius_max_sur_24h_region  \n",
       "0                                     NaN  \n",
       "1                                     NaN  \n",
       "2                                     NaN  \n",
       "3                                     NaN  \n",
       "4                                     NaN  \n",
       "\n",
       "[5 rows x 95 columns]"
      ]
     },
     "execution_count": 181,
     "metadata": {},
     "output_type": "execute_result"
    }
   ],
   "source": [
    "base_meteo_modifie_6.head()"
   ]
  },
  {
   "cell_type": "code",
   "execution_count": null,
   "id": "a6a9aee1-3999-4a1b-bdfd-f2ec47a609a3",
   "metadata": {},
   "outputs": [],
   "source": []
  },
  {
   "cell_type": "code",
   "execution_count": 50,
   "id": "8daed82f-e9dd-456b-8091-984b7783a4f6",
   "metadata": {},
   "outputs": [],
   "source": [
    "base_meteo_modifie_2['jour'] = pd.to_datetime(base_meteo_modifie_2['jour'])\n",
    "base_meteo_modifie_2.set_index('jour', inplace=True)\n",
    "base_meteo_modifie_2 = base_meteo_modifie_2[base_meteo_modifie_2.index.year == annee_choisie]"
   ]
  },
  {
   "cell_type": "code",
   "execution_count": null,
   "id": "7248a813-4f52-4171-a4ce-da96eba145da",
   "metadata": {},
   "outputs": [],
   "source": []
  },
  {
   "cell_type": "code",
   "execution_count": null,
   "id": "7a67f3e3-d58c-4bba-b64b-caf617b3b7b1",
   "metadata": {},
   "outputs": [],
   "source": []
  },
  {
   "cell_type": "markdown",
   "id": "e64b3491-dd4c-4ee0-baa2-2142b6138b54",
   "metadata": {},
   "source": [
    "Imputation des variables manquantes : KNN Imputer"
   ]
  },
  {
   "cell_type": "markdown",
   "id": "d7c36cc6-6e6e-4d76-8cd1-6fb3a7481e7e",
   "metadata": {},
   "source": [
    "On se dit que les zones ayant des données semblables météorologiques \"se ressemblent\""
   ]
  },
  {
   "cell_type": "markdown",
   "id": "22fed37c-7e55-4407-abd7-bc15fef22626",
   "metadata": {},
   "source": [
    "On vérifie d'abord que toutes les variables sont numériques; "
   ]
  },
  {
   "cell_type": "code",
   "execution_count": null,
   "id": "6d4a63ec-fbfb-470f-9aa9-448a071fa34b",
   "metadata": {},
   "outputs": [],
   "source": [
    "# Cas des données de consommation\n",
    "data_consumption.dtypes\n",
    "\n",
    "# Cas des données des communes\n",
    "data_communes.dtypes\n"
   ]
  },
  {
   "cell_type": "markdown",
   "id": "0d30dd3c-d6c0-4dc1-a336-6be41dd032eb",
   "metadata": {},
   "source": [
    "On convertit les colonnes"
   ]
  },
  {
   "cell_type": "code",
   "execution_count": null,
   "id": "033a3341-7766-4daa-aaf0-3b972ffb2bef",
   "metadata": {},
   "outputs": [],
   "source": [
    "cols = []\n",
    "for col in cols:\n",
    "    df[col] = df[col].astype(float)\n"
   ]
  },
  {
   "cell_type": "markdown",
   "id": "23535434-82b4-4bc5-a707-0bdd5cb816dd",
   "metadata": {},
   "source": [
    "On applique ensuite le KNN imputer"
   ]
  },
  {
   "cell_type": "code",
   "execution_count": null,
   "id": "77e5d418-f8c2-4d8a-b4ea-a558cc30efda",
   "metadata": {},
   "outputs": [],
   "source": [
    "\n",
    "# Initialiser l'imputeur KNN\n",
    "cons_imputer = KNNImputer(n_neighbors=2)\n",
    "com_imputer = KNNImputer(n_neighbors=2)\n",
    "\n",
    "# Appliquer l'imputation\n",
    "data_consumption_imputed = pd.DataFrame(cons_imputer.fit_transform(data_consumption), columns=data_consumption.columns)\n",
    "data_communes_imputed = pd.DataFrame(com_imputer.fit_transform(data_communes), columns = data_communes.columns)\n"
   ]
  },
  {
   "cell_type": "code",
   "execution_count": null,
   "id": "0182511a-29be-416e-bce0-4c377b1305dc",
   "metadata": {},
   "outputs": [],
   "source": []
  },
  {
   "cell_type": "code",
   "execution_count": null,
   "id": "3a36f08d-b4e9-47fa-ba55-bc692e04f8d2",
   "metadata": {},
   "outputs": [],
   "source": []
  },
  {
   "cell_type": "markdown",
   "id": "85a09d17-c807-4647-8552-d12a82da5136",
   "metadata": {},
   "source": [
    "### Traitement de la base geographique pour le calcul des surfaces"
   ]
  }
 ],
 "metadata": {
  "kernelspec": {
   "display_name": "Python 3 (ipykernel)",
   "language": "python",
   "name": "python3"
  },
  "language_info": {
   "codemirror_mode": {
    "name": "ipython",
    "version": 3
   },
   "file_extension": ".py",
   "mimetype": "text/x-python",
   "name": "python",
   "nbconvert_exporter": "python",
   "pygments_lexer": "ipython3",
   "version": "3.10.13"
  }
 },
 "nbformat": 4,
 "nbformat_minor": 5
}
