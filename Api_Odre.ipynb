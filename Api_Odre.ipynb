{
 "cells": [
  {
   "cell_type": "markdown",
   "id": "d93df167-3a4f-434a-b309-8573a1ecc645",
   "metadata": {},
   "source": [
    "# Importation des librairies"
   ]
  },
  {
   "cell_type": "code",
   "execution_count": 1,
   "id": "f93eafa9-abcd-4202-ac0a-4ed477c2fccc",
   "metadata": {},
   "outputs": [
    {
     "name": "stdout",
     "output_type": "stream",
     "text": [
      "\u001b[33mWARNING: visions 0.7.5 does not provide the extra 'type-image-path'\u001b[0m\u001b[33m\n",
      "\u001b[0m"
     ]
    }
   ],
   "source": [
    "! pip install -q pandas-Profiling"
   ]
  },
  {
   "cell_type": "code",
   "execution_count": 33,
   "id": "c4b52b31-33d5-4fb9-84fb-0d2d80123de9",
   "metadata": {},
   "outputs": [],
   "source": [
    "import requests\n",
    "import pandas as pd\n",
    "import numpy as np\n",
    "import geopandas as gpd\n",
    "from shapely.geometry import shape\n",
    "from io import StringIO\n",
    "from sklearn.impute import KNNImputer"
   ]
  },
  {
   "cell_type": "markdown",
   "id": "3be42b2c-2388-4fc5-a08c-089c1fad2385",
   "metadata": {},
   "source": [
    "# Importation des bases"
   ]
  },
  {
   "cell_type": "markdown",
   "id": "3aa772fd-24f1-44f8-b14a-bc0e7c888e86",
   "metadata": {},
   "source": [
    "## Import des bases de données via API de l'OpenDataSoft"
   ]
  },
  {
   "cell_type": "markdown",
   "id": "5626348b-c5f4-498d-9b7c-f5dca7e0c69b",
   "metadata": {},
   "source": [
    "L'éxécution de la requête API prend assez de temps"
   ]
  },
  {
   "cell_type": "code",
   "execution_count": 2,
   "id": "faeb8ad9-b84f-4707-8730-cdc94fa6e93d",
   "metadata": {},
   "outputs": [],
   "source": [
    "def get_data_ODS(dataset_name):\n",
    "    \"\"\"\n",
    "    Fonction qui permet de récupérer des données via l'API d'OpenDataSoft\n",
    "    Elle retourne un dataframe\n",
    "    \n",
    "    \"\"\"\n",
    "    df = pd.DataFrame()\n",
    "    # URL de base pour accéder à l'API d'ODS\n",
    "    base_url_ODS = \"https://odre.opendatasoft.com/api/explore/v2.1\"\n",
    "    \n",
    "    dataset_path = f\"/catalog/datasets/{dataset_name}/exports/json?lang=fr&timezone=Europe%2FBerlin\"\n",
    "    url = f\"{base_url_ODS}{dataset_path}\"\n",
    "    \n",
    "    # Exécution de la requête GET\n",
    "    \n",
    "    response = requests.get(url)\n",
    "    # Vérification si la requête a réussi\n",
    "    if response.status_code == 200:\n",
    "        # Extraction des données\n",
    "        data = response.json()\n",
    "        # Conversion des résultats en DataFrame\n",
    "        df = pd.DataFrame(data)\n",
    "    else:\n",
    "        print(f\"Erreur lors de la requête: {response.status_code}\")\n",
    "\n",
    "    return df\n",
    "\n",
    "\n",
    "def get_data_ODSW(dataset_name, output = \"json\"):\n",
    "    \"\"\"\n",
    "    Fonction qui permet de récupérer des données via l'API  publique d'OpenDataSoft\n",
    "    Elle retourne un dataframe\n",
    "    \n",
    "    \"\"\"\n",
    "    df = pd.DataFrame()\n",
    "    # URL de base pour accéder à l'API d'ODS\n",
    "    base_url_ODS = \"https://public.opendatasoft.com/api/explore/v2.1\"\n",
    "    \n",
    "    dataset_path = f\"/catalog/datasets/{dataset_name}/exports/{output}?lang=fr&timezone=Europe%2FBerlin\"\n",
    "    url = f\"{base_url_ODS}{dataset_path}\"\n",
    "    \n",
    "    # Exécution de la requête GET\n",
    "    response = requests.get(url)\n",
    "    # Vérification si la requête a réussi\n",
    "    if response.status_code == 200:\n",
    "        # Extraction des données\n",
    "        if output == \"json\":\n",
    "            data = response.json()\n",
    "            # Conversion des résultats en DataFrame\n",
    "            df = pd.DataFrame(data)\n",
    "        else:\n",
    "            data = response.json()\n",
    "            geometries = [shape(feature['geometry']) for feature in data['features']]\n",
    "            properties = [feature['properties'] for feature in data['features']]\n",
    "    \n",
    "            # Créer un GeoDataFrame en combinant les géométries et les propriétés\n",
    "            df = gpd.GeoDataFrame(geometry=geometries, data=properties)\n",
    "    else:\n",
    "        print(f\"Erreur lors de la requête: {response.status_code}\")\n",
    "\n",
    "    return df"
   ]
  },
  {
   "cell_type": "code",
   "execution_count": 4,
   "id": "5d8d74c6-f322-441a-a073-68fc6f65b06c",
   "metadata": {},
   "outputs": [],
   "source": [
    "consumption_dataset_name = \"consommation-quotidienne-brute-regionale\"\n",
    "weather_dataset_name = \"donnees-synop-essentielles-omm\"\n",
    "geographic_dataset_name = \"georef-france-commune\"\n",
    "holiday_dataset_name = \"jours-ouvres-week-end-feries-france-2010-a-2030\"\n",
    "data_consumption = get_data_ODS(consumption_dataset_name)\n",
    "data_weather = get_data_ODSW(weather_dataset_name)\n",
    "data_geo = get_data_ODSW(geographic_dataset_name, output=\"geojson\")\n",
    "holiday_dataset = get_data_ODSW(holiday_dataset_name)"
   ]
  },
  {
   "cell_type": "markdown",
   "id": "a9c38c7d-5a4c-47b4-9b18-dbb91dee507a",
   "metadata": {},
   "source": [
    "On traite les colonnes du dataset geographique pour enregistrer les données sous format GeoJson"
   ]
  },
  {
   "cell_type": "code",
   "execution_count": 31,
   "id": "f0ee6256-f660-427a-8864-7360295c35b4",
   "metadata": {
    "collapsed": true,
    "jupyter": {
     "outputs_hidden": true
    }
   },
   "outputs": [
    {
     "data": {
      "text/html": [
       "<div>\n",
       "<style scoped>\n",
       "    .dataframe tbody tr th:only-of-type {\n",
       "        vertical-align: middle;\n",
       "    }\n",
       "\n",
       "    .dataframe tbody tr th {\n",
       "        vertical-align: top;\n",
       "    }\n",
       "\n",
       "    .dataframe thead th {\n",
       "        text-align: right;\n",
       "    }\n",
       "</style>\n",
       "<table border=\"1\" class=\"dataframe\">\n",
       "  <thead>\n",
       "    <tr style=\"text-align: right;\">\n",
       "      <th></th>\n",
       "      <th>geo_point_2d</th>\n",
       "      <th>year</th>\n",
       "      <th>reg_code</th>\n",
       "      <th>reg_name</th>\n",
       "      <th>dep_code</th>\n",
       "      <th>dep_name</th>\n",
       "      <th>geometry</th>\n",
       "    </tr>\n",
       "  </thead>\n",
       "  <tbody>\n",
       "    <tr>\n",
       "      <th>0</th>\n",
       "      <td>{'lon': 4.186473859960533, 'lat': 48.520816933...</td>\n",
       "      <td>2023</td>\n",
       "      <td>44</td>\n",
       "      <td>GrandEst</td>\n",
       "      <td>10</td>\n",
       "      <td>Aube</td>\n",
       "      <td>POLYGON ((4.18730 48.54392, 4.18724 48.54250, ...</td>\n",
       "    </tr>\n",
       "    <tr>\n",
       "      <th>1</th>\n",
       "      <td>{'lon': 4.598596436015939, 'lat': 48.306537350...</td>\n",
       "      <td>2023</td>\n",
       "      <td>44</td>\n",
       "      <td>GrandEst</td>\n",
       "      <td>10</td>\n",
       "      <td>Aube</td>\n",
       "      <td>POLYGON ((4.62567 48.32423, 4.62429 48.32356, ...</td>\n",
       "    </tr>\n",
       "    <tr>\n",
       "      <th>2</th>\n",
       "      <td>{'lon': 4.6153344590215, 'lat': 48.44294278327...</td>\n",
       "      <td>2023</td>\n",
       "      <td>44</td>\n",
       "      <td>GrandEst</td>\n",
       "      <td>10</td>\n",
       "      <td>Aube</td>\n",
       "      <td>POLYGON ((4.63562 48.45660, 4.63535 48.45667, ...</td>\n",
       "    </tr>\n",
       "    <tr>\n",
       "      <th>3</th>\n",
       "      <td>{'lon': 3.8349133102621433, 'lat': 48.10864367...</td>\n",
       "      <td>2023</td>\n",
       "      <td>44</td>\n",
       "      <td>GrandEst</td>\n",
       "      <td>10</td>\n",
       "      <td>Aube</td>\n",
       "      <td>POLYGON ((3.80166 48.10673, 3.80124 48.10597, ...</td>\n",
       "    </tr>\n",
       "    <tr>\n",
       "      <th>4</th>\n",
       "      <td>{'lon': 1.8228167609346886, 'lat': 43.33065948...</td>\n",
       "      <td>2023</td>\n",
       "      <td>76</td>\n",
       "      <td>Occitanie</td>\n",
       "      <td>11</td>\n",
       "      <td>Aude</td>\n",
       "      <td>POLYGON ((1.83985 43.32973, 1.83966 43.32982, ...</td>\n",
       "    </tr>\n",
       "  </tbody>\n",
       "</table>\n",
       "</div>"
      ],
      "text/plain": [
       "                                        geo_point_2d  year reg_code  \\\n",
       "0  {'lon': 4.186473859960533, 'lat': 48.520816933...  2023       44   \n",
       "1  {'lon': 4.598596436015939, 'lat': 48.306537350...  2023       44   \n",
       "2  {'lon': 4.6153344590215, 'lat': 48.44294278327...  2023       44   \n",
       "3  {'lon': 3.8349133102621433, 'lat': 48.10864367...  2023       44   \n",
       "4  {'lon': 1.8228167609346886, 'lat': 43.33065948...  2023       76   \n",
       "\n",
       "    reg_name dep_code dep_name  \\\n",
       "0   GrandEst       10     Aube   \n",
       "1   GrandEst       10     Aube   \n",
       "2   GrandEst       10     Aube   \n",
       "3   GrandEst       10     Aube   \n",
       "4  Occitanie       11     Aude   \n",
       "\n",
       "                                            geometry  \n",
       "0  POLYGON ((4.18730 48.54392, 4.18724 48.54250, ...  \n",
       "1  POLYGON ((4.62567 48.32423, 4.62429 48.32356, ...  \n",
       "2  POLYGON ((4.63562 48.45660, 4.63535 48.45667, ...  \n",
       "3  POLYGON ((3.80166 48.10673, 3.80124 48.10597, ...  \n",
       "4  POLYGON ((1.83985 43.32973, 1.83966 43.32982, ...  "
      ]
     },
     "execution_count": 31,
     "metadata": {},
     "output_type": "execute_result"
    }
   ],
   "source": [
    "#On recupère les colonnes importantes de la base de données\n",
    "geo_cols = ['geo_point_2d', 'year', 'reg_code', 'reg_name', 'dep_code', 'dep_name','geometry']\n",
    "data_geo = data_geo[geo_cols]\n",
    "treated_geo_cols = ['year', 'reg_code', 'reg_name', 'dep_code', 'dep_name']\n",
    "#On effectue un nettoyage des données contenues dans les colonnes\n",
    "data_geo[treated_geo_cols] = data_geo[treated_geo_cols].applymap(lambda x: x.replace('[', '').replace(']', '') if isinstance(x, str) else x)\n",
    "data_geo[treated_geo_cols] = data_geo[treated_geo_cols].applymap(lambda x: ''.join(filter(lambda char: char.isalnum() or char in ['_', '-', '@', '#'], str(x))))"
   ]
  },
  {
   "cell_type": "code",
   "execution_count": 34,
   "id": "68838481-cf7f-476f-b12e-7150cf6ab690",
   "metadata": {},
   "outputs": [],
   "source": []
  },
  {
   "cell_type": "code",
   "execution_count": null,
   "id": "dde39729-8b6c-4a30-a968-38b657320108",
   "metadata": {},
   "outputs": [],
   "source": []
  },
  {
   "cell_type": "markdown",
   "id": "141686b4-b2b5-437c-8f54-091c57ebb1b2",
   "metadata": {},
   "source": [
    "## Import d'une base de données complémentaire (celle des régions, communes, et départements de France"
   ]
  },
  {
   "cell_type": "markdown",
   "id": "b536b75e-663d-455e-b2e2-256c720fcfeb",
   "metadata": {},
   "source": [
    "Cette importation va se faire à travers une requête via l'API de Datagouv"
   ]
  },
  {
   "cell_type": "code",
   "execution_count": 3,
   "id": "7aeb4c0a-3957-4c20-af9d-b1ee19b5ad12",
   "metadata": {},
   "outputs": [],
   "source": [
    "#Identifiant du dataset\n",
    "dataset_id = \"4a7c837bb6da8e363604082bcc8b2e504cf08038\"\n",
    "dataset_sha1 = \"dbe8a621-a9c4-4bc3-9cae-be1699c5ff25\"\n",
    "\n",
    "# URL de base pour accéder à l'API\n",
    "base_url = \"https://www.data.gouv.fr/api/1/\"\n",
    "\n",
    "# Chemin pour accéder aux enregistrements du dataset\n",
    "dataset_path = f\"datasets/r/{dataset_sha1}?dataset={dataset_id}\"\n",
    "\n",
    "# Construction de l'URL complète\n",
    "url = f\"{base_url}{dataset_path}\"\n",
    "\n",
    "# Exécution de la requête GET\n",
    "response = requests.get(url)\n",
    "\n",
    "# Vérification si la requête a réussi\n",
    "if response.status_code == 200:\n",
    "    # Lecture du contenu CSV\n",
    "    data_communes = pd.read_csv(StringIO(response.content.decode('utf-8')))\n",
    "else:\n",
    "    print(f\"Erreur lors de la requête: {response.status_code}\")"
   ]
  },
  {
   "cell_type": "markdown",
   "id": "439cde19-5119-4f8b-ad43-4aa52a258015",
   "metadata": {},
   "source": [
    "On enregistre la base pour ne plus avoir à éxécuter la requête API à chaque étape"
   ]
  },
  {
   "cell_type": "code",
   "execution_count": 6,
   "id": "acbfbde4-e940-4de5-ac12-85fb9ab6f0db",
   "metadata": {},
   "outputs": [],
   "source": [
    "data_consumption.to_csv('data_consumption.csv', index=False)\n",
    "data_communes.to_csv('data_communes.csv', index=False)\n",
    "data_weather.to_csv('data_weather.csv', index = False)\n",
    "data_geo.to_file(\"data_geo.geojson\", driver='GeoJSON')"
   ]
  },
  {
   "cell_type": "code",
   "execution_count": 4,
   "id": "4fe2b984-6df1-4418-9d2f-0de22d555a2a",
   "metadata": {
    "scrolled": true
   },
   "outputs": [
    {
     "name": "stderr",
     "output_type": "stream",
     "text": [
      "ERROR 1: PROJ: proj_create_from_database: Open of /opt/mamba/share/proj failed\n"
     ]
    }
   ],
   "source": [
    "data_consumption = pd.read_csv('data_consumption.csv')\n",
    "data_communes = pd.read_csv('data_communes.csv')\n",
    "data_weather = pd.read_csv('data_weather.csv')\n",
    "data_geo = gpd.read_file(\"data_geo.geojson\")"
   ]
  },
  {
   "cell_type": "markdown",
   "id": "e8731d52-7614-4678-8ea2-d7986fc8708f",
   "metadata": {},
   "source": [
    "Les dataframes de consommation et météorologiques  étant sous forme de séries temporelles, on place les dates en index."
   ]
  },
  {
   "cell_type": "code",
   "execution_count": 5,
   "id": "64d8baac-cf50-44c6-ae2d-47dd2ebc0c11",
   "metadata": {},
   "outputs": [],
   "source": [
    "data_consumption['date'] = pd.to_datetime(data_consumption['date'])\n",
    "data_consumption.set_index('date', inplace=True)"
   ]
  },
  {
   "cell_type": "code",
   "execution_count": 6,
   "id": "b28c0206-c806-4a8c-a5ce-816c941c2353",
   "metadata": {},
   "outputs": [
    {
     "data": {
      "text/html": [
       "<div>\n",
       "<style scoped>\n",
       "    .dataframe tbody tr th:only-of-type {\n",
       "        vertical-align: middle;\n",
       "    }\n",
       "\n",
       "    .dataframe tbody tr th {\n",
       "        vertical-align: top;\n",
       "    }\n",
       "\n",
       "    .dataframe thead th {\n",
       "        text-align: right;\n",
       "    }\n",
       "</style>\n",
       "<table border=\"1\" class=\"dataframe\">\n",
       "  <thead>\n",
       "    <tr style=\"text-align: right;\">\n",
       "      <th></th>\n",
       "      <th>date_heure</th>\n",
       "      <th>heure</th>\n",
       "      <th>code_insee_region</th>\n",
       "      <th>region</th>\n",
       "      <th>consommation_brute_gaz_grtgaz</th>\n",
       "      <th>statut_grtgaz</th>\n",
       "      <th>consommation_brute_gaz_terega</th>\n",
       "      <th>statut_terega</th>\n",
       "      <th>consommation_brute_gaz_totale</th>\n",
       "      <th>consommation_brute_electricite_rte</th>\n",
       "      <th>statut_rte</th>\n",
       "      <th>consommation_brute_totale</th>\n",
       "    </tr>\n",
       "    <tr>\n",
       "      <th>date</th>\n",
       "      <th></th>\n",
       "      <th></th>\n",
       "      <th></th>\n",
       "      <th></th>\n",
       "      <th></th>\n",
       "      <th></th>\n",
       "      <th></th>\n",
       "      <th></th>\n",
       "      <th></th>\n",
       "      <th></th>\n",
       "      <th></th>\n",
       "      <th></th>\n",
       "    </tr>\n",
       "  </thead>\n",
       "  <tbody>\n",
       "    <tr>\n",
       "      <th>2019-02-01</th>\n",
       "      <td>2019-02-01T06:00:00+01:00</td>\n",
       "      <td>06:00</td>\n",
       "      <td>27</td>\n",
       "      <td>Bourgogne-Franche-Comté</td>\n",
       "      <td>5053.0</td>\n",
       "      <td>Définitif</td>\n",
       "      <td>NaN</td>\n",
       "      <td>NaN</td>\n",
       "      <td>5053.0</td>\n",
       "      <td>3052</td>\n",
       "      <td>Définitif</td>\n",
       "      <td>8105.0</td>\n",
       "    </tr>\n",
       "    <tr>\n",
       "      <th>2019-02-01</th>\n",
       "      <td>2019-02-01T07:00:00+01:00</td>\n",
       "      <td>07:00</td>\n",
       "      <td>24</td>\n",
       "      <td>Centre-Val de Loire</td>\n",
       "      <td>4079.0</td>\n",
       "      <td>Définitif</td>\n",
       "      <td>NaN</td>\n",
       "      <td>NaN</td>\n",
       "      <td>4079.0</td>\n",
       "      <td>3117</td>\n",
       "      <td>Définitif</td>\n",
       "      <td>7196.0</td>\n",
       "    </tr>\n",
       "    <tr>\n",
       "      <th>2019-02-01</th>\n",
       "      <td>2019-02-01T07:00:00+01:00</td>\n",
       "      <td>07:00</td>\n",
       "      <td>52</td>\n",
       "      <td>Pays de la Loire</td>\n",
       "      <td>5795.0</td>\n",
       "      <td>Définitif</td>\n",
       "      <td>NaN</td>\n",
       "      <td>NaN</td>\n",
       "      <td>5795.0</td>\n",
       "      <td>4646</td>\n",
       "      <td>Définitif</td>\n",
       "      <td>10441.0</td>\n",
       "    </tr>\n",
       "    <tr>\n",
       "      <th>2019-02-01</th>\n",
       "      <td>2019-02-01T07:30:00+01:00</td>\n",
       "      <td>07:30</td>\n",
       "      <td>24</td>\n",
       "      <td>Centre-Val de Loire</td>\n",
       "      <td>NaN</td>\n",
       "      <td>NaN</td>\n",
       "      <td>NaN</td>\n",
       "      <td>NaN</td>\n",
       "      <td>NaN</td>\n",
       "      <td>3252</td>\n",
       "      <td>Définitif</td>\n",
       "      <td>NaN</td>\n",
       "    </tr>\n",
       "    <tr>\n",
       "      <th>2019-02-01</th>\n",
       "      <td>2019-02-01T07:30:00+01:00</td>\n",
       "      <td>07:30</td>\n",
       "      <td>28</td>\n",
       "      <td>Normandie</td>\n",
       "      <td>NaN</td>\n",
       "      <td>NaN</td>\n",
       "      <td>NaN</td>\n",
       "      <td>NaN</td>\n",
       "      <td>NaN</td>\n",
       "      <td>4911</td>\n",
       "      <td>Définitif</td>\n",
       "      <td>NaN</td>\n",
       "    </tr>\n",
       "  </tbody>\n",
       "</table>\n",
       "</div>"
      ],
      "text/plain": [
       "                           date_heure  heure  code_insee_region  \\\n",
       "date                                                              \n",
       "2019-02-01  2019-02-01T06:00:00+01:00  06:00                 27   \n",
       "2019-02-01  2019-02-01T07:00:00+01:00  07:00                 24   \n",
       "2019-02-01  2019-02-01T07:00:00+01:00  07:00                 52   \n",
       "2019-02-01  2019-02-01T07:30:00+01:00  07:30                 24   \n",
       "2019-02-01  2019-02-01T07:30:00+01:00  07:30                 28   \n",
       "\n",
       "                             region  consommation_brute_gaz_grtgaz  \\\n",
       "date                                                                 \n",
       "2019-02-01  Bourgogne-Franche-Comté                         5053.0   \n",
       "2019-02-01      Centre-Val de Loire                         4079.0   \n",
       "2019-02-01         Pays de la Loire                         5795.0   \n",
       "2019-02-01      Centre-Val de Loire                            NaN   \n",
       "2019-02-01                Normandie                            NaN   \n",
       "\n",
       "           statut_grtgaz  consommation_brute_gaz_terega statut_terega  \\\n",
       "date                                                                    \n",
       "2019-02-01     Définitif                            NaN           NaN   \n",
       "2019-02-01     Définitif                            NaN           NaN   \n",
       "2019-02-01     Définitif                            NaN           NaN   \n",
       "2019-02-01           NaN                            NaN           NaN   \n",
       "2019-02-01           NaN                            NaN           NaN   \n",
       "\n",
       "            consommation_brute_gaz_totale  consommation_brute_electricite_rte  \\\n",
       "date                                                                            \n",
       "2019-02-01                         5053.0                                3052   \n",
       "2019-02-01                         4079.0                                3117   \n",
       "2019-02-01                         5795.0                                4646   \n",
       "2019-02-01                            NaN                                3252   \n",
       "2019-02-01                            NaN                                4911   \n",
       "\n",
       "           statut_rte  consommation_brute_totale  \n",
       "date                                              \n",
       "2019-02-01  Définitif                     8105.0  \n",
       "2019-02-01  Définitif                     7196.0  \n",
       "2019-02-01  Définitif                    10441.0  \n",
       "2019-02-01  Définitif                        NaN  \n",
       "2019-02-01  Définitif                        NaN  "
      ]
     },
     "execution_count": 6,
     "metadata": {},
     "output_type": "execute_result"
    }
   ],
   "source": [
    "data_consumption.head()"
   ]
  },
  {
   "cell_type": "markdown",
   "id": "b10f8817-cd45-47be-b18a-19fc8041b84d",
   "metadata": {},
   "source": [
    "Choix de l'année"
   ]
  },
  {
   "cell_type": "code",
   "execution_count": 7,
   "id": "f8effe5b-2e3b-4e55-b051-69bbf0e94c77",
   "metadata": {},
   "outputs": [],
   "source": [
    "annee_choisie = 2022\n",
    "data_consumption = data_consumption[data_consumption.index.year == annee_choisie]\n"
   ]
  },
  {
   "cell_type": "code",
   "execution_count": 8,
   "id": "7236e78c-1896-4c2e-a4cc-fdaf6d9015c0",
   "metadata": {},
   "outputs": [
    {
     "data": {
      "text/plain": [
       "code_commune_INSEE          0\n",
       "nom_commune_postal          0\n",
       "code_postal                 0\n",
       "libelle_acheminement        0\n",
       "ligne_5                 35944\n",
       "latitude                  269\n",
       "longitude                 269\n",
       "code_commune                7\n",
       "article                 36621\n",
       "nom_commune                 0\n",
       "nom_commune_complet         0\n",
       "code_departement            7\n",
       "nom_departement           267\n",
       "code_region               267\n",
       "nom_region                267\n",
       "dtype: int64"
      ]
     },
     "execution_count": 8,
     "metadata": {},
     "output_type": "execute_result"
    }
   ],
   "source": [
    "data_communes.isna().sum()"
   ]
  },
  {
   "cell_type": "code",
   "execution_count": 9,
   "id": "39f82213-eb2c-47f7-87ce-91b4486a89e7",
   "metadata": {},
   "outputs": [
    {
     "data": {
      "text/plain": [
       "heure                                 0\n",
       "code_insee_region                     0\n",
       "region                                0\n",
       "consommation_brute_electricite_rte    0\n",
       "dtype: int64"
      ]
     },
     "execution_count": 9,
     "metadata": {},
     "output_type": "execute_result"
    }
   ],
   "source": [
    "col_del = pd.Index(['date_heure', 'consommation_brute_gaz_grtgaz', 'statut_grtgaz', 'consommation_brute_gaz_terega', 'statut_terega','consommation_brute_gaz_totale','statut_rte', 'consommation_brute_totale'])\n",
    "data_consumption.drop(col_del, axis=1,inplace=True)\n",
    "data_consumption.isna().sum()"
   ]
  },
  {
   "cell_type": "markdown",
   "id": "62b8c7cb-badf-4d28-94e9-f72d8ece5f11",
   "metadata": {},
   "source": [
    "## Aggrégation des consommations par date et par région"
   ]
  },
  {
   "cell_type": "code",
   "execution_count": 10,
   "id": "f5c4c237-d1bd-4bc0-ad74-c5406abd1155",
   "metadata": {},
   "outputs": [],
   "source": [
    "data_consumption1 = data_consumption.groupby(['code_insee_region','date'], as_index = False)\n",
    "data_consumption2 = data_consumption.groupby(['code_insee_region','date','heure'], as_index = False)"
   ]
  },
  {
   "cell_type": "code",
   "execution_count": 11,
   "id": "fb2cbf64-f398-43b7-a152-fd184f76c8e2",
   "metadata": {},
   "outputs": [],
   "source": [
    "data_consumption1 = data_consumption1['consommation_brute_electricite_rte'].sum()\n",
    "data_consumption2 = data_consumption2['consommation_brute_electricite_rte'].sum()"
   ]
  },
  {
   "cell_type": "code",
   "execution_count": 12,
   "id": "1fdc6435-19e3-499a-a0dc-45acb2a7855b",
   "metadata": {
    "scrolled": true
   },
   "outputs": [
    {
     "data": {
      "text/html": [
       "<div>\n",
       "<style scoped>\n",
       "    .dataframe tbody tr th:only-of-type {\n",
       "        vertical-align: middle;\n",
       "    }\n",
       "\n",
       "    .dataframe tbody tr th {\n",
       "        vertical-align: top;\n",
       "    }\n",
       "\n",
       "    .dataframe thead th {\n",
       "        text-align: right;\n",
       "    }\n",
       "</style>\n",
       "<table border=\"1\" class=\"dataframe\">\n",
       "  <thead>\n",
       "    <tr style=\"text-align: right;\">\n",
       "      <th></th>\n",
       "      <th>code_insee_region</th>\n",
       "      <th>consommation_brute_electricite_rte</th>\n",
       "    </tr>\n",
       "  </thead>\n",
       "  <tbody>\n",
       "    <tr>\n",
       "      <th>0</th>\n",
       "      <td>11</td>\n",
       "      <td>345462</td>\n",
       "    </tr>\n",
       "    <tr>\n",
       "      <th>1</th>\n",
       "      <td>11</td>\n",
       "      <td>356965</td>\n",
       "    </tr>\n",
       "    <tr>\n",
       "      <th>2</th>\n",
       "      <td>11</td>\n",
       "      <td>414973</td>\n",
       "    </tr>\n",
       "    <tr>\n",
       "      <th>3</th>\n",
       "      <td>11</td>\n",
       "      <td>429347</td>\n",
       "    </tr>\n",
       "    <tr>\n",
       "      <th>4</th>\n",
       "      <td>11</td>\n",
       "      <td>484779</td>\n",
       "    </tr>\n",
       "  </tbody>\n",
       "</table>\n",
       "</div>"
      ],
      "text/plain": [
       "   code_insee_region  consommation_brute_electricite_rte\n",
       "0                 11                              345462\n",
       "1                 11                              356965\n",
       "2                 11                              414973\n",
       "3                 11                              429347\n",
       "4                 11                              484779"
      ]
     },
     "execution_count": 12,
     "metadata": {},
     "output_type": "execute_result"
    }
   ],
   "source": [
    "data_consumption1.head()"
   ]
  },
  {
   "cell_type": "markdown",
   "id": "55be667d-c786-42b6-867e-6f2748029cc7",
   "metadata": {},
   "source": [
    "### Calcul des superficies par département"
   ]
  },
  {
   "cell_type": "markdown",
   "id": "9f87075d-3dce-4b78-bcae-f908bcb89323",
   "metadata": {},
   "source": [
    "### Calcul de la superficie"
   ]
  },
  {
   "cell_type": "code",
   "execution_count": 13,
   "id": "28a4a3c3-95f4-4d3b-a362-cc6af676b631",
   "metadata": {},
   "outputs": [
    {
     "name": "stderr",
     "output_type": "stream",
     "text": [
      "/tmp/ipykernel_30800/3138837871.py:2: UserWarning: Geometry is in a geographic CRS. Results from 'area' are likely incorrect. Use 'GeoSeries.to_crs()' to re-project geometries to a projected CRS before this operation.\n",
      "\n",
      "  data_geo['superficie_comm'] = data_geo['geometry'].area / 1e6\n"
     ]
    }
   ],
   "source": [
    "# On divise par par 1e6 pour obtenir la superficie par commune en km²\n",
    "data_geo['superficie_comm'] = data_geo['geometry'].area / 1e6  \n",
    "\n",
    "#On fait un regroupement par département, et on calcule la superficie par département en sommant les autres superficies\n",
    "data_geo['superficie_dep'] = data_geo.groupby('dep_code')['superficie_comm'].transform('sum')"
   ]
  },
  {
   "cell_type": "code",
   "execution_count": null,
   "id": "79a52021-dd9d-495d-b08f-241751a669e8",
   "metadata": {},
   "outputs": [],
   "source": []
  },
  {
   "cell_type": "markdown",
   "id": "befe6e28-4e9f-4611-9d33-50cf2cf7ae6e",
   "metadata": {},
   "source": [
    "### Traitement de la base weather"
   ]
  },
  {
   "cell_type": "code",
   "execution_count": 14,
   "id": "b28e9f41-7ccc-4f02-afa2-0fae34b41d30",
   "metadata": {},
   "outputs": [],
   "source": [
    "nouveaux_noms_colonnes={'numer_sta':'num_station', 'date':'date_UTC', 'pmer':'pression_mer', 'tend':'variation_pression_3h', 'cod_tend':'type_tendance_baro', 'dd':'direction_vent', 'ff':'vitesse_vent', 't':'temperature', 'td':'point_de_rosee',\n",
    "       'u':'humidite', 'vv':'visibilite_horizontale', 'ww':'temps_present', 'w1':'temps_passe_1', 'w2':'temps_passe_2', 'n':'nebulosite_totale', 'nbas':'nebulosite_nuage_etage_inf', 'hbas':'hauteur_base_nuage_etage_inf', 'cl':'type_nuage_etage_inf', 'cm':'type_nuage_etage_moyen', 'ch':'type_nuage_etage_sup',\n",
    "       'pres':'pression_station', 'niv_bar':'niveau_barometriq', 'geop':'geopotentiel', 'tend24':'variation_pression_24h', 'tn12':'temperature_min_sur_12h', 'tn24':'temperature_min_sur_24h', 'tx12':'temperature_max_sur_12h', 'tx24':'temperature_max_sur_24h',\n",
    "       'tminsol':'temperature_min_sol_sur_12h', 'sw':'methode_mesure_temperature_thermometre_mouille', 'tw':'temperature_thermometre_mouille', 'raf10':'rafales_10_dernieres_minutes', 'rafper':'rafales_sur_une_periode', 'per':'periode_mesure_rafales', 'etat_sol':'etat_du_sol', 'ht_neige':'hauteur_totale_couche_neige/glace_au_sol',\n",
    "       'ssfrai':'hauteur_neige_fraiche', 'perssfrai':'periode_mesure_neige_fraiche', 'rr1':'precipitation_dans_1_derniere_heure', 'rr3':'precipitation_dans_3_derniere_heure', 'rr6':'precipitation_dans_6_derniere_heure', 'rr12':'precipitation_dans_12_derniere_heure', 'rr24':'precipitation_dans_24_derniere_heure', 'phenspe1':'phenomene_special_1',\n",
    "       'phenspe2':'phenomene_special_2', 'phenspe3':'phenomene_special_3', 'phenspe4':'phenomene_special_4', 'nnuage1':'nebulosite_couche_nuageuse_1', 'ctype1':'type_de_nuage_1', 'hnuage1':'hauteur_de_base_nuage_1',\n",
    "       'nnuage2':'nebulosite_couche_nuageuse_2', 'ctype2':'type_de_nuage_2', 'hnuage2':'hauteur_de_base_nuage_2', 'nnuage3':'nebulosite_couche_nuageuse_3', 'ctype3':'type_de_nuage_3', 'hnuage3':'hauteur_de_base_nuage_3',\n",
    "       'nnuage4':'nebulosite_couche_nuageuse_4', 'ctype4':'type_de_nuage_4', 'hnuage4':'hauteur_de_base_nuage_4', 'coordonnees':'coordonnees', 'nom':'nom_commune',\n",
    "       'type_de_tendance_barometrique':'type_de_tendance_barometrique', 'temps_passe_1':'temps_passe_1', 'temps_present':'temps_present', 'tc':'temperature_degre_celcius',\n",
    "       'tn12c':'temperature_celcius_min_sur_12h', 'tn24c':'temperature_celcius_min_sur_24h', 'tx12c':'temperature_celcius_max_sur_12h', 'tx24c':'temperature_celcius_max_sur_24h', 'tminsolc':'temperature_celcius_min_sol_sur_12h', 'latitude':'latitude', 'longitude':'longitude',\n",
    "       'altitude':'altitude', 'libgeo':'libelle_geolocalisation', 'codegeo':'code_geolocalisation', 'nom_epci':'nom_EPCI', 'code_epci':'code_EPCI', 'nom_dept':'nom_departement',\n",
    "       'code_dep':'code_departement', 'nom_reg':'nom_region', 'code_reg':'code_region', 'mois_de_l_annee':'mois'}"
   ]
  },
  {
   "cell_type": "code",
   "execution_count": 15,
   "id": "2838381c-650f-4027-9c14-a7829ab5a5d6",
   "metadata": {},
   "outputs": [],
   "source": [
    "base_meteo_modifie_1 = data_weather.rename(columns=nouveaux_noms_colonnes)"
   ]
  },
  {
   "cell_type": "markdown",
   "id": "28fc70ba-bc90-4192-9483-95f63ee33cb4",
   "metadata": {},
   "source": [
    "## Identification des variables météoroliques à retenir"
   ]
  },
  {
   "cell_type": "markdown",
   "id": "8b7439de-34e7-4582-abf3-20564f0d48c1",
   "metadata": {},
   "source": [
    "Il est question d'identifier les les variables météorologiques se reférant aux espects retenus Après une revue de la littérature:\n",
    "* __Température :__ les variables identifiées sont la température en degré celcius ('temperature_degre_celcius'), la température minimale sur les 24 dernières heures ('temperature_celcius_min_sur_24h'), et la température maximale sur les 24 dernières heures ('temperature_celcius_max_sur_24h')\n",
    "* __Vitesse du vent :__ la variable identifiée est la vitesse du vent ('vitesse_vent')\n",
    "* __Couverture nuageuse :__ la variable identifié est la nébulosité totale et renvoie à la quantité totale de nuages couvrant le ciel ou plus simplement le degré de couverture nuageuse dans le ciel ('nebulosite_totale')\n",
    "* __Humidité :__ la variable identifiée est l'indice d'humidité ('humidite')\n",
    "* __Rayonnement global :__ la variable identifiée pour capter cet aspect est la distance maximale à laquelle des objets peuvent être clairement discernés à l'horizon ('visibilite_horizontale')"
   ]
  },
  {
   "cell_type": "code",
   "execution_count": 16,
   "id": "5e4f4877-a981-4748-839a-bc66fe4ee44d",
   "metadata": {},
   "outputs": [
    {
     "data": {
      "text/plain": [
       "Index(['num_station', 'date_UTC', 'pression_mer', 'variation_pression_3h',\n",
       "       'type_tendance_baro', 'direction_vent', 'vitesse_vent', 'temperature',\n",
       "       'point_de_rosee', 'humidite', 'visibilite_horizontale', 'temps_present',\n",
       "       'temps_passe_1', 'temps_passe_2', 'nebulosite_totale',\n",
       "       'nebulosite_nuage_etage_inf', 'hauteur_base_nuage_etage_inf',\n",
       "       'type_nuage_etage_inf', 'type_nuage_etage_moyen',\n",
       "       'type_nuage_etage_sup', 'pression_station', 'niveau_barometriq',\n",
       "       'geopotentiel', 'variation_pression_24h', 'temperature_min_sur_12h',\n",
       "       'temperature_min_sur_24h', 'temperature_max_sur_12h',\n",
       "       'temperature_max_sur_24h', 'temperature_min_sol_sur_12h',\n",
       "       'methode_mesure_temperature_thermometre_mouille',\n",
       "       'temperature_thermometre_mouille', 'rafales_10_dernieres_minutes',\n",
       "       'rafales_sur_une_periode', 'periode_mesure_rafales', 'etat_du_sol',\n",
       "       'hauteur_totale_couche_neige/glace_au_sol', 'hauteur_neige_fraiche',\n",
       "       'periode_mesure_neige_fraiche', 'precipitation_dans_1_derniere_heure',\n",
       "       'precipitation_dans_3_derniere_heure',\n",
       "       'precipitation_dans_6_derniere_heure',\n",
       "       'precipitation_dans_12_derniere_heure',\n",
       "       'precipitation_dans_24_derniere_heure', 'phenomene_special_1',\n",
       "       'phenomene_special_2', 'phenomene_special_3', 'phenomene_special_4',\n",
       "       'nebulosite_couche_nuageuse_1', 'type_de_nuage_1',\n",
       "       'hauteur_de_base_nuage_1', 'nebulosite_couche_nuageuse_2',\n",
       "       'type_de_nuage_2', 'hauteur_de_base_nuage_2',\n",
       "       'nebulosite_couche_nuageuse_3', 'type_de_nuage_3',\n",
       "       'hauteur_de_base_nuage_3', 'nebulosite_couche_nuageuse_4',\n",
       "       'type_de_nuage_4', 'hauteur_de_base_nuage_4', 'coordonnees',\n",
       "       'nom_commune', 'type_de_tendance_barometrique', 'temps_passe_1',\n",
       "       'temps_present', 'temperature_degre_celcius',\n",
       "       'temperature_celcius_min_sur_12h', 'temperature_celcius_min_sur_24h',\n",
       "       'temperature_celcius_max_sur_12h', 'temperature_celcius_max_sur_24h',\n",
       "       'temperature_celcius_min_sol_sur_12h', 'latitude', 'longitude',\n",
       "       'altitude', 'libelle_geolocalisation', 'code_geolocalisation',\n",
       "       'nom_EPCI', 'code_EPCI', 'nom_departement', 'code_departement',\n",
       "       'nom_region', 'code_region', 'mois'],\n",
       "      dtype='object')"
      ]
     },
     "execution_count": 16,
     "metadata": {},
     "output_type": "execute_result"
    }
   ],
   "source": [
    "base_meteo_modifie_1.columns"
   ]
  },
  {
   "cell_type": "code",
   "execution_count": 18,
   "id": "ff3ff8d3-5ad2-4aab-8897-d683e7b7eb35",
   "metadata": {},
   "outputs": [],
   "source": [
    "weather_vars = ['num_station', 'date_UTC', 'vitesse_vent', 'temperature','nebulosite_totale','temperature_degre_celcius', 'temperature_celcius_min_sur_24h', 'temperature_celcius_max_sur_24h','latitude', 'longitude','altitude', 'libelle_geolocalisation','nom_departement', 'code_departement','nom_region', 'code_region', 'mois', 'visibilite_horizontale', 'coordonnees','nom_commune',]\n",
    "base_meteo_modifie_1 = base_meteo_modifie_1[weather_vars]"
   ]
  },
  {
   "cell_type": "markdown",
   "id": "e6e4e716-2902-4346-af32-4f40eff117f3",
   "metadata": {},
   "source": [
    "### Vérification et gestion des valeurs manquantes pour les variables d'agrégation"
   ]
  },
  {
   "cell_type": "markdown",
   "id": "b41440d3-4b05-466c-9ca5-a37ebdda21fa",
   "metadata": {},
   "source": [
    "#### Vérification des régions et départements manquants"
   ]
  },
  {
   "cell_type": "code",
   "execution_count": 19,
   "id": "5322d479-654c-4151-a51c-ad077b86dedd",
   "metadata": {},
   "outputs": [
    {
     "name": "stdout",
     "output_type": "stream",
     "text": [
      "242657\n",
      "242657\n",
      "242657\n",
      "242657\n",
      "0\n"
     ]
    }
   ],
   "source": [
    "print(base_meteo_modifie_1['nom_region'].isnull().sum())\n",
    "print(base_meteo_modifie_1['code_region'].isnull().sum())\n",
    "print(base_meteo_modifie_1['nom_departement'].isnull().sum())\n",
    "print(base_meteo_modifie_1['code_departement'].isnull().sum())\n",
    "print(base_meteo_modifie_1['nom_commune'].isnull().sum())"
   ]
  },
  {
   "cell_type": "markdown",
   "id": "f158c6f6-8ac9-4e41-9150-a03fd470ee2f",
   "metadata": {},
   "source": [
    "On constate que tous les noms de commune sont renseignés, mais certains noms de région et département ne le sont pas. Nous allons donc utiliser les noms de commune pour renseigner les départements et régions manquants."
   ]
  },
  {
   "cell_type": "markdown",
   "id": "2ec43207-1a70-4f0e-af40-0b3b6871d592",
   "metadata": {},
   "source": [
    "Nous explorons la possibilité de completer les régions et départements manquants à partir de la base de données des communes, régions et départements."
   ]
  },
  {
   "cell_type": "code",
   "execution_count": 20,
   "id": "6885a563-6952-4929-bd7b-d65fa6f1283b",
   "metadata": {},
   "outputs": [
    {
     "name": "stdout",
     "output_type": "stream",
     "text": [
      "2353668\n",
      "2353668\n",
      "2353668\n",
      "2353668\n",
      "0\n"
     ]
    }
   ],
   "source": [
    "test=pd.merge(base_meteo_modifie_1, data_communes, on=['nom_commune'], how='left')\n",
    "print(test['nom_region_y'].isnull().sum())\n",
    "print(test['code_region_y'].isnull().sum())\n",
    "print(test['nom_departement_y'].isnull().sum())\n",
    "print(test['code_departement_y'].isnull().sum())\n",
    "print(test['nom_commune'].isnull().sum())"
   ]
  },
  {
   "cell_type": "markdown",
   "id": "098ae6af-60eb-4201-94a5-e41d01d87983",
   "metadata": {},
   "source": [
    "## Agrégation des variables météorologiques"
   ]
  },
  {
   "cell_type": "code",
   "execution_count": 21,
   "id": "95393de0-00b4-4c22-b1dc-103502001ebf",
   "metadata": {},
   "outputs": [],
   "source": [
    "base_meteo_modifie_2=base_meteo_modifie_1"
   ]
  },
  {
   "cell_type": "markdown",
   "id": "711c61a1-e484-4fd0-a754-7d2655038721",
   "metadata": {},
   "source": [
    "Il est ici question de construire les variables qui seront utilisées dans les analyses. Les données seront agrégées au niveau régional et à une fréquence journalière."
   ]
  },
  {
   "cell_type": "markdown",
   "id": "f687ae6e-2641-486c-a890-ac073eed80cb",
   "metadata": {},
   "source": [
    "Il est ici question de construire les variables qui seront utilisées dans les analyses. Les données seront agrégées au niveau régional et à une fréquence journalière."
   ]
  },
  {
   "cell_type": "code",
   "execution_count": 22,
   "id": "18629c0b-23ef-4d80-83b7-430bb3764337",
   "metadata": {},
   "outputs": [],
   "source": [
    "def extraire_sous_chaine(chaine, debut, fin):\n",
    "    \"\"\"\n",
    "    Extrait la sous-chaîne de 'debut' à 'fin' (inclus) de la chaîne donnée.\n",
    "    \"\"\"\n",
    "    if debut < 0 or fin >= len(chaine):\n",
    "        raise ValueError(\"Indices de début ou de fin invalides.\")\n",
    "    return chaine[debut : fin + 1]"
   ]
  },
  {
   "cell_type": "markdown",
   "id": "8f0950b6-8fd3-458d-892d-5d32a120c945",
   "metadata": {},
   "source": [
    "Nous appliquons la fonction à la base:"
   ]
  },
  {
   "cell_type": "code",
   "execution_count": 23,
   "id": "56757649-4d1d-48ee-976d-fff8cca79ed8",
   "metadata": {},
   "outputs": [],
   "source": [
    "base_meteo_modifie_2['jour']=base_meteo_modifie_2['date_UTC'].apply(extraire_sous_chaine,debut=0,fin=9)\n",
    "base_meteo_modifie_2['heure']=base_meteo_modifie_2['date_UTC'].apply(extraire_sous_chaine,debut=11,fin=18)"
   ]
  },
  {
   "cell_type": "code",
   "execution_count": 24,
   "id": "8daed82f-e9dd-456b-8091-984b7783a4f6",
   "metadata": {},
   "outputs": [],
   "source": [
    "base_meteo_modifie_2['jour'] = pd.to_datetime(base_meteo_modifie_2['jour'])\n",
    "base_meteo_modifie_2.set_index('jour', inplace=True)\n",
    "base_meteo_modifie_2 = base_meteo_modifie_2[base_meteo_modifie_2.index.year == annee_choisie]"
   ]
  },
  {
   "cell_type": "code",
   "execution_count": null,
   "id": "0cb1245e-c1a4-40b2-95f2-8105fd856072",
   "metadata": {},
   "outputs": [],
   "source": []
  },
  {
   "cell_type": "markdown",
   "id": "637650da-bb17-4e5f-9e93-ee69654cb70f",
   "metadata": {},
   "source": [
    "## Agrégation des variables à l'échelle départementale"
   ]
  },
  {
   "cell_type": "markdown",
   "id": "e1a767c3-427d-4cbb-9f39-0157724ef7a5",
   "metadata": {},
   "source": [
    "Tout d'abord, agrégeons les variables 'temperature_degre_celcius','vitesse_vent', 'nebulosite_totale', 'humidite', 'visibilite_horizontale'"
   ]
  },
  {
   "cell_type": "code",
   "execution_count": 25,
   "id": "e997c0e8-383f-4828-a6c8-65816b330831",
   "metadata": {},
   "outputs": [],
   "source": [
    "agregation_dep_mean = base_meteo_modifie_2.groupby(['jour','code_departement']).agg({'temperature_degre_celcius': 'mean', 'vitesse_vent': 'mean','nebulosite_totale':'mean','visibilite_horizontale':'mean'})\n",
    "agregation_dep_mean = agregation_dep_mean.rename(columns={'jour':'jour','code_departement':'code_departement','temperature_degre_celcius':'temperature_degre_celcius_departement','vitesse_vent':'vitesse_vent_departement','nebulosite_totale':'nebulosite_totale_departement','visibilite_horizontale':'visibilite_horizontale_departement'})"
   ]
  },
  {
   "cell_type": "code",
   "execution_count": 26,
   "id": "5805b781-f402-4751-887d-c68a5a7a2410",
   "metadata": {},
   "outputs": [],
   "source": [
    "base_meteo_modifie_3 = pd.merge(base_meteo_modifie_2, agregation_dep_mean, on=['jour','code_departement'], how='left')"
   ]
  },
  {
   "cell_type": "code",
   "execution_count": 27,
   "id": "b276e6ea-735d-4803-97ea-94059f2869dc",
   "metadata": {},
   "outputs": [],
   "source": [
    "data_geo.rename(columns={'dep_code': 'code_departement'}, inplace=True)\n",
    "data_geo['code_departement'] = data_geo['code_departement'].astype(str)\n",
    "base_meteo_modifie_4 = data_geo.merge(base_meteo_modifie_3, on='code_departement')\n",
    "#base_meteo_modifie_4 = gpd.GeoDataFrame(pd.merge(base_meteo_modifie_3, data_geo, on=['code_departement'], how='left'),  geometry='geometry')"
   ]
  },
  {
   "cell_type": "code",
   "execution_count": 28,
   "id": "63a00487-2ddb-4ca2-985a-3394b095e9f1",
   "metadata": {},
   "outputs": [
    {
     "data": {
      "text/plain": [
       "Index(['geo_point_2d', 'year', 'reg_code', 'reg_name', 'code_departement',\n",
       "       'dep_name', 'geometry', 'superficie_comm', 'superficie_dep',\n",
       "       'num_station', 'date_UTC', 'vitesse_vent', 'temperature',\n",
       "       'nebulosite_totale', 'temperature_degre_celcius',\n",
       "       'temperature_celcius_min_sur_24h', 'temperature_celcius_max_sur_24h',\n",
       "       'latitude', 'longitude', 'altitude', 'libelle_geolocalisation',\n",
       "       'nom_departement', 'nom_region', 'code_region', 'mois',\n",
       "       'visibilite_horizontale', 'coordonnees', 'nom_commune', 'heure',\n",
       "       'temperature_degre_celcius_departement', 'vitesse_vent_departement',\n",
       "       'nebulosite_totale_departement', 'visibilite_horizontale_departement'],\n",
       "      dtype='object')"
      ]
     },
     "execution_count": 28,
     "metadata": {},
     "output_type": "execute_result"
    }
   ],
   "source": []
  },
  {
   "cell_type": "code",
   "execution_count": null,
   "id": "37fb40ca-22dc-49e1-909c-da78c1bb8ad4",
   "metadata": {},
   "outputs": [],
   "source": []
  },
  {
   "cell_type": "markdown",
   "id": "f104accb-379a-4290-9bc5-a749f15eda16",
   "metadata": {},
   "source": [
    "### Aggrégation par région en appliquant les pondérations que sont les superficies des départements"
   ]
  },
  {
   "cell_type": "markdown",
   "id": "e6471a10-4fcd-4e0a-b1d4-fa36296910bd",
   "metadata": {},
   "source": [
    "Créons un dictionnaire pour stocker les critères d'agrégation"
   ]
  },
  {
   "cell_type": "code",
   "execution_count": 30,
   "id": "4c2c8f4a-bd89-4f81-95b4-5ad5aa74afc5",
   "metadata": {},
   "outputs": [],
   "source": [
    "criteres_agregation = {'temperature_degre_celcius_departement': lambda x: np.average(x, weights=base_meteo_modifie_4.loc[x.index, 'superficie_dep']),'vitesse_vent_departement': lambda x: np.average(x, weights=base_meteo_modifie_4.loc[x.index, 'superficie_dep']),'nebulosite_totale_departement': lambda x: np.average(x, weights=base_meteo_modifie_4.loc[x.index, 'superficie_dep']),'visibilite_horizontale_departement': lambda x: np.average(x, weights=base_meteo_modifie_4.loc[x.index, 'superficie_dep'])}"
   ]
  },
  {
   "cell_type": "markdown",
   "id": "4420c2f8-0514-46fb-b7fe-ae9d5e9b27cd",
   "metadata": {},
   "source": [
    "Appliquons l'agrégation groupée en utilisant les critères spécifiés"
   ]
  },
  {
   "cell_type": "code",
   "execution_count": null,
   "id": "4fb96605-2bdf-4aaf-8c36-c5474f30c869",
   "metadata": {},
   "outputs": [],
   "source": [
    "agregation_reg_mean = base_meteo_modifie_4.groupby([base_meteo_modifie_4.index,'code_region']).agg(criteres_agregation)\n",
    "agregation_reg_mean = agregation_reg_mean.rename(columns={'code_region':'code_region','temperature_degre_celcius_departement':'temperature_degre_celcius_region','vitesse_vent_departement':'vitesse_vent_region','nebulosite_totale_departement':'nebulosite_totale_region','visibilite_horizontale_departement':'visibilite_horizontale_region'})"
   ]
  },
  {
   "cell_type": "markdown",
   "id": "ca22d698-f990-4afb-a746-a209971c2a28",
   "metadata": {},
   "source": [
    "Fusion de la base agrégée obtenue et de la base de départ dans une nouvelle base"
   ]
  },
  {
   "cell_type": "code",
   "execution_count": null,
   "id": "a332724d-57b3-422a-a960-f1740551a745",
   "metadata": {},
   "outputs": [],
   "source": [
    "base_meteo_modifie_5 = pd.merge(base_meteo_modifie_4, agregation_reg_mean, on=['jour','code_region'], how='left')"
   ]
  },
  {
   "cell_type": "markdown",
   "id": "8d6563fc-812f-447f-8466-0ddd9b260a6d",
   "metadata": {},
   "source": [
    "Aperçu de la base obtenue"
   ]
  },
  {
   "cell_type": "code",
   "execution_count": null,
   "id": "b5351550-46ba-43ee-8e10-b683cbf1847d",
   "metadata": {},
   "outputs": [],
   "source": [
    "base_meteo_modifie_5.head()"
   ]
  },
  {
   "cell_type": "markdown",
   "id": "37c06acb-d492-4e4f-946f-93b3e28f047d",
   "metadata": {},
   "source": [
    "## Agrégation des autres variables (températures minimales et maximales)"
   ]
  },
  {
   "cell_type": "code",
   "execution_count": null,
   "id": "72a62179-7c7b-4b3f-a7cc-dad767b4f9a6",
   "metadata": {},
   "outputs": [],
   "source": []
  },
  {
   "cell_type": "code",
   "execution_count": null,
   "id": "a6a9aee1-3999-4a1b-bdfd-f2ec47a609a3",
   "metadata": {},
   "outputs": [],
   "source": []
  },
  {
   "cell_type": "code",
   "execution_count": null,
   "id": "7248a813-4f52-4171-a4ce-da96eba145da",
   "metadata": {},
   "outputs": [],
   "source": []
  },
  {
   "cell_type": "code",
   "execution_count": null,
   "id": "7a67f3e3-d58c-4bba-b64b-caf617b3b7b1",
   "metadata": {},
   "outputs": [],
   "source": []
  },
  {
   "cell_type": "markdown",
   "id": "e64b3491-dd4c-4ee0-baa2-2142b6138b54",
   "metadata": {},
   "source": [
    "Imputation des variables manquantes : KNN Imputer"
   ]
  },
  {
   "cell_type": "markdown",
   "id": "d7c36cc6-6e6e-4d76-8cd1-6fb3a7481e7e",
   "metadata": {},
   "source": [
    "On se dit que les zones ayant des données semblables météorologiques \"se ressemblent\""
   ]
  },
  {
   "cell_type": "markdown",
   "id": "22fed37c-7e55-4407-abd7-bc15fef22626",
   "metadata": {},
   "source": [
    "On vérifie d'abord que toutes les variables sont numériques; "
   ]
  },
  {
   "cell_type": "code",
   "execution_count": null,
   "id": "6d4a63ec-fbfb-470f-9aa9-448a071fa34b",
   "metadata": {},
   "outputs": [],
   "source": [
    "# Cas des données de consommation\n",
    "data_consumption.dtypes\n",
    "\n",
    "# Cas des données des communes\n",
    "data_communes.dtypes\n"
   ]
  },
  {
   "cell_type": "markdown",
   "id": "0d30dd3c-d6c0-4dc1-a336-6be41dd032eb",
   "metadata": {},
   "source": [
    "On convertit les colonnes"
   ]
  },
  {
   "cell_type": "code",
   "execution_count": null,
   "id": "033a3341-7766-4daa-aaf0-3b972ffb2bef",
   "metadata": {},
   "outputs": [],
   "source": [
    "cols = []\n",
    "for col in cols:\n",
    "    df[col] = df[col].astype(float)\n"
   ]
  },
  {
   "cell_type": "markdown",
   "id": "23535434-82b4-4bc5-a707-0bdd5cb816dd",
   "metadata": {},
   "source": [
    "On applique ensuite le KNN imputer"
   ]
  },
  {
   "cell_type": "code",
   "execution_count": null,
   "id": "77e5d418-f8c2-4d8a-b4ea-a558cc30efda",
   "metadata": {},
   "outputs": [],
   "source": [
    "\n",
    "# Initialiser l'imputeur KNN\n",
    "cons_imputer = KNNImputer(n_neighbors=2)\n",
    "com_imputer = KNNImputer(n_neighbors=2)\n",
    "\n",
    "# Appliquer l'imputation\n",
    "data_consumption_imputed = pd.DataFrame(cons_imputer.fit_transform(data_consumption), columns=data_consumption.columns)\n",
    "data_communes_imputed = pd.DataFrame(com_imputer.fit_transform(data_communes), columns = data_communes.columns)\n"
   ]
  },
  {
   "cell_type": "code",
   "execution_count": null,
   "id": "0182511a-29be-416e-bce0-4c377b1305dc",
   "metadata": {},
   "outputs": [],
   "source": []
  },
  {
   "cell_type": "code",
   "execution_count": null,
   "id": "3a36f08d-b4e9-47fa-ba55-bc692e04f8d2",
   "metadata": {},
   "outputs": [],
   "source": []
  },
  {
   "cell_type": "markdown",
   "id": "85a09d17-c807-4647-8552-d12a82da5136",
   "metadata": {},
   "source": [
    "### Traitement de la base geographique pour le calcul des surfaces"
   ]
  }
 ],
 "metadata": {
  "kernelspec": {
   "display_name": "Python 3 (ipykernel)",
   "language": "python",
   "name": "python3"
  },
  "language_info": {
   "codemirror_mode": {
    "name": "ipython",
    "version": 3
   },
   "file_extension": ".py",
   "mimetype": "text/x-python",
   "name": "python",
   "nbconvert_exporter": "python",
   "pygments_lexer": "ipython3",
   "version": "3.10.13"
  }
 },
 "nbformat": 4,
 "nbformat_minor": 5
}
