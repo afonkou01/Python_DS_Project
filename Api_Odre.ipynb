{
 "cells": [
  {
   "cell_type": "code",
   "execution_count": 42,
   "id": "5d8d74c6-f322-441a-a073-68fc6f65b06c",
   "metadata": {},
   "outputs": [],
   "source": [
    "import requests\n",
    "import pandas as pd\n",
    "\n",
    "# URL de base pour accéder à l'API\n",
    "base_url = \"https://odre.opendatasoft.com/api/explore/v2.1\"\n",
    "\n",
    "# Chemin pour accéder aux enregistrements du dataset\n",
    "dataset_path = \"/catalog/datasets/consommation-quotidienne-brute-regionale/exports/json?lang=fr&timezone=Europe%2FBerlin\"\n",
    "\n",
    "# Construction de l'URL complète\n",
    "url = f\"{base_url}{dataset_path}\"\n",
    "\n",
    "# Exécution de la requête GET\n",
    "response = requests.get(url)\n",
    "\n",
    "# Vérification si la requête a réussi\n",
    "if response.status_code == 200:\n",
    "    # Extraction des données\n",
    "    data = response.json()\n",
    "\n",
    "    # Conversion des résultats en DataFrame\n",
    "    df = pd.DataFrame(data)\n",
    "    df.head()\n",
    "else:\n",
    "    print(f\"Erreur lors de la requête: {response.status_code}\")\n"
   ]
  },
  {
   "cell_type": "code",
   "execution_count": 43,
   "id": "acbfbde4-e940-4de5-ac12-85fb9ab6f0db",
   "metadata": {},
   "outputs": [],
   "source": [
    "df.to_csv('data_consumption.csv', index=False)"
   ]
  },
  {
   "cell_type": "code",
   "execution_count": 44,
   "id": "4fe2b984-6df1-4418-9d2f-0de22d555a2a",
   "metadata": {
    "scrolled": true
   },
   "outputs": [
    {
     "data": {
      "text/html": [
       "<div>\n",
       "<style scoped>\n",
       "    .dataframe tbody tr th:only-of-type {\n",
       "        vertical-align: middle;\n",
       "    }\n",
       "\n",
       "    .dataframe tbody tr th {\n",
       "        vertical-align: top;\n",
       "    }\n",
       "\n",
       "    .dataframe thead th {\n",
       "        text-align: right;\n",
       "    }\n",
       "</style>\n",
       "<table border=\"1\" class=\"dataframe\">\n",
       "  <thead>\n",
       "    <tr style=\"text-align: right;\">\n",
       "      <th></th>\n",
       "      <th>date_heure</th>\n",
       "      <th>date</th>\n",
       "      <th>heure</th>\n",
       "      <th>code_insee_region</th>\n",
       "      <th>region</th>\n",
       "      <th>consommation_brute_gaz_grtgaz</th>\n",
       "      <th>statut_grtgaz</th>\n",
       "      <th>consommation_brute_gaz_terega</th>\n",
       "      <th>statut_terega</th>\n",
       "      <th>consommation_brute_gaz_totale</th>\n",
       "      <th>consommation_brute_electricite_rte</th>\n",
       "      <th>statut_rte</th>\n",
       "      <th>consommation_brute_totale</th>\n",
       "    </tr>\n",
       "  </thead>\n",
       "  <tbody>\n",
       "    <tr>\n",
       "      <th>2243498</th>\n",
       "      <td>2023-05-21T18:30:00+02:00</td>\n",
       "      <td>2023-05-21</td>\n",
       "      <td>18:30</td>\n",
       "      <td>76</td>\n",
       "      <td>Occitanie</td>\n",
       "      <td>NaN</td>\n",
       "      <td>None</td>\n",
       "      <td>NaN</td>\n",
       "      <td>None</td>\n",
       "      <td>NaN</td>\n",
       "      <td>3338</td>\n",
       "      <td>Consolidé</td>\n",
       "      <td>NaN</td>\n",
       "    </tr>\n",
       "    <tr>\n",
       "      <th>2243499</th>\n",
       "      <td>2023-05-21T19:00:00+02:00</td>\n",
       "      <td>2023-05-21</td>\n",
       "      <td>19:00</td>\n",
       "      <td>24</td>\n",
       "      <td>Centre-Val de Loire</td>\n",
       "      <td>510.0</td>\n",
       "      <td>Définitif</td>\n",
       "      <td>NaN</td>\n",
       "      <td>None</td>\n",
       "      <td>510.0</td>\n",
       "      <td>1765</td>\n",
       "      <td>Consolidé</td>\n",
       "      <td>2275.0</td>\n",
       "    </tr>\n",
       "    <tr>\n",
       "      <th>2243500</th>\n",
       "      <td>2023-05-21T19:30:00+02:00</td>\n",
       "      <td>2023-05-21</td>\n",
       "      <td>19:30</td>\n",
       "      <td>28</td>\n",
       "      <td>Normandie</td>\n",
       "      <td>NaN</td>\n",
       "      <td>None</td>\n",
       "      <td>NaN</td>\n",
       "      <td>None</td>\n",
       "      <td>NaN</td>\n",
       "      <td>2226</td>\n",
       "      <td>Consolidé</td>\n",
       "      <td>NaN</td>\n",
       "    </tr>\n",
       "    <tr>\n",
       "      <th>2243501</th>\n",
       "      <td>2023-05-21T20:00:00+02:00</td>\n",
       "      <td>2023-05-21</td>\n",
       "      <td>20:00</td>\n",
       "      <td>93</td>\n",
       "      <td>Provence-Alpes-Côte d'Azur</td>\n",
       "      <td>2105.0</td>\n",
       "      <td>Définitif</td>\n",
       "      <td>NaN</td>\n",
       "      <td>None</td>\n",
       "      <td>2105.0</td>\n",
       "      <td>3906</td>\n",
       "      <td>Consolidé</td>\n",
       "      <td>6011.0</td>\n",
       "    </tr>\n",
       "    <tr>\n",
       "      <th>2243502</th>\n",
       "      <td>2023-05-21T20:30:00+02:00</td>\n",
       "      <td>2023-05-21</td>\n",
       "      <td>20:30</td>\n",
       "      <td>28</td>\n",
       "      <td>Normandie</td>\n",
       "      <td>NaN</td>\n",
       "      <td>None</td>\n",
       "      <td>NaN</td>\n",
       "      <td>None</td>\n",
       "      <td>NaN</td>\n",
       "      <td>2276</td>\n",
       "      <td>Consolidé</td>\n",
       "      <td>NaN</td>\n",
       "    </tr>\n",
       "    <tr>\n",
       "      <th>2243503</th>\n",
       "      <td>2023-06-01T07:00:00+02:00</td>\n",
       "      <td>2023-06-01</td>\n",
       "      <td>07:00</td>\n",
       "      <td>24</td>\n",
       "      <td>Centre-Val de Loire</td>\n",
       "      <td>772.0</td>\n",
       "      <td>Définitif</td>\n",
       "      <td>NaN</td>\n",
       "      <td>None</td>\n",
       "      <td>772.0</td>\n",
       "      <td>1710</td>\n",
       "      <td>Consolidé</td>\n",
       "      <td>2482.0</td>\n",
       "    </tr>\n",
       "    <tr>\n",
       "      <th>2243504</th>\n",
       "      <td>2023-06-06T16:30:00+02:00</td>\n",
       "      <td>2023-06-06</td>\n",
       "      <td>16:30</td>\n",
       "      <td>27</td>\n",
       "      <td>Bourgogne-Franche-Comté</td>\n",
       "      <td>NaN</td>\n",
       "      <td>None</td>\n",
       "      <td>NaN</td>\n",
       "      <td>None</td>\n",
       "      <td>NaN</td>\n",
       "      <td>2023</td>\n",
       "      <td>Consolidé</td>\n",
       "      <td>NaN</td>\n",
       "    </tr>\n",
       "    <tr>\n",
       "      <th>2243505</th>\n",
       "      <td>2023-06-06T17:00:00+02:00</td>\n",
       "      <td>2023-06-06</td>\n",
       "      <td>17:00</td>\n",
       "      <td>75</td>\n",
       "      <td>Nouvelle-Aquitaine</td>\n",
       "      <td>527.0</td>\n",
       "      <td>Définitif</td>\n",
       "      <td>633.0</td>\n",
       "      <td>Définitif</td>\n",
       "      <td>1160.0</td>\n",
       "      <td>4259</td>\n",
       "      <td>Consolidé</td>\n",
       "      <td>5419.0</td>\n",
       "    </tr>\n",
       "    <tr>\n",
       "      <th>2243506</th>\n",
       "      <td>2023-06-06T17:30:00+02:00</td>\n",
       "      <td>2023-06-06</td>\n",
       "      <td>17:30</td>\n",
       "      <td>32</td>\n",
       "      <td>Hauts-de-France</td>\n",
       "      <td>NaN</td>\n",
       "      <td>None</td>\n",
       "      <td>NaN</td>\n",
       "      <td>None</td>\n",
       "      <td>NaN</td>\n",
       "      <td>4723</td>\n",
       "      <td>Consolidé</td>\n",
       "      <td>NaN</td>\n",
       "    </tr>\n",
       "    <tr>\n",
       "      <th>2243507</th>\n",
       "      <td>2023-06-06T17:30:00+02:00</td>\n",
       "      <td>2023-06-06</td>\n",
       "      <td>17:30</td>\n",
       "      <td>53</td>\n",
       "      <td>Bretagne</td>\n",
       "      <td>NaN</td>\n",
       "      <td>None</td>\n",
       "      <td>NaN</td>\n",
       "      <td>None</td>\n",
       "      <td>NaN</td>\n",
       "      <td>2200</td>\n",
       "      <td>Consolidé</td>\n",
       "      <td>NaN</td>\n",
       "    </tr>\n",
       "  </tbody>\n",
       "</table>\n",
       "</div>"
      ],
      "text/plain": [
       "                        date_heure        date  heure code_insee_region  \\\n",
       "2243498  2023-05-21T18:30:00+02:00  2023-05-21  18:30                76   \n",
       "2243499  2023-05-21T19:00:00+02:00  2023-05-21  19:00                24   \n",
       "2243500  2023-05-21T19:30:00+02:00  2023-05-21  19:30                28   \n",
       "2243501  2023-05-21T20:00:00+02:00  2023-05-21  20:00                93   \n",
       "2243502  2023-05-21T20:30:00+02:00  2023-05-21  20:30                28   \n",
       "2243503  2023-06-01T07:00:00+02:00  2023-06-01  07:00                24   \n",
       "2243504  2023-06-06T16:30:00+02:00  2023-06-06  16:30                27   \n",
       "2243505  2023-06-06T17:00:00+02:00  2023-06-06  17:00                75   \n",
       "2243506  2023-06-06T17:30:00+02:00  2023-06-06  17:30                32   \n",
       "2243507  2023-06-06T17:30:00+02:00  2023-06-06  17:30                53   \n",
       "\n",
       "                             region  consommation_brute_gaz_grtgaz  \\\n",
       "2243498                   Occitanie                            NaN   \n",
       "2243499         Centre-Val de Loire                          510.0   \n",
       "2243500                   Normandie                            NaN   \n",
       "2243501  Provence-Alpes-Côte d'Azur                         2105.0   \n",
       "2243502                   Normandie                            NaN   \n",
       "2243503         Centre-Val de Loire                          772.0   \n",
       "2243504     Bourgogne-Franche-Comté                            NaN   \n",
       "2243505          Nouvelle-Aquitaine                          527.0   \n",
       "2243506             Hauts-de-France                            NaN   \n",
       "2243507                    Bretagne                            NaN   \n",
       "\n",
       "        statut_grtgaz  consommation_brute_gaz_terega statut_terega  \\\n",
       "2243498          None                            NaN          None   \n",
       "2243499     Définitif                            NaN          None   \n",
       "2243500          None                            NaN          None   \n",
       "2243501     Définitif                            NaN          None   \n",
       "2243502          None                            NaN          None   \n",
       "2243503     Définitif                            NaN          None   \n",
       "2243504          None                            NaN          None   \n",
       "2243505     Définitif                          633.0     Définitif   \n",
       "2243506          None                            NaN          None   \n",
       "2243507          None                            NaN          None   \n",
       "\n",
       "         consommation_brute_gaz_totale  consommation_brute_electricite_rte  \\\n",
       "2243498                            NaN                                3338   \n",
       "2243499                          510.0                                1765   \n",
       "2243500                            NaN                                2226   \n",
       "2243501                         2105.0                                3906   \n",
       "2243502                            NaN                                2276   \n",
       "2243503                          772.0                                1710   \n",
       "2243504                            NaN                                2023   \n",
       "2243505                         1160.0                                4259   \n",
       "2243506                            NaN                                4723   \n",
       "2243507                            NaN                                2200   \n",
       "\n",
       "        statut_rte  consommation_brute_totale  \n",
       "2243498  Consolidé                        NaN  \n",
       "2243499  Consolidé                     2275.0  \n",
       "2243500  Consolidé                        NaN  \n",
       "2243501  Consolidé                     6011.0  \n",
       "2243502  Consolidé                        NaN  \n",
       "2243503  Consolidé                     2482.0  \n",
       "2243504  Consolidé                        NaN  \n",
       "2243505  Consolidé                     5419.0  \n",
       "2243506  Consolidé                        NaN  \n",
       "2243507  Consolidé                        NaN  "
      ]
     },
     "execution_count": 44,
     "metadata": {},
     "output_type": "execute_result"
    }
   ],
   "source": [
    "df.tail(10)"
   ]
  },
  {
   "cell_type": "code",
   "execution_count": 45,
   "id": "64d8baac-cf50-44c6-ae2d-47dd2ebc0c11",
   "metadata": {},
   "outputs": [],
   "source": [
    "df['date'] = pd.to_datetime(df['date'])\n",
    "df.set_index('date', inplace=True)"
   ]
  },
  {
   "cell_type": "code",
   "execution_count": 46,
   "id": "39f82213-eb2c-47f7-87ce-91b4486a89e7",
   "metadata": {},
   "outputs": [
    {
     "data": {
      "text/plain": [
       "Index(['date_heure', 'heure', 'code_insee_region', 'region',\n",
       "       'consommation_brute_gaz_grtgaz', 'statut_grtgaz',\n",
       "       'consommation_brute_gaz_terega', 'statut_terega',\n",
       "       'consommation_brute_gaz_totale', 'consommation_brute_electricite_rte',\n",
       "       'statut_rte', 'consommation_brute_totale'],\n",
       "      dtype='object')"
      ]
     },
     "execution_count": 46,
     "metadata": {},
     "output_type": "execute_result"
    }
   ],
   "source": [
    "df.columns"
   ]
  },
  {
   "cell_type": "code",
   "execution_count": 2,
   "id": "a9cb4549-d37e-4d92-93ac-ad8b2676a50e",
   "metadata": {
    "scrolled": true
   },
   "outputs": [
    {
     "ename": "NameError",
     "evalue": "name 'df' is not defined",
     "output_type": "error",
     "traceback": [
      "\u001b[0;31m---------------------------------------------------------------------------\u001b[0m",
      "\u001b[0;31mNameError\u001b[0m                                 Traceback (most recent call last)",
      "Cell \u001b[0;32mIn[2], line 3\u001b[0m\n\u001b[1;32m      1\u001b[0m \u001b[38;5;28;01mimport\u001b[39;00m \u001b[38;5;21;01mpandas\u001b[39;00m \u001b[38;5;28;01mas\u001b[39;00m \u001b[38;5;21;01mpd\u001b[39;00m\n\u001b[1;32m      2\u001b[0m col_del \u001b[38;5;241m=\u001b[39m pd\u001b[38;5;241m.\u001b[39mIndex([\u001b[38;5;124m'\u001b[39m\u001b[38;5;124mdate_heure\u001b[39m\u001b[38;5;124m'\u001b[39m, \u001b[38;5;124m'\u001b[39m\u001b[38;5;124mconsommation_brute_gaz_grtgaz\u001b[39m\u001b[38;5;124m'\u001b[39m, \u001b[38;5;124m'\u001b[39m\u001b[38;5;124mstatut_grtgaz\u001b[39m\u001b[38;5;124m'\u001b[39m, \u001b[38;5;124m'\u001b[39m\u001b[38;5;124mconsommation_brute_gaz_terega\u001b[39m\u001b[38;5;124m'\u001b[39m, \u001b[38;5;124m'\u001b[39m\u001b[38;5;124mstatut_terega\u001b[39m\u001b[38;5;124m'\u001b[39m,\u001b[38;5;124m'\u001b[39m\u001b[38;5;124mconsommation_brute_gaz_totale\u001b[39m\u001b[38;5;124m'\u001b[39m,\u001b[38;5;124m'\u001b[39m\u001b[38;5;124mstatut_rte\u001b[39m\u001b[38;5;124m'\u001b[39m, \u001b[38;5;124m'\u001b[39m\u001b[38;5;124mconsommation_brute_totale\u001b[39m\u001b[38;5;124m'\u001b[39m])\n\u001b[0;32m----> 3\u001b[0m df \u001b[38;5;241m=\u001b[39m \u001b[43mdf\u001b[49m\u001b[38;5;241m.\u001b[39mdrop(col_del, axis\u001b[38;5;241m=\u001b[39m\u001b[38;5;241m1\u001b[39m,inplace\u001b[38;5;241m=\u001b[39m\u001b[38;5;28;01mTrue\u001b[39;00m)\n",
      "\u001b[0;31mNameError\u001b[0m: name 'df' is not defined"
     ]
    }
   ],
   "source": [
    "col_del = pd.Index(['date_heure', 'consommation_brute_gaz_grtgaz', 'statut_grtgaz', 'consommation_brute_gaz_terega', 'statut_terega','consommation_brute_gaz_totale','statut_rte', 'consommation_brute_totale'])\n",
    "df = df.drop(col_del, axis=1,inplace=True)"
   ]
  },
  {
   "cell_type": "code",
   "execution_count": 48,
   "id": "3f34d6bb-1ce2-492e-8175-611a2d5ac030",
   "metadata": {},
   "outputs": [
    {
     "data": {
      "text/plain": [
       "2243508"
      ]
     },
     "execution_count": 48,
     "metadata": {},
     "output_type": "execute_result"
    }
   ],
   "source": [
    "len(df)"
   ]
  },
  {
   "cell_type": "code",
   "execution_count": 58,
   "id": "7b019eb1-719f-4b26-a03b-c4ab324463c6",
   "metadata": {},
   "outputs": [
    {
     "data": {
      "text/html": [
       "<div>\n",
       "<style scoped>\n",
       "    .dataframe tbody tr th:only-of-type {\n",
       "        vertical-align: middle;\n",
       "    }\n",
       "\n",
       "    .dataframe tbody tr th {\n",
       "        vertical-align: top;\n",
       "    }\n",
       "\n",
       "    .dataframe thead th {\n",
       "        text-align: right;\n",
       "    }\n",
       "</style>\n",
       "<table border=\"1\" class=\"dataframe\">\n",
       "  <thead>\n",
       "    <tr style=\"text-align: right;\">\n",
       "      <th></th>\n",
       "      <th>heure</th>\n",
       "      <th>code_insee_region</th>\n",
       "      <th>region</th>\n",
       "      <th>consommation_brute_electricite_rte</th>\n",
       "    </tr>\n",
       "    <tr>\n",
       "      <th>date</th>\n",
       "      <th></th>\n",
       "      <th></th>\n",
       "      <th></th>\n",
       "      <th></th>\n",
       "    </tr>\n",
       "  </thead>\n",
       "  <tbody>\n",
       "    <tr>\n",
       "      <th>2013-01-01</th>\n",
       "      <td>01:30</td>\n",
       "      <td>44</td>\n",
       "      <td>Grand Est</td>\n",
       "      <td>4840</td>\n",
       "    </tr>\n",
       "    <tr>\n",
       "      <th>2013-01-01</th>\n",
       "      <td>11:30</td>\n",
       "      <td>28</td>\n",
       "      <td>Normandie</td>\n",
       "      <td>3183</td>\n",
       "    </tr>\n",
       "    <tr>\n",
       "      <th>2013-01-01</th>\n",
       "      <td>11:00</td>\n",
       "      <td>27</td>\n",
       "      <td>Bourgogne-Franche-Comté</td>\n",
       "      <td>2280</td>\n",
       "    </tr>\n",
       "    <tr>\n",
       "      <th>2013-01-01</th>\n",
       "      <td>10:30</td>\n",
       "      <td>76</td>\n",
       "      <td>Occitanie</td>\n",
       "      <td>4392</td>\n",
       "    </tr>\n",
       "    <tr>\n",
       "      <th>2013-01-01</th>\n",
       "      <td>10:30</td>\n",
       "      <td>75</td>\n",
       "      <td>Nouvelle-Aquitaine</td>\n",
       "      <td>4636</td>\n",
       "    </tr>\n",
       "  </tbody>\n",
       "</table>\n",
       "</div>"
      ],
      "text/plain": [
       "            heure code_insee_region                   region  \\\n",
       "date                                                           \n",
       "2013-01-01  01:30                44                Grand Est   \n",
       "2013-01-01  11:30                28                Normandie   \n",
       "2013-01-01  11:00                27  Bourgogne-Franche-Comté   \n",
       "2013-01-01  10:30                76                Occitanie   \n",
       "2013-01-01  10:30                75       Nouvelle-Aquitaine   \n",
       "\n",
       "            consommation_brute_electricite_rte  \n",
       "date                                            \n",
       "2013-01-01                                4840  \n",
       "2013-01-01                                3183  \n",
       "2013-01-01                                2280  \n",
       "2013-01-01                                4392  \n",
       "2013-01-01                                4636  "
      ]
     },
     "execution_count": 58,
     "metadata": {},
     "output_type": "execute_result"
    }
   ],
   "source": [
    "df.head()"
   ]
  },
  {
   "cell_type": "code",
   "execution_count": 76,
   "id": "f5c4c237-d1bd-4bc0-ad74-c5406abd1155",
   "metadata": {},
   "outputs": [],
   "source": [
    "grouped_df = df.groupby(['code_insee_region','date'])\n",
    "grouped_df_hour = df.groupby(['code_insee_region','date','heure'])"
   ]
  },
  {
   "cell_type": "code",
   "execution_count": 77,
   "id": "fb2cbf64-f398-43b7-a152-fd184f76c8e2",
   "metadata": {},
   "outputs": [],
   "source": [
    "result_df = grouped_df['consommation_brute_electricite_rte'].mean()\n",
    "result_df_hour = grouped_df_hour['consommation_brute_electricite_rte'].mean()"
   ]
  },
  {
   "cell_type": "code",
   "execution_count": 78,
   "id": "520e5585-b3ce-49c2-bcf3-5479adb51f35",
   "metadata": {},
   "outputs": [],
   "source": [
    "result_df = result_df.to_frame(name = 'consommation_brute_electricite_rte')\n",
    "result_df_hour = result_df_hour.to_frame(name = 'consommation_brute_electricite_rte')"
   ]
  },
  {
   "cell_type": "code",
   "execution_count": 81,
   "id": "639942e0-4272-4dff-81be-9bff90d8d7f5",
   "metadata": {
    "scrolled": true
   },
   "outputs": [
    {
     "data": {
      "text/plain": [
       "Index(['consommation_brute_electricite_rte'], dtype='object')"
      ]
     },
     "execution_count": 81,
     "metadata": {},
     "output_type": "execute_result"
    }
   ],
   "source": [
    "result_df.columns"
   ]
  },
  {
   "cell_type": "code",
   "execution_count": 80,
   "id": "1fdc6435-19e3-499a-a0dc-45acb2a7855b",
   "metadata": {},
   "outputs": [
    {
     "data": {
      "text/html": [
       "<div>\n",
       "<style scoped>\n",
       "    .dataframe tbody tr th:only-of-type {\n",
       "        vertical-align: middle;\n",
       "    }\n",
       "\n",
       "    .dataframe tbody tr th {\n",
       "        vertical-align: top;\n",
       "    }\n",
       "\n",
       "    .dataframe thead th {\n",
       "        text-align: right;\n",
       "    }\n",
       "</style>\n",
       "<table border=\"1\" class=\"dataframe\">\n",
       "  <thead>\n",
       "    <tr style=\"text-align: right;\">\n",
       "      <th></th>\n",
       "      <th></th>\n",
       "      <th></th>\n",
       "      <th>consommation_brute_electricite_rte</th>\n",
       "    </tr>\n",
       "    <tr>\n",
       "      <th>code_insee_region</th>\n",
       "      <th>date</th>\n",
       "      <th>heure</th>\n",
       "      <th></th>\n",
       "    </tr>\n",
       "  </thead>\n",
       "  <tbody>\n",
       "    <tr>\n",
       "      <th rowspan=\"5\" valign=\"top\">11</th>\n",
       "      <th rowspan=\"5\" valign=\"top\">2013-01-01</th>\n",
       "      <th>00:30</th>\n",
       "      <td>9134.0</td>\n",
       "    </tr>\n",
       "    <tr>\n",
       "      <th>01:00</th>\n",
       "      <td>8822.0</td>\n",
       "    </tr>\n",
       "    <tr>\n",
       "      <th>01:30</th>\n",
       "      <td>8499.0</td>\n",
       "    </tr>\n",
       "    <tr>\n",
       "      <th>02:00</th>\n",
       "      <td>8229.0</td>\n",
       "    </tr>\n",
       "    <tr>\n",
       "      <th>02:30</th>\n",
       "      <td>8150.0</td>\n",
       "    </tr>\n",
       "    <tr>\n",
       "      <th>...</th>\n",
       "      <th>...</th>\n",
       "      <th>...</th>\n",
       "      <td>...</td>\n",
       "    </tr>\n",
       "    <tr>\n",
       "      <th rowspan=\"5\" valign=\"top\">93</th>\n",
       "      <th rowspan=\"5\" valign=\"top\">2023-08-31</th>\n",
       "      <th>21:30</th>\n",
       "      <td>4120.0</td>\n",
       "    </tr>\n",
       "    <tr>\n",
       "      <th>22:00</th>\n",
       "      <td>3978.0</td>\n",
       "    </tr>\n",
       "    <tr>\n",
       "      <th>22:30</th>\n",
       "      <td>4188.0</td>\n",
       "    </tr>\n",
       "    <tr>\n",
       "      <th>23:00</th>\n",
       "      <td>4244.0</td>\n",
       "    </tr>\n",
       "    <tr>\n",
       "      <th>23:30</th>\n",
       "      <td>4050.0</td>\n",
       "    </tr>\n",
       "  </tbody>\n",
       "</table>\n",
       "<p>2243508 rows × 1 columns</p>\n",
       "</div>"
      ],
      "text/plain": [
       "                                    consommation_brute_electricite_rte\n",
       "code_insee_region date       heure                                    \n",
       "11                2013-01-01 00:30                              9134.0\n",
       "                             01:00                              8822.0\n",
       "                             01:30                              8499.0\n",
       "                             02:00                              8229.0\n",
       "                             02:30                              8150.0\n",
       "...                                                                ...\n",
       "93                2023-08-31 21:30                              4120.0\n",
       "                             22:00                              3978.0\n",
       "                             22:30                              4188.0\n",
       "                             23:00                              4244.0\n",
       "                             23:30                              4050.0\n",
       "\n",
       "[2243508 rows x 1 columns]"
      ]
     },
     "execution_count": 80,
     "metadata": {},
     "output_type": "execute_result"
    }
   ],
   "source": [
    "result_df_hour"
   ]
  },
  {
   "cell_type": "code",
   "execution_count": 82,
   "id": "69da7f5a-cf83-47bb-a34a-83c3b56c9a32",
   "metadata": {},
   "outputs": [
    {
     "data": {
      "text/html": [
       "<div>\n",
       "<style scoped>\n",
       "    .dataframe tbody tr th:only-of-type {\n",
       "        vertical-align: middle;\n",
       "    }\n",
       "\n",
       "    .dataframe tbody tr th {\n",
       "        vertical-align: top;\n",
       "    }\n",
       "\n",
       "    .dataframe thead th {\n",
       "        text-align: right;\n",
       "    }\n",
       "</style>\n",
       "<table border=\"1\" class=\"dataframe\">\n",
       "  <thead>\n",
       "    <tr style=\"text-align: right;\">\n",
       "      <th></th>\n",
       "      <th></th>\n",
       "      <th>consommation_brute_electricite_rte</th>\n",
       "    </tr>\n",
       "    <tr>\n",
       "      <th>code_insee_region</th>\n",
       "      <th>date</th>\n",
       "      <th></th>\n",
       "    </tr>\n",
       "  </thead>\n",
       "  <tbody>\n",
       "    <tr>\n",
       "      <th rowspan=\"5\" valign=\"top\">11</th>\n",
       "      <th>2013-01-01</th>\n",
       "      <td>8497.702128</td>\n",
       "    </tr>\n",
       "    <tr>\n",
       "      <th>2013-01-02</th>\n",
       "      <td>10253.270833</td>\n",
       "    </tr>\n",
       "    <tr>\n",
       "      <th>2013-01-03</th>\n",
       "      <td>10148.145833</td>\n",
       "    </tr>\n",
       "    <tr>\n",
       "      <th>2013-01-04</th>\n",
       "      <td>9792.770833</td>\n",
       "    </tr>\n",
       "    <tr>\n",
       "      <th>2013-01-05</th>\n",
       "      <td>9036.083333</td>\n",
       "    </tr>\n",
       "    <tr>\n",
       "      <th>...</th>\n",
       "      <th>...</th>\n",
       "      <td>...</td>\n",
       "    </tr>\n",
       "    <tr>\n",
       "      <th rowspan=\"5\" valign=\"top\">93</th>\n",
       "      <th>2023-08-27</th>\n",
       "      <td>3913.729167</td>\n",
       "    </tr>\n",
       "    <tr>\n",
       "      <th>2023-08-28</th>\n",
       "      <td>3947.125000</td>\n",
       "    </tr>\n",
       "    <tr>\n",
       "      <th>2023-08-29</th>\n",
       "      <td>4002.145833</td>\n",
       "    </tr>\n",
       "    <tr>\n",
       "      <th>2023-08-30</th>\n",
       "      <td>4075.666667</td>\n",
       "    </tr>\n",
       "    <tr>\n",
       "      <th>2023-08-31</th>\n",
       "      <td>4080.729167</td>\n",
       "    </tr>\n",
       "  </tbody>\n",
       "</table>\n",
       "<p>46740 rows × 1 columns</p>\n",
       "</div>"
      ],
      "text/plain": [
       "                              consommation_brute_electricite_rte\n",
       "code_insee_region date                                          \n",
       "11                2013-01-01                         8497.702128\n",
       "                  2013-01-02                        10253.270833\n",
       "                  2013-01-03                        10148.145833\n",
       "                  2013-01-04                         9792.770833\n",
       "                  2013-01-05                         9036.083333\n",
       "...                                                          ...\n",
       "93                2023-08-27                         3913.729167\n",
       "                  2023-08-28                         3947.125000\n",
       "                  2023-08-29                         4002.145833\n",
       "                  2023-08-30                         4075.666667\n",
       "                  2023-08-31                         4080.729167\n",
       "\n",
       "[46740 rows x 1 columns]"
      ]
     },
     "execution_count": 82,
     "metadata": {},
     "output_type": "execute_result"
    }
   ],
   "source": [
    "result_df"
   ]
  },
  {
   "cell_type": "code",
   "execution_count": 75,
   "id": "225ca00b-6dd5-41a1-9e67-84fa0793f5e2",
   "metadata": {},
   "outputs": [
    {
     "data": {
      "text/plain": [
       "46740"
      ]
     },
     "execution_count": 75,
     "metadata": {},
     "output_type": "execute_result"
    }
   ],
   "source": [
    "len(result_df)"
   ]
  },
  {
   "cell_type": "code",
   "execution_count": 50,
   "id": "d94df503-b1f5-470e-b71c-87d725e78039",
   "metadata": {},
   "outputs": [],
   "source": [
    "df = df.sort_index()\n",
    "df_aggregated = df.groupby(df.index.date)['consommation_brute_electricite_rte'].mean()\n",
    "df_aggregated = df_aggregated.to_frame(name='consommation_brute_electricite_rte')"
   ]
  },
  {
   "cell_type": "code",
   "execution_count": 51,
   "id": "c4dcb51d-cfcc-4871-8a44-0b20ec691301",
   "metadata": {},
   "outputs": [
    {
     "data": {
      "text/html": [
       "<div>\n",
       "<style scoped>\n",
       "    .dataframe tbody tr th:only-of-type {\n",
       "        vertical-align: middle;\n",
       "    }\n",
       "\n",
       "    .dataframe tbody tr th {\n",
       "        vertical-align: top;\n",
       "    }\n",
       "\n",
       "    .dataframe thead th {\n",
       "        text-align: right;\n",
       "    }\n",
       "</style>\n",
       "<table border=\"1\" class=\"dataframe\">\n",
       "  <thead>\n",
       "    <tr style=\"text-align: right;\">\n",
       "      <th></th>\n",
       "      <th>consommation_brute_electricite_rte</th>\n",
       "    </tr>\n",
       "  </thead>\n",
       "  <tbody>\n",
       "    <tr>\n",
       "      <th>2013-01-01</th>\n",
       "      <td>4532.969858</td>\n",
       "    </tr>\n",
       "    <tr>\n",
       "      <th>2013-01-02</th>\n",
       "      <td>5374.295139</td>\n",
       "    </tr>\n",
       "    <tr>\n",
       "      <th>2013-01-03</th>\n",
       "      <td>5553.409722</td>\n",
       "    </tr>\n",
       "    <tr>\n",
       "      <th>2013-01-04</th>\n",
       "      <td>5436.456597</td>\n",
       "    </tr>\n",
       "    <tr>\n",
       "      <th>2013-01-05</th>\n",
       "      <td>5011.843750</td>\n",
       "    </tr>\n",
       "  </tbody>\n",
       "</table>\n",
       "</div>"
      ],
      "text/plain": [
       "            consommation_brute_electricite_rte\n",
       "2013-01-01                         4532.969858\n",
       "2013-01-02                         5374.295139\n",
       "2013-01-03                         5553.409722\n",
       "2013-01-04                         5436.456597\n",
       "2013-01-05                         5011.843750"
      ]
     },
     "execution_count": 51,
     "metadata": {},
     "output_type": "execute_result"
    }
   ],
   "source": [
    "df_aggregated.head()"
   ]
  },
  {
   "cell_type": "code",
   "execution_count": 52,
   "id": "dc80d1de-77ae-4126-882f-282a1e26b75a",
   "metadata": {},
   "outputs": [
    {
     "data": {
      "text/plain": [
       "3895"
      ]
     },
     "execution_count": 52,
     "metadata": {},
     "output_type": "execute_result"
    }
   ],
   "source": [
    "len(df_aggregated)\n"
   ]
  },
  {
   "cell_type": "code",
   "execution_count": 55,
   "id": "9354c9fa-0700-4f8f-b20d-70130806a832",
   "metadata": {},
   "outputs": [
    {
     "data": {
      "text/plain": [
       "date\n",
       "2013-01-01    4532.969858\n",
       "2013-01-02    5374.295139\n",
       "2013-01-03    5553.409722\n",
       "2013-01-04    5436.456597\n",
       "2013-01-05    5011.843750\n",
       "Freq: D, Name: consommation_brute_electricite_rte, dtype: float64"
      ]
     },
     "execution_count": 55,
     "metadata": {},
     "output_type": "execute_result"
    }
   ],
   "source": [
    "df_resampled = df.resample('D')['consommation_brute_electricite_rte'].mean()\n",
    "df_resampled.head()"
   ]
  },
  {
   "cell_type": "code",
   "execution_count": null,
   "id": "7be15943-20a2-44fa-902e-a3e2ec29a244",
   "metadata": {},
   "outputs": [],
   "source": []
  }
 ],
 "metadata": {
  "kernelspec": {
   "display_name": "Python 3 (ipykernel)",
   "language": "python",
   "name": "python3"
  },
  "language_info": {
   "codemirror_mode": {
    "name": "ipython",
    "version": 3
   },
   "file_extension": ".py",
   "mimetype": "text/x-python",
   "name": "python",
   "nbconvert_exporter": "python",
   "pygments_lexer": "ipython3",
   "version": "3.10.12"
  }
 },
 "nbformat": 4,
 "nbformat_minor": 5
}
